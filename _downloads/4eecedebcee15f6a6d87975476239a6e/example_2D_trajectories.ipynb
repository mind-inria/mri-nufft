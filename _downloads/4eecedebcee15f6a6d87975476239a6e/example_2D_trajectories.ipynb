{
  "cells": [
    {
      "cell_type": "markdown",
      "metadata": {},
      "source": [
        "\n# 2D Trajectories\n\nA collection of 2D non-Cartesian trajectories with analytical definitions.\n"
      ]
    },
    {
      "cell_type": "markdown",
      "metadata": {},
      "source": [
        "Hereafter we detail and illustrate the different arguments used in the\nparameterization of 2D non-Cartesian trajectories. Since most arguments\nare redundant across the different patterns, some of the documentation\nwill refer to previous patterns for explanation.\n\n\n"
      ]
    },
    {
      "cell_type": "code",
      "execution_count": null,
      "metadata": {
        "collapsed": false
      },
      "outputs": [],
      "source": [
        "# External\nimport matplotlib.pyplot as plt\nimport numpy as np\nfrom utils import show_trajectories, show_trajectory\n\n# Internal\nimport mrinufft as mn\nimport mrinufft.trajectories.maths as mntm\nfrom mrinufft import display_2D_trajectory"
      ]
    },
    {
      "cell_type": "markdown",
      "metadata": {},
      "source": [
        "## Script options\nThese options are used in the examples below as default values for all trajectories.\n\n"
      ]
    },
    {
      "cell_type": "code",
      "execution_count": null,
      "metadata": {
        "collapsed": false
      },
      "outputs": [],
      "source": [
        "# Trajectory parameters\nNc = 24  # Number of shots\nNs = 256  # Number of samples per shot\nin_out = True  # Choose between in-out or center-out trajectories\ntilt = \"uniform\"  # Choose the angular distance between shots\nnb_repetitions = 6  # Number of strips when relevant\nseed = 0  # Seed for random trajectories\n\n# Display parameters\nfigure_size = 6  # Figure size for trajectory plots\nsubfigure_size = 3  # Figure size for subplots\none_shot = True  # Highlight one shot in particular"
      ]
    },
    {
      "cell_type": "markdown",
      "metadata": {},
      "source": [
        "## Circular patterns\n\n### Radial\n\nThe most basic non-Cartesian trajectory composed of straight lines with\nno customization arguments besides the common ones.\n\nArguments:\n\n- ``Nc (int)``: number of individual shots\n- ``Ns (int)``: number of samples per shot\n- ``tilt (str, float)``: angle between each consecutive shot (in radians) ``(default \"uniform\")``\n- ``in_out (bool)``: define whether the shots should travel toward the center\n  then outside (in-out) or not (center-out). ``(default False)``\n\n\n"
      ]
    },
    {
      "cell_type": "code",
      "execution_count": null,
      "metadata": {
        "collapsed": false
      },
      "outputs": [],
      "source": [
        "trajectory = mn.initialize_2D_radial(Nc, Ns, tilt=tilt, in_out=in_out)\nshow_trajectory(trajectory, figure_size=figure_size, one_shot=one_shot)"
      ]
    },
    {
      "cell_type": "markdown",
      "metadata": {},
      "source": [
        "#### ``Nc (int)``\n\nThe number of individual shots, here straight lines, used to cover the\nk-space. More shots means better coverage but also longer acquisitions.\n\n\n"
      ]
    },
    {
      "cell_type": "code",
      "execution_count": null,
      "metadata": {
        "collapsed": false
      },
      "outputs": [],
      "source": [
        "arguments = [8, 16, 32, 64]\nfunction = lambda x: mn.initialize_2D_radial(x, Ns, tilt=tilt, in_out=in_out)\nshow_trajectories(function, arguments, one_shot=one_shot, subfig_size=subfigure_size)"
      ]
    },
    {
      "cell_type": "markdown",
      "metadata": {},
      "source": [
        "#### ``Ns (int)``\n\nThe number of samples per shot. More samples means the lines are split\ninto more smaller segments, and therefore either the acquisition window\nis lengthened or the sampling rate is increased.\n\n\n"
      ]
    },
    {
      "cell_type": "code",
      "execution_count": null,
      "metadata": {
        "collapsed": false
      },
      "outputs": [],
      "source": [
        "arguments = [8, 16, 32, 64]\nfunction = lambda x: mn.initialize_2D_radial(Nc, x, tilt=tilt, in_out=in_out)\nshow_trajectories(function, arguments, one_shot=one_shot, subfig_size=subfigure_size)"
      ]
    },
    {
      "cell_type": "markdown",
      "metadata": {},
      "source": [
        "#### ``tilt (str, float)``\n\nThe angle between each consecutive shots, either in radians or as a\nstring defining some default mods such as \u201cuniform\u201d for\n$2 \\pi / N_c$, or \u201cgolden\u201d and \u201cmri golden\u201d for the different\ncommon definitions of golden angles. The angle is automatically adapted\nwhen the ``in_out`` argument is switched to keep the same behavior.\n\n\n"
      ]
    },
    {
      "cell_type": "code",
      "execution_count": null,
      "metadata": {
        "collapsed": false
      },
      "outputs": [],
      "source": [
        "arguments = [\"uniform\", \"golden\", \"mri-golden\", np.pi / 17]\nfunction = lambda x: mn.initialize_2D_radial(Nc, Ns, tilt=x, in_out=in_out)\nshow_trajectories(function, arguments, one_shot=one_shot, subfig_size=subfigure_size)"
      ]
    },
    {
      "cell_type": "markdown",
      "metadata": {},
      "source": [
        "#### ``in_out (bool)``\n\nIt allows to switch between different ways to define how the shot should\ntravel through the k-space:\n\n- in-out: starting from the outer regions, then passing through the center\n  then going back to outer regions, often on the opposite side (radial, cones)\n- center-out or center-center: when ``in_out=False`` the trajectory will start\n  at the center, but depending on the specific trajectory formula the path might\n  end up in the outer regions (radial, spiral, cones, etc) or back to the center (rosette,\n  lissajous).\n\nNote that the behavior of ``tilt`` is automatically adapted to the changes to avoid having\nto update it too when switching ``in_out``.\n\n\n"
      ]
    },
    {
      "cell_type": "code",
      "execution_count": null,
      "metadata": {
        "collapsed": false
      },
      "outputs": [],
      "source": [
        "arguments = [True, False]\nfunction = lambda x: mn.initialize_2D_radial(Nc, Ns, tilt=tilt, in_out=x)\nshow_trajectories(function, arguments, one_shot=one_shot, subfig_size=subfigure_size)"
      ]
    },
    {
      "cell_type": "markdown",
      "metadata": {},
      "source": [
        "### Spiral\n\nA generalized function that generates algebraic spirals defined\nthrough the $r = a \\theta^n$ equation, with $r$ the radius,\n$\\theta$ the polar angle and $n$ the spiral power.\nCommon algebraic spirals include Archimedes, Fermat and Galilean spirals.\n\nArguments:\n\n- ``Nc (int)``: number of individual shots. See radial\n- ``Ns (int)``: number of samples per shot. See radial\n- ``tilt (str, float)``: angle between each consecutive shot (in radians).\n  ``(default \"uniform\")``. See radial\n- ``in_out (bool)``: define whether the shots should travel toward the center\n  then outside (in-out) or not (center-out). ``(default False)``. See radial\n- ``nb_revolutions (float)``: number of revolutions performed from the\n  center. ``(default 1)``\n- ``spiral (str, float)``: type of spiral defined through the above-mentionned equation.\n  ``(default \"archimedes\")``\n\n\n"
      ]
    },
    {
      "cell_type": "code",
      "execution_count": null,
      "metadata": {
        "collapsed": false
      },
      "outputs": [],
      "source": [
        "trajectory = mn.initialize_2D_spiral(Nc, Ns, tilt=tilt, in_out=in_out)\nshow_trajectory(trajectory, figure_size=figure_size, one_shot=one_shot)"
      ]
    },
    {
      "cell_type": "markdown",
      "metadata": {},
      "source": [
        "#### ``nb_revolutions (float)``\n\nThe number of revolutions performed from the center (i.e.\u00a0performed\ntwice for in-out trajectories).\n\n\n"
      ]
    },
    {
      "cell_type": "code",
      "execution_count": null,
      "metadata": {
        "collapsed": false
      },
      "outputs": [],
      "source": [
        "arguments = [1 / 8, 1 / 2, 1, 3]\nfunction = lambda x: mn.initialize_2D_spiral(\n    Nc, Ns, tilt=tilt, nb_revolutions=x, in_out=in_out\n)\nshow_trajectories(function, arguments, one_shot=one_shot, subfig_size=subfigure_size)"
      ]
    },
    {
      "cell_type": "markdown",
      "metadata": {},
      "source": [
        "#### ``spiral (str, float)``\n\nThe algebraic spiral power defined through $n$ in the\n$r = a \\theta^n$ equality, with $r$ the radius and\n$\\theta$ the polar angle. It defines the gradient behavior,\nand therefore the distance between consecutive points and the shape\nof the spiral. It does not affect the number of revolutions, but\nrather the curve length and point distribution. Spirals with small\n$n$ (close to 0) tend to have radial behaviors\naround the center, and dedicate more points towards curved edges.\n\n``\"archimedes\"`` (1), ``\"fermat\"`` (0.5) and ``\"galilean\"`` (2) are available\nas string options for convenience. Algebraic spirals with negative powers,\nsuch as hyperbolic or lithuus spirals, are not considered relevant because\nof their asymptotic behavior around the center.\n\n\n"
      ]
    },
    {
      "cell_type": "code",
      "execution_count": null,
      "metadata": {
        "collapsed": false
      },
      "outputs": [],
      "source": [
        "arguments = [\"galilean\", \"archimedes\", \"fermat\", 1 / 4]\nfunction = lambda x: mn.initialize_2D_spiral(Nc, Ns, tilt=tilt, spiral=x, in_out=in_out)\nshow_trajectories(function, arguments, one_shot=one_shot, subfig_size=subfigure_size)"
      ]
    },
    {
      "cell_type": "markdown",
      "metadata": {},
      "source": [
        "#### ``patch_center (float)``\n\nA slew rate anomaly is present at the center of algebraic spirals\nwhen their power is inferior to 1 (e.g. Fermat's) and parameterized\nthrough their angles in the above equation.\n\nTo fix this problem, points at the center are re-arranged along\nthe spiral until the gradients are monotically increasing from\nthe center to the edges. This correction can be deactivated,\nbut it is generally preferred to keep it.\n\nThe spiral path is not changed, but the density can be altered\nover the first few samples. However the difference is extremely\nsubtle, as shown below.\n\n\n"
      ]
    },
    {
      "cell_type": "code",
      "execution_count": null,
      "metadata": {
        "collapsed": false
      },
      "outputs": [],
      "source": [
        "arguments = [False, True]\nfunction = lambda x: mn.initialize_2D_spiral(\n    Nc,\n    Ns,\n    patch_center=x,\n)\nshow_trajectories(function, arguments, one_shot=one_shot, subfig_size=subfigure_size)"
      ]
    },
    {
      "cell_type": "markdown",
      "metadata": {},
      "source": [
        "### Fibonacci spiral\n\nA non-algebraic spiral trajectory based on the Fibonacci sequence,\nreproducing the proposition from [CA99]_ in order to generate\na uniform distribution with center-out shots.\n\nThe number of shots is required to belong to the Fibonacci\nsequence for the trajectory definition to be relevant.\n\nArguments:\n\n- ``Nc (int)``: number of individual shots. See radial\n- ``Ns (int)``: number of samples per shot. See radial\n- ``spiral_reduction (float)``: factor used to reduce the automatic spiral length. ``(default 1)``\n- ``patch_center (bool)``: whether the spiral anomaly at the center should be patched.\n  ``(default True)``\n\n\n"
      ]
    },
    {
      "cell_type": "code",
      "execution_count": null,
      "metadata": {
        "collapsed": false
      },
      "outputs": [],
      "source": [
        "Nc_fibonacci = mntm.get_closest_fibonacci_number(Nc)\ntrajectory = mn.initialize_2D_fibonacci_spiral(Nc_fibonacci, Ns)\nshow_trajectory(trajectory, figure_size=figure_size, one_shot=one_shot)"
      ]
    },
    {
      "cell_type": "markdown",
      "metadata": {},
      "source": [
        "#### ``spiral_reduction (float)``\n\nFactor used to reduce the automatic spiral length. In opposition to\n``initialize_2D_spiral``, the number of spiral revolutions here\nis automatically determined from ``Ns`` and ``Nc`` to match a uniform\ndensity over the k-space sphere. It can lead to unrealistically\nstrong gradients, and therefore we provide this factor to reduce the\nspiral length, which makes k-space denser along the shorter shots.\n\n\n"
      ]
    },
    {
      "cell_type": "code",
      "execution_count": null,
      "metadata": {
        "collapsed": false
      },
      "outputs": [],
      "source": [
        "arguments = [0.5, 1, 2, 3]\nfunction = lambda x: mn.initialize_2D_fibonacci_spiral(\n    Nc_fibonacci,\n    Ns,\n    spiral_reduction=x,\n)\nshow_trajectories(function, arguments, one_shot=one_shot, subfig_size=subfigure_size)"
      ]
    },
    {
      "cell_type": "markdown",
      "metadata": {},
      "source": [
        "#### ``patch_center (float)``\n\nSimilarly to algebraic spirals from ``initialize_2D_spiral``,\nthe trajectory definition creates small anomalies at the center\nthat makes slew rate requirements needlessly high.\n\nIt is here related to the uniform density that requires central\nsamples to be more strongly spaced than anywhere else because\nmost shots start close to the center.\n\nThe spiral path can be altered over the first few samples,\nbut generally the difference is extremely subtle, as shown\nbelow.\n\n\n"
      ]
    },
    {
      "cell_type": "code",
      "execution_count": null,
      "metadata": {
        "collapsed": false
      },
      "outputs": [],
      "source": [
        "arguments = [False, True]\nfunction = lambda x: mn.initialize_2D_fibonacci_spiral(\n    Nc_fibonacci,\n    Ns,\n    patch_center=x,\n)\nshow_trajectories(function, arguments, one_shot=one_shot, subfig_size=subfigure_size)"
      ]
    },
    {
      "cell_type": "markdown",
      "metadata": {},
      "source": [
        "### Cones\n\nA radial-like trajectory zigzaging within cones over the k-space to\noffer a better coverage than radial with more customization parameters.\n\nArguments:\n\n- ``Nc (int)``: number of individual shots. See radial\n- ``Ns (int)``: number of samples per shot. See radial\n- ``tilt (str, float)``: angle between each consecutive shot (in radians).\n  ``(default \"uniform\")``. See radial\n- ``in_out (bool)``: define whether the shots should travel toward the center\n  then outside (in-out) or not (center-out). ``(default False)``. See radial\n- ``nb_zigzags (float)``: number of sinusoidal patterns over a center-out shot.\n  ``(default 5)``\n- ``width (float)``: cone width factor, normalized to cover the k-space by default.\n  ``(default 1)``\n\n\n"
      ]
    },
    {
      "cell_type": "code",
      "execution_count": null,
      "metadata": {
        "collapsed": false
      },
      "outputs": [],
      "source": [
        "trajectory = mn.initialize_2D_cones(Nc, Ns, tilt=tilt, in_out=in_out)\nshow_trajectory(trajectory, figure_size=figure_size, one_shot=one_shot)"
      ]
    },
    {
      "cell_type": "markdown",
      "metadata": {},
      "source": [
        "#### ``nb_zigzags (float)``\n\nThe number of \u201czigzags\u201d, or sinusoidal patterns present over a center-out shot\n(doubled overall for in-out trajectories)\n\n\n"
      ]
    },
    {
      "cell_type": "code",
      "execution_count": null,
      "metadata": {
        "collapsed": false
      },
      "outputs": [],
      "source": [
        "arguments = [0.5, 2, 5, 10]\nfunction = lambda x: mn.initialize_2D_cones(\n    Nc, Ns, tilt=tilt, in_out=in_out, nb_zigzags=x\n)\nshow_trajectories(function, arguments, one_shot=one_shot, subfig_size=subfigure_size)"
      ]
    },
    {
      "cell_type": "markdown",
      "metadata": {},
      "source": [
        "#### ``width (float)``\n\nThe cone width normalized such that ``width = 1`` corresponds to\nnon-overlapping cones covering the whole k-space circle, and\ntherefore ``width > 1`` creates overlap between cone regions and\n``width < 1`` tends to more radial patterns.\n\n\n"
      ]
    },
    {
      "cell_type": "code",
      "execution_count": null,
      "metadata": {
        "collapsed": false
      },
      "outputs": [],
      "source": [
        "arguments = [0.2, 1, 2, 3]\nfunction = lambda x: mn.initialize_2D_cones(Nc, Ns, tilt=tilt, in_out=in_out, width=x)\nshow_trajectories(function, arguments, one_shot=one_shot, subfig_size=subfigure_size)"
      ]
    },
    {
      "cell_type": "markdown",
      "metadata": {},
      "source": [
        "### Sinusoide\n\nAnother radial-like trajectory zigzaging similarly to cones, but over a\nwhole band rather than cones reduced towards the center.\n\nArguments:\n\n- ``Nc (int)``: number of individual shots. See radial\n- ``Ns (int)``: number of samples per shot. See radial\n- ``tilt (str, float)``: angle between each consecutive shot (in radians).\n- ``(default \"uniform\")``. See radial\n- ``in_out (bool)``: define whether the shots should travel toward the center\n  then outside (in-out) or not (center-out). ``(default False)``. See radial\n- ``nb_zigzags (float)``: number of sinusoidal patterns over a center-out shot.\n  ``(default 5)``. See cones\n- ``width (float)``: shot width factor, normalized to cover the k-space by default.\n  ``(default 1)``. See cones\n\n\n"
      ]
    },
    {
      "cell_type": "code",
      "execution_count": null,
      "metadata": {
        "collapsed": false
      },
      "outputs": [],
      "source": [
        "trajectory = mn.initialize_2D_sinusoide(Nc, Ns, tilt=tilt, in_out=in_out)\nshow_trajectory(trajectory, figure_size=figure_size, one_shot=one_shot)"
      ]
    },
    {
      "cell_type": "markdown",
      "metadata": {},
      "source": [
        "### PROPELLER\n\nThe PROPELLER trajectory is generally used along a specific\nreconstruction pipeline described in [Pip99]_ to correct for\nmotion artifacts.\n\nThe acronym PROPELLER stands for Periodically Rotated\nOverlapping ParallEL Lines with Enhanced Reconstruction,\nand the method is also commonly known under other aliases\ndepending on the vendor, with some variations: BLADE,\nMulitVane, RADAR, JET.\n\nArguments:\n\n- ``Nc (int)``: number of individual shots. See radial\n- ``Ns (int)``: number of samples per shot. See radial\n- ``nb_strips (int)``: number of strips covering the k-space.\n  ``(default \"uniform\")``. See radial\n\n\n"
      ]
    },
    {
      "cell_type": "code",
      "execution_count": null,
      "metadata": {
        "collapsed": false
      },
      "outputs": [],
      "source": [
        "trajectory = mn.initialize_2D_propeller(Nc, Ns, nb_strips=nb_repetitions)\nshow_trajectory(trajectory, figure_size=figure_size, one_shot=one_shot)"
      ]
    },
    {
      "cell_type": "markdown",
      "metadata": {},
      "source": [
        "#### ``nb_strips (int)``\n\nThe number of individual strips dividing the k-space circle. It must divide\nthe number of shots ``Nc``, and it is recommended to choose it such that the\nratio is even to cover the center.\n\n\n"
      ]
    },
    {
      "cell_type": "code",
      "execution_count": null,
      "metadata": {
        "collapsed": false
      },
      "outputs": [],
      "source": [
        "arguments = [2, 3, 4, 6]\nfunction = lambda x: mn.initialize_2D_propeller(Nc, Ns, nb_strips=x)\nshow_trajectories(function, arguments, one_shot=one_shot, subfig_size=subfigure_size)"
      ]
    },
    {
      "cell_type": "markdown",
      "metadata": {},
      "source": [
        "### Rings\n\nA pattern composed of concentric circles like a target, with each\nring composed of one or more shots . This trajectory was initially\nproposed in [WLN08]_.\n\nArguments:\n\n- ``Nc (int)``: number of individual shots. See radial\n- ``Ns (int)``: number of samples per shot. See radial\n- ``nb_rings (int)``: number of rings used to partition the k-space.\n  It should be lower than or equal to ``Nc``.\n\n\n"
      ]
    },
    {
      "cell_type": "code",
      "execution_count": null,
      "metadata": {
        "collapsed": false
      },
      "outputs": [],
      "source": [
        "trajectory = mn.initialize_2D_rings(Nc, Ns, nb_rings=Nc)\nshow_trajectory(trajectory, figure_size=figure_size, one_shot=one_shot)"
      ]
    },
    {
      "cell_type": "markdown",
      "metadata": {},
      "source": [
        "#### ``nb_rings (int)``\n\nThe number of rings used to partition the k-space. It should always be lower\nthan or equal to $N_c$ as the implementation does not permit shots to cover\nseveral rings. Note that to fully sample a k-space circle, it should be\nset around $FOV / (2 * resolution)$.\n\n\n"
      ]
    },
    {
      "cell_type": "code",
      "execution_count": null,
      "metadata": {
        "collapsed": false
      },
      "outputs": [],
      "source": [
        "arguments = [Nc, int(2 * Nc / 3), int(Nc / 3)]\nfunction = lambda x: mn.initialize_2D_rings(Nc=x, Ns=Ns, nb_rings=x)\nshow_trajectories(function, arguments, one_shot=one_shot, subfig_size=subfigure_size)"
      ]
    },
    {
      "cell_type": "markdown",
      "metadata": {},
      "source": [
        "This implementation allows using more shots than rings, and it will automatically\nattribute the additional shots to the longest rings to reduce the top gradient\namplitude and slew rate.\n\n\n"
      ]
    },
    {
      "cell_type": "code",
      "execution_count": null,
      "metadata": {
        "collapsed": false
      },
      "outputs": [],
      "source": [
        "arguments = [Nc, int(4 * Nc / 3), 2 * Nc]\nfunction = lambda x: mn.initialize_2D_rings(Nc=x, Ns=Ns, nb_rings=Nc)\nshow_trajectories(function, arguments, one_shot=one_shot, subfig_size=subfigure_size)"
      ]
    },
    {
      "cell_type": "markdown",
      "metadata": {},
      "source": [
        "### ECCENTRIC\n\nThis is a reproduction of the proposition from [Kla+24]_.\nIt creates trajectories as uniformly distributed circles,\nwith a pseudo rosette-like structure at the center to ensure\nits coverage. ECCENTRIC stands for ECcentric Circle ENcoding\nTRajectorIes for Compressed sensing.\n\nArguments:\n\n- ``Nc (int)``: number of individual shots. See radial\n- ``Ns (int)``: number of samples per shot. See radial\n- ``radius_ratio (float)``: radius of each circle relatively\n  to the k-space radius.\n- ``center_ratio (float)``: proportion of shots positioned around\n  the center into a pseudo-rosette pattern (default 0).\n- ``nb_revolutions (float)``: number of revolutions per circle\n  (default 1). See spiral\n- ``min_distance (float)``: minimum allowed distance between\n  consecutive circles relatively to the k-space radius (default 0).\n- ``seed (int)``: random seed for reproducibility, used only\n  to draw the circle centers (default None).\n\n"
      ]
    },
    {
      "cell_type": "code",
      "execution_count": null,
      "metadata": {
        "collapsed": false
      },
      "outputs": [],
      "source": [
        "trajectory = mn.initialize_2D_eccentric(Nc, Ns, radius_ratio=0.3, seed=seed)\nshow_trajectory(trajectory, figure_size=figure_size, one_shot=one_shot)"
      ]
    },
    {
      "cell_type": "markdown",
      "metadata": {},
      "source": [
        "#### ``radius_ratio (float)``\n\nThe radius of each circle relatively to the k-space radius. It should be below\n0.5 otherwise the shots are not able to cross the k-space center.\n\n\n"
      ]
    },
    {
      "cell_type": "code",
      "execution_count": null,
      "metadata": {
        "collapsed": false
      },
      "outputs": [],
      "source": [
        "arguments = [0.05, 0.2, 0.35, 0.5]\nfunction = lambda x: mn.initialize_2D_eccentric(Nc=Nc, Ns=Ns, radius_ratio=x, seed=seed)\nshow_trajectories(function, arguments, one_shot=one_shot, subfig_size=subfigure_size)"
      ]
    },
    {
      "cell_type": "markdown",
      "metadata": {},
      "source": [
        "#### ``center_ratio (float)``\n\nThe proportion of shots positioned around the center into a pseudo-rosette pattern.\nThe goal is to ensure its coverage despite the trajectories being random otherwise.\n\n\n"
      ]
    },
    {
      "cell_type": "code",
      "execution_count": null,
      "metadata": {
        "collapsed": false
      },
      "outputs": [],
      "source": [
        "arguments = [0, 0.3, 0.6, 1]\nfunction = lambda x: mn.initialize_2D_eccentric(\n    Nc=Nc, Ns=Ns, radius_ratio=0.3, center_ratio=x, seed=seed\n)\nshow_trajectories(function, arguments, one_shot=one_shot, subfig_size=subfigure_size)"
      ]
    },
    {
      "cell_type": "markdown",
      "metadata": {},
      "source": [
        "### Rosette\n\nA repeating pattern composed of a single long curve going through the\ncenter multiple times and split into multiple shots.\n\nArguments:\n\n- ``Nc (int)``: number of individual shots. See radial\n- ``Ns (int)``: number of samples per shot. See radial\n- ``in_out (bool)``: define whether the shots should travel toward the center\n  then outside (in-out) or not (center-out). ``(default False)``. See radial\n- ``coprime_index (int)``: the index of the coprime factor used\n  to define the shot curvature. ``(default 0)``\n\n\n"
      ]
    },
    {
      "cell_type": "code",
      "execution_count": null,
      "metadata": {
        "collapsed": false
      },
      "outputs": [],
      "source": [
        "trajectory = mn.initialize_2D_rosette(Nc, Ns, in_out=in_out)\nshow_trajectory(trajectory, figure_size=figure_size, one_shot=one_shot)"
      ]
    },
    {
      "cell_type": "markdown",
      "metadata": {},
      "source": [
        "#### ``coprime_index (int)``\n\nThe index used to select a compatible coprime factor, parameterized such\nthat trajectories keep $N_c$ petals while increasing their width,\ni.e. increasing the curvature of the shots. This argument is quite\ncomplex with regard to the original formula in order to remain easily\ninterpretable, user-friendly and optimal for MR use cases. For more\ndetails, please consult this `Wikipedia page`_.\n\n\n\n"
      ]
    },
    {
      "cell_type": "code",
      "execution_count": null,
      "metadata": {
        "collapsed": false
      },
      "outputs": [],
      "source": [
        "arguments = [0, 1, 5, 10]\nfunction = lambda x: mn.initialize_2D_rosette(Nc, Ns, in_out=in_out, coprime_index=x)\nshow_trajectories(function, arguments, one_shot=one_shot, subfig_size=subfigure_size)"
      ]
    },
    {
      "cell_type": "markdown",
      "metadata": {},
      "source": [
        "### Polar Lissajous\n\nA polar version of the Lissajous curve, repeating pattern composed of a\nsingle long curve going through the center multiple times and split into\nmultiple shots.\n\nArguments:\n\n- ``Nc (int)``: number of individual shots. See radial\n- ``Ns (int)``: number of samples per shot. See radial\n- ``in_out (bool)``: define whether the shots should travel toward the center\n  then outside (in-out) or not (center-out). ``(default False)``. See radial\n- ``coprime_index (int)``: the index of the coprime factor used # to define\n  the shot curvature. ``(default 0)``\n- ``nb_segments (int)``: number of indepedent Lissajous curves covering\n  different segments of the k-space. ``(default 1)``\n\n\n"
      ]
    },
    {
      "cell_type": "code",
      "execution_count": null,
      "metadata": {
        "collapsed": false
      },
      "outputs": [],
      "source": [
        "trajectory = mn.initialize_2D_polar_lissajous(Nc, Ns, in_out=in_out)\nshow_trajectory(trajectory, figure_size=figure_size, one_shot=one_shot)"
      ]
    },
    {
      "cell_type": "markdown",
      "metadata": {},
      "source": [
        "#### ``coprime_index (int)``\n\nThe index used to select a compatible coprime factor, and impacting the\nshot curvature. For now, it is less trivial to select than for rosette\nbut it will be updated in the future.\n\n\n"
      ]
    },
    {
      "cell_type": "code",
      "execution_count": null,
      "metadata": {
        "collapsed": false
      },
      "outputs": [],
      "source": [
        "arguments = [0, 3, 12, 15]\nfunction = lambda x: mn.initialize_2D_polar_lissajous(\n    Nc, Ns, in_out=in_out, coprime_index=x\n)\nshow_trajectories(function, arguments, one_shot=one_shot, subfig_size=subfigure_size)"
      ]
    },
    {
      "cell_type": "markdown",
      "metadata": {},
      "source": [
        "#### ``nb_segments (int)``\n\nThe number of Lissajous curves and segmented regions of the k-space. The\npolar Lissajous curve natively puts emphasis on the center and along the\n$k_y$ axis, but can be parameterized to rather emphasize\n``nb_segments`` axes by reducing the coverage and duplicating a shorter\ncurve.\n\nIn the example below, ``nb_segments = 2`` emphasizes the diagonals as\ntwo Lissajous curves were created with each of them only covering two\nopposing quarters of the k-space. It implies that ``nb_segments`` should\nbe a divider of ``Nc``.\n\n\n"
      ]
    },
    {
      "cell_type": "code",
      "execution_count": null,
      "metadata": {
        "collapsed": false
      },
      "outputs": [],
      "source": [
        "arguments = [1, 2, 3, 4, 6, 8, 12]\nfunction = lambda x: mn.initialize_2D_polar_lissajous(\n    Nc, Ns, in_out=in_out, nb_segments=x\n)\nshow_trajectories(function, arguments, one_shot=one_shot, subfig_size=subfigure_size)"
      ]
    },
    {
      "cell_type": "markdown",
      "metadata": {},
      "source": [
        "#### Comments\n\nThis specific curve has never been used in MRI to the best of our\nknowledge, and was inspired by the `MathCurve page`_. It is heavily\nrelated to the rosette trajectory but parameterized in a much more\ncomplex way, as shown below when varying both ``coprime_index`` and\n``nb_segments``. It is not necessarily fit for MR applications, but was\nadded out of personal interest in an effort to explore potentially\nunexploited geometries.\n\n\n\n"
      ]
    },
    {
      "cell_type": "code",
      "execution_count": null,
      "metadata": {
        "collapsed": false
      },
      "outputs": [],
      "source": [
        "for io in [True, False]:\n    for cpi in [0, 6]:\n        arguments = [1, 2, 4, 12]\n        function = lambda x: mn.initialize_2D_polar_lissajous(\n            Nc, Ns, in_out=io, coprime_index=cpi, nb_segments=x\n        )\n        show_trajectories(\n            function, arguments, one_shot=one_shot, subfig_size=subfigure_size\n        )"
      ]
    },
    {
      "cell_type": "markdown",
      "metadata": {},
      "source": [
        "## Non-circular patterns\n\n### Waves\n\nAn extension of the Cartesian line-by-line pattern that simply adds sinusoidal\nvariations along the $k_y$ axis.\n\nArguments:\n\n- ``Nc (int)``: number of individual shots. See radial\n- ``Ns (int)``: number of samples per shot. See radial\n- ``nb_zigzags (float)``: number of sinusoide patterns along a line. ``(default 5)``\n- ``width (float)``: line width normalized such that a width of 1 corresponds\n  to covering the full band without overlapping other bands. ``(default 1)``\n\n\n"
      ]
    },
    {
      "cell_type": "code",
      "execution_count": null,
      "metadata": {
        "collapsed": false
      },
      "outputs": [],
      "source": [
        "trajectory = mn.initialize_2D_waves(Nc, Ns, nb_zigzags=5)\nshow_trajectory(trajectory, figure_size=figure_size, one_shot=one_shot)"
      ]
    },
    {
      "cell_type": "markdown",
      "metadata": {},
      "source": [
        "#### ``nb_zigzags (float)``\n\nThe number of sinusoidal patterns along a line, similar to cones and sinusoidal trajectories.\n\n\n"
      ]
    },
    {
      "cell_type": "code",
      "execution_count": null,
      "metadata": {
        "collapsed": false
      },
      "outputs": [],
      "source": [
        "arguments = [1, 2.5, 5, 10]\nfunction = lambda x: mn.initialize_2D_waves(Nc, Ns, nb_zigzags=x)\nshow_trajectories(function, arguments, one_shot=one_shot, subfig_size=subfigure_size)"
      ]
    },
    {
      "cell_type": "markdown",
      "metadata": {},
      "source": [
        "#### ``width (float)``\n\nThe line width normalized such that ``width = 1`` corresponds to\nnon-overlapping lines covering (almost) uniformly the whole k-space, and\ntherefore ``width > 1`` creates overlap between regions and\n``width < 1`` tends to Cartesian patterns.\nAlso notes that increasing width squeezes the lines together\nsuch that shots at the top and bottom borders don't spread ouf of the k-space,\nresulting in non-covered areas with large widths. This behavior might be subject to\nchanges in future versions.\n\n\n"
      ]
    },
    {
      "cell_type": "code",
      "execution_count": null,
      "metadata": {
        "collapsed": false
      },
      "outputs": [],
      "source": [
        "arguments = [0, 1, 1.5, 3]\nfunction = lambda x: mn.initialize_2D_waves(Nc, Ns, width=x)\nshow_trajectories(function, arguments, one_shot=one_shot, subfig_size=subfigure_size)"
      ]
    },
    {
      "cell_type": "markdown",
      "metadata": {},
      "source": [
        "### Lissajous\n\nThe classic Lissajous patterns composed of a long single curve split into shots\nwith different curve profiles and covering the whole k-space square.\nThis pattern tends to be more dense on the edges, as opposed to most others.\nNote that the original pattern is much more complex but has been simplified\nto match MR purposes, with a balanced distribution and minimal overlapping.\n\nArguments:\n\n- ``Nc (int)``: number of individual shots\n- ``Ns (int)``: number of samples per shot\n- ``density (float)``: controls the pseudo-grid density and shot curvatures.\n  ``(default \"1\")``\n\n\n"
      ]
    },
    {
      "cell_type": "code",
      "execution_count": null,
      "metadata": {
        "collapsed": false
      },
      "outputs": [],
      "source": [
        "trajectory = mn.initialize_2D_lissajous(Nc, Ns, density=1)\nshow_trajectory(trajectory, figure_size=figure_size, one_shot=one_shot)"
      ]
    },
    {
      "cell_type": "markdown",
      "metadata": {},
      "source": [
        "#### ``density (float)``\n\nIt relates to both the curve length and curvature, normalized such that\n``density = 1`` corresponds to pseudo-diagonal curves for any given $N_c$.\n\n\n"
      ]
    },
    {
      "cell_type": "code",
      "execution_count": null,
      "metadata": {
        "collapsed": false
      },
      "outputs": [],
      "source": [
        "arguments = [1, 1.5, 2, 3]\nfunction = lambda x: mn.initialize_2D_lissajous(Nc, Ns, density=x)\nshow_trajectories(function, arguments, one_shot=one_shot, subfig_size=subfigure_size)"
      ]
    },
    {
      "cell_type": "markdown",
      "metadata": {},
      "source": [
        "## References\n\n.. [Pip99] Pipe, James G. \"Motion correction with PROPELLER MRI:\n   application to head motion and free\u2010breathing cardiac imaging.\"\n   Magnetic Resonance in Medicine 42, no. 5 (1999): 963-969.\n.. [WLN08] Wu, Hochong H., Jin Hyung Lee, and Dwight G. Nishimura.\n   \"MRI using a concentric rings trajectory.\" Magnetic Resonance\n   in Medicine 59, no. 1 (2008): 102-112.\n.. [Kla+24] Klauser, Antoine, Bernhard Strasser, Wolfgang Bogner,\n   Lukas Hingerl, Sebastien Courvoisier, Claudiu Schirda,\n   Bruce R. Rosen, Francois Lazeyras, and Ovidiu C. Andronesi.\n   \"ECCENTRIC: a fast and unrestrained approach for high-resolution\n   in vivo metabolic imaging at ultra-high field MR\".\n   Imaging Neuroscience 2 (2024): 1-20.\n\n"
      ]
    }
  ],
  "metadata": {
    "kernelspec": {
      "display_name": "Python 3",
      "language": "python",
      "name": "python3"
    },
    "language_info": {
      "codemirror_mode": {
        "name": "ipython",
        "version": 3
      },
      "file_extension": ".py",
      "mimetype": "text/x-python",
      "name": "python",
      "nbconvert_exporter": "python",
      "pygments_lexer": "ipython3",
      "version": "3.10.16"
    }
  },
  "nbformat": 4,
  "nbformat_minor": 0
}