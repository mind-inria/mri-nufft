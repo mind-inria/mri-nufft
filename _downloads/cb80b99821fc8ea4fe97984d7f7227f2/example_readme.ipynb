{
  "cells": [
    {
      "cell_type": "markdown",
      "metadata": {},
      "source": [
        "\n# Minimal example script\n\nAn example to show how to perform a simple NUFFT.\n"
      ]
    },
    {
      "cell_type": "code",
      "execution_count": null,
      "metadata": {
        "collapsed": false
      },
      "outputs": [],
      "source": [
        "import matplotlib.pyplot as plt\nimport numpy as np\nfrom scipy.datasets import face\n\nimport mrinufft\nfrom mrinufft.density import voronoi\nfrom mrinufft.trajectories import display\n\n# Create a 2D radial trajectory for demo\nsamples_loc = mrinufft.initialize_2D_radial(Nc=100, Ns=500)\n# Get a 2D image for the demo (512x512)\nimage = np.complex64(face(gray=True)[256:768, 256:768])\n\n## The real deal starts here ##\n# Choose your NUFFT backend (installed independly from the package)\nNufftOperator = mrinufft.get_operator(\"finufft\")\n\n# For better image quality we use a density compensation\ndensity = voronoi(samples_loc)\n\n# And create the associated operator\nnufft = NufftOperator(\n    samples_loc, shape=image.shape, density=density, n_coils=1, squeeze_dims=True\n)\n\nkspace_data = nufft.op(image)  # Image -> K-space\nimage2 = nufft.adj_op(kspace_data)  # K-space -> Image"
      ]
    },
    {
      "cell_type": "code",
      "execution_count": null,
      "metadata": {
        "collapsed": false
      },
      "outputs": [],
      "source": [
        "# Show the results\nfig, ax = plt.subplots(2, 2)\nax = ax.flatten()\n# Upper left reference image\nax[0].imshow(abs(image), cmap=\"gray\")\nax[0].axis(\"off\")\nax[0].set_title(\"original image\")\n# Upper right trajectory\ndisplay.display_2D_trajectory(samples_loc, subfigure=ax[1])\nax[1].set_aspect(\"equal\")\nax[1].set_title(\"Sampled points in k-space\")\n# Bottom left reconstructed image\nax[2].imshow(abs(image2), cmap=\"gray\")\nax[2].axis(\"off\")\nax[2].set_title(\"Auto adjoint image\")\n# Bottom right error\nax[3].imshow(\n    abs(image2) / np.max(abs(image2)) - abs(image) / np.max(abs(image)), cmap=\"gray\"\n)\nax[3].axis(\"off\")\nax[3].set_title(\"Rescaled Error\")\nplt.tight_layout()\nplt.show()"
      ]
    },
    {
      "cell_type": "markdown",
      "metadata": {},
      "source": [
        "<div class=\"alert alert-info\"><h4>Note</h4><p>This resulting image is not the same as the original one because the NUFFT operator\n   is not a perfect inverse operation but an adjoint, and we undersampled by a factor of 5.\n   The reconstruction artifacts can be removed by using an iterative reconstruction method.\n   Check PySAP-mri documentation for examples.</p></div>\n\n"
      ]
    }
  ],
  "metadata": {
    "kernelspec": {
      "display_name": "Python 3",
      "language": "python",
      "name": "python3"
    },
    "language_info": {
      "codemirror_mode": {
        "name": "ipython",
        "version": 3
      },
      "file_extension": ".py",
      "mimetype": "text/x-python",
      "name": "python",
      "nbconvert_exporter": "python",
      "pygments_lexer": "ipython3",
      "version": "3.10.16"
    }
  },
  "nbformat": 4,
  "nbformat_minor": 0
}