{
  "cells": [
    {
      "cell_type": "markdown",
      "metadata": {},
      "source": [
        "\n# Stacked NUFFT operator\n\nAn example to show how to setup a stacked NUFFT operator.\n\nThis example shows how to use the stacked NUFFT operator to reconstruct data\nwhen the sampling pattern in k-space is a stack of 2D non-Cartesian trajectories.\nHereafter a stack of 2D spirals is used for demonstration.\n"
      ]
    },
    {
      "cell_type": "code",
      "execution_count": null,
      "metadata": {
        "collapsed": false
      },
      "outputs": [],
      "source": [
        "import matplotlib.pyplot as plt\nimport numpy as np\n\nfrom mrinufft import display_2D_trajectory\n\nplt.rcParams[\"image.cmap\"] = \"gray\""
      ]
    },
    {
      "cell_type": "markdown",
      "metadata": {},
      "source": [
        "## Data preparation\n\n### Image loading\n\nFor realistic 3D images we will use the BrainWeb dataset,\ninstallable using ``pip install brainweb-dl``.\n\n"
      ]
    },
    {
      "cell_type": "code",
      "execution_count": null,
      "metadata": {
        "collapsed": false
      },
      "outputs": [],
      "source": [
        "from brainweb_dl import get_mri\n\nmri_data = get_mri(0, \"T1\")\nmri_data = np.flip(mri_data, axis=(0, 1, 2))"
      ]
    },
    {
      "cell_type": "code",
      "execution_count": null,
      "metadata": {
        "collapsed": false
      },
      "outputs": [],
      "source": [
        "fig, ax = plt.subplots(1, 3, figsize=(10, 3))\nax[0].imshow(mri_data[90, :, :])\nax[1].imshow(mri_data[:, 108, :])\nax[2].imshow(mri_data[:, :, 90])\nplt.show()"
      ]
    },
    {
      "cell_type": "markdown",
      "metadata": {},
      "source": [
        "### Trajectory generation\n\nOnly the 2D pattern needs to be initialized, along with\nits density to improve the adjoint NUFFT operation and\nthe location of the different slices.\n\n\n"
      ]
    },
    {
      "cell_type": "code",
      "execution_count": null,
      "metadata": {
        "collapsed": false
      },
      "outputs": [],
      "source": [
        "from mrinufft import initialize_2D_spiral\nfrom mrinufft.density import voronoi\n\nsamples = initialize_2D_spiral(Nc=16, Ns=500, nb_revolutions=10)\ndensity = voronoi(samples)\nkz_slices = np.arange(mri_data.shape[-1])  # Specify locations for the stacks."
      ]
    },
    {
      "cell_type": "code",
      "execution_count": null,
      "metadata": {
        "collapsed": false
      },
      "outputs": [],
      "source": [
        "display_2D_trajectory(samples)\nplt.show()"
      ]
    },
    {
      "cell_type": "markdown",
      "metadata": {},
      "source": [
        "## Operator setup\n\n"
      ]
    },
    {
      "cell_type": "code",
      "execution_count": null,
      "metadata": {
        "collapsed": false
      },
      "outputs": [],
      "source": [
        "from mrinufft.operators.stacked import MRIStackedNUFFT\n\nstacked_nufft = MRIStackedNUFFT(\n    samples=2 * np.pi * samples,  # normalize for finufft\n    shape=mri_data.shape,\n    z_index=kz_slices,\n    backend=\"finufft\",\n    n_coils=1,\n    smaps=None,\n    density=density,\n)\n\nkspace_stack = stacked_nufft.op(mri_data)\nprint(f\"K-space shape: {kspace_stack.shape}\")\n\nmri_data_adj = stacked_nufft.adj_op(kspace_stack)\nmri_data_adj = np.squeeze(abs(mri_data_adj))\nprint(f\"Volume shape: {mri_data_adj.shape}\")"
      ]
    },
    {
      "cell_type": "code",
      "execution_count": null,
      "metadata": {
        "collapsed": false
      },
      "outputs": [],
      "source": [
        "fig2, ax2 = plt.subplots(1, 3, figsize=(10, 3))\nax2[0].imshow(mri_data_adj[90, :, :])\nax2[1].imshow(mri_data_adj[:, 108, :])\nax2[2].imshow(mri_data_adj[:, :, 90])\nplt.show()"
      ]
    }
  ],
  "metadata": {
    "kernelspec": {
      "display_name": "Python 3",
      "language": "python",
      "name": "python3"
    },
    "language_info": {
      "codemirror_mode": {
        "name": "ipython",
        "version": 3
      },
      "file_extension": ".py",
      "mimetype": "text/x-python",
      "name": "python",
      "nbconvert_exporter": "python",
      "pygments_lexer": "ipython3",
      "version": "3.10.16"
    }
  },
  "nbformat": 4,
  "nbformat_minor": 0
}