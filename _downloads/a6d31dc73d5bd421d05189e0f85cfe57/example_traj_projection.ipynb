{
  "cells": [
    {
      "cell_type": "markdown",
      "metadata": {},
      "source": [
        "\n# Trajectory constraints\n\nA collection of methods to make trajectories fit hardware constraints.\n"
      ]
    },
    {
      "cell_type": "markdown",
      "metadata": {},
      "source": [
        "Hereafter we illustrate different methods to reduce the gradient\nstrengths and slew rates required for the trajectory to match the\nhardware constraints of MRI machines. A summary table is available\nbelow.\n\n\n"
      ]
    },
    {
      "cell_type": "markdown",
      "metadata": {},
      "source": [
        ".. list-table:: Constraint fitting methods\n   :header-rows: 1\n\n   * -\n     - Gradient strength\n     - Slew rate\n     - Path preserved\n     - Density preserved\n   * - Arc-length parameterization\n     - Yes\n     - No\n     - Yes\n     - No\n\n\n"
      ]
    },
    {
      "cell_type": "code",
      "execution_count": null,
      "metadata": {
        "collapsed": false
      },
      "outputs": [],
      "source": [
        "# Internal\nimport mrinufft as mn\nfrom mrinufft.trajectories.utils import Acquisition, compute_gradients_and_slew_rates\nfrom utils import show_trajectory_full\n\n# External\nimport numpy as np"
      ]
    },
    {
      "cell_type": "markdown",
      "metadata": {},
      "source": [
        "## Script options\nThese options are used in the examples below as default values for all trajectories.\n\n"
      ]
    },
    {
      "cell_type": "code",
      "execution_count": null,
      "metadata": {
        "collapsed": false
      },
      "outputs": [],
      "source": [
        "# Acquisition parameters\nacq = Acquisition.default"
      ]
    },
    {
      "cell_type": "code",
      "execution_count": null,
      "metadata": {
        "collapsed": false
      },
      "outputs": [],
      "source": [
        "# Trajectory parameters\nNc = 16  # Number of shots\nNs = 3000  # Number of samples per shot\nin_out = False  # Choose between in-out or center-out trajectories\nnb_zigzags = 5  # Number of zigzags for base trajectories"
      ]
    },
    {
      "cell_type": "code",
      "execution_count": null,
      "metadata": {
        "collapsed": false
      },
      "outputs": [],
      "source": [
        "# Display parameters\nfigure_size = 10  # Figure size for trajectory plots\nsubfigure_size = 6  # Figure size for subplots\none_shot = 2 * Nc // 3  # Highlight one shot in particular\nsample_freq = 60  # Frequency of samples to display in the trajectory plots"
      ]
    },
    {
      "cell_type": "markdown",
      "metadata": {},
      "source": [
        "We will be using a cone trajectory to showcase the different methods as\nit switches several times between high gradients and slew rates.\n\n"
      ]
    },
    {
      "cell_type": "code",
      "execution_count": null,
      "metadata": {
        "collapsed": false
      },
      "outputs": [],
      "source": [
        "original_trajectory = mn.initialize_2D_cones(\n    Nc, Ns, in_out=in_out, nb_zigzags=nb_zigzags\n)"
      ]
    },
    {
      "cell_type": "markdown",
      "metadata": {},
      "source": [
        "## Arc-length parameterization\nArc-length parameterization is the simplest method to reduce the gradient\nstrength as it resamples the trajectory to have a constant distance between\nsamples. This is technically the lowest gradient strength achievable while\npreserving the path of the trajectory, but it does not preserve the k-space\ndensity and can lead to high slew rates as shown below.\n\n"
      ]
    },
    {
      "cell_type": "code",
      "execution_count": null,
      "metadata": {
        "collapsed": false
      },
      "outputs": [],
      "source": [
        "show_trajectory_full(original_trajectory, one_shot, subfigure_size, sample_freq)\n\ngrads, slews = compute_gradients_and_slew_rates(original_trajectory, acq)\ngrad_max, slew_max = np.max(grads), np.max(slews)\nprint(f\"Max gradient: {grad_max:.3f} T/m, Max slew rate: {slew_max:.3f} T/m/ms\")"
      ]
    },
    {
      "cell_type": "code",
      "execution_count": null,
      "metadata": {
        "collapsed": false
      },
      "outputs": [],
      "source": [
        "from mrinufft.trajectories.projection import parameterize_by_arc_length\n\nprojected_trajectory = parameterize_by_arc_length(original_trajectory)"
      ]
    },
    {
      "cell_type": "code",
      "execution_count": null,
      "metadata": {
        "collapsed": false
      },
      "outputs": [],
      "source": [
        "show_trajectory_full(projected_trajectory, one_shot, subfigure_size, sample_freq)\n\ngrads, slews = compute_gradients_and_slew_rates(projected_trajectory, acq)\ngrad_max, slew_max = np.max(grads), np.max(slews)\nprint(f\"Max gradient: {grad_max:.3f} T/m, Max slew rate: {slew_max:.3f} T/m/ms\")"
      ]
    }
  ],
  "metadata": {
    "kernelspec": {
      "display_name": "Python 3",
      "language": "python",
      "name": "python3"
    },
    "language_info": {
      "codemirror_mode": {
        "name": "ipython",
        "version": 3
      },
      "file_extension": ".py",
      "mimetype": "text/x-python",
      "name": "python",
      "nbconvert_exporter": "python",
      "pygments_lexer": "ipython3",
      "version": "3.10.16"
    }
  },
  "nbformat": 4,
  "nbformat_minor": 0
}