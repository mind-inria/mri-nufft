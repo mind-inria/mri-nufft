{
  "cells": [
    {
      "cell_type": "markdown",
      "metadata": {},
      "source": [
        "\n# Off-resonance corrected NUFFT operator\n\nAn example to show how to setup an off-resonance corrected NUFFT operator.\n\nThis example shows how to use the off-resonance corrected (ORC) NUFFT operator\nto reconstruct data in presence of B0 field inhomogeneities.\nHereafter a 2D spiral trajectory is used for demonstration.\n"
      ]
    },
    {
      "cell_type": "code",
      "execution_count": null,
      "metadata": {
        "collapsed": false
      },
      "outputs": [],
      "source": [
        "import matplotlib.pyplot as plt\nimport numpy as np\n\nfrom mrinufft import display_2D_trajectory\n\nplt.rcParams[\"image.cmap\"] = \"gray\""
      ]
    },
    {
      "cell_type": "markdown",
      "metadata": {},
      "source": [
        "## Data preparation\n\n### Image loading\n\nFor realistic a 2D image we will use the BrainWeb dataset,\ninstallable using ``pip install brainweb-dl``.\n\n"
      ]
    },
    {
      "cell_type": "code",
      "execution_count": null,
      "metadata": {
        "collapsed": false
      },
      "outputs": [],
      "source": [
        "from brainweb_dl import get_mri\n\nmri_data = get_mri(0, \"T1\")\nmri_data = np.flip(mri_data, axis=(0, 1, 2))[90]"
      ]
    },
    {
      "cell_type": "code",
      "execution_count": null,
      "metadata": {
        "collapsed": false
      },
      "outputs": [],
      "source": [
        "plt.imshow(mri_data)\nplt.axis(\"off\")\nplt.title(\"Groundtruth\")\nplt.show()"
      ]
    },
    {
      "cell_type": "markdown",
      "metadata": {},
      "source": [
        "### Mask generation\n\nA binary mask is generated to exclude the background.\nWe use a simple binary threshold for this example, but for real-world application\nit is advised to use more advanced methods and tools (e.g., FSL-BET).\n\n"
      ]
    },
    {
      "cell_type": "code",
      "execution_count": null,
      "metadata": {
        "collapsed": false
      },
      "outputs": [],
      "source": [
        "brain_mask = mri_data > 0.1 * mri_data.max()"
      ]
    },
    {
      "cell_type": "code",
      "execution_count": null,
      "metadata": {
        "collapsed": false
      },
      "outputs": [],
      "source": [
        "plt.imshow(brain_mask)\nplt.axis(\"off\")\nplt.title(\"brain mask\")\nplt.show()"
      ]
    },
    {
      "cell_type": "markdown",
      "metadata": {},
      "source": [
        "### B0 field map generation\n\nA dummy B0 field map is generated for this example using the input shape.\n\n"
      ]
    },
    {
      "cell_type": "code",
      "execution_count": null,
      "metadata": {
        "collapsed": false
      },
      "outputs": [],
      "source": [
        "from mrinufft.extras import make_b0map\n\nb0map, _ = make_b0map(mri_data.shape, b0range=(-200, 200), mask=brain_mask)"
      ]
    },
    {
      "cell_type": "code",
      "execution_count": null,
      "metadata": {
        "collapsed": false
      },
      "outputs": [],
      "source": [
        "plt.imshow(brain_mask * b0map, cmap=\"bwr\", vmin=-200, vmax=200)\nplt.axis(\"off\")\nplt.colorbar()\nplt.title(\"B0 map [Hz]\")\nplt.show()"
      ]
    },
    {
      "cell_type": "markdown",
      "metadata": {},
      "source": [
        "### Trajectory generation\n\n"
      ]
    },
    {
      "cell_type": "code",
      "execution_count": null,
      "metadata": {
        "collapsed": false
      },
      "outputs": [],
      "source": [
        "from mrinufft import initialize_2D_spiral\nfrom mrinufft.density import voronoi\nfrom mrinufft.trajectories.utils import Acquisition\n\nsamples = initialize_2D_spiral(Nc=48, Ns=600, nb_revolutions=10)\nt_read = np.arange(samples.shape[1]) * Acquisition.default.raster_time\nt_read = np.repeat(t_read[None, ...], samples.shape[0], axis=0)\ndensity = voronoi(samples)"
      ]
    },
    {
      "cell_type": "code",
      "execution_count": null,
      "metadata": {
        "collapsed": false
      },
      "outputs": [],
      "source": [
        "display_2D_trajectory(samples)\nplt.show()"
      ]
    },
    {
      "cell_type": "markdown",
      "metadata": {},
      "source": [
        "## Operator setup\n\n"
      ]
    },
    {
      "cell_type": "code",
      "execution_count": null,
      "metadata": {
        "collapsed": false
      },
      "outputs": [],
      "source": [
        "from mrinufft import get_operator\nfrom mrinufft.operators.off_resonance import MRIFourierCorrected\n\n# Generate standard NUFFT operator\nnufft = get_operator(\"finufft\")(\n    samples=2 * np.pi * samples,  # normalize for finufft\n    shape=mri_data.shape,\n    density=density,\n)\n\n# Generate NUFFT off-resonance corrected operator\norc_nufft = MRIFourierCorrected(\n    nufft, b0_map=b0map, readout_time=t_read, mask=brain_mask\n)\n\n# Generate k-space\nkspace_on = nufft.op(mri_data)\nkspace_off = orc_nufft.op(mri_data)\n\n# Reconstruct without B0 field inhomogeneity\nmri_data_adj_ref = nufft.adj_op(kspace_on)\nmri_data_adj_ref = np.squeeze(abs(mri_data_adj_ref))\n\n# Reconstruct without B0 field correction\nmri_data_adj = nufft.adj_op(kspace_off)\nmri_data_adj = np.squeeze(abs(mri_data_adj))\n\n# Reconstruct with B0 field correction\nmri_data_adj_orc = orc_nufft.adj_op(kspace_off)\nmri_data_adj_orc = np.squeeze(abs(mri_data_adj_orc))"
      ]
    },
    {
      "cell_type": "markdown",
      "metadata": {},
      "source": [
        "The blurring observed in the presence of B0 field inhomogeneities (middle)\nis significantly reduced using the off-resonance corrected NUFFT operator (right).\n\n"
      ]
    },
    {
      "cell_type": "code",
      "execution_count": null,
      "metadata": {
        "collapsed": false
      },
      "outputs": [],
      "source": [
        "fig2, ax2 = plt.subplots(1, 3, figsize=(9, 3))\n# No off-resonance\nax2[0].imshow(mri_data_adj_ref)\nax2[0].axis(\"off\")\nax2[0].set_title(\"No off-resonance\")\n# No off-resonance correction\nax2[1].imshow(mri_data_adj)\nax2[1].axis(\"off\")\nax2[1].set_title(\"Off-resonance\")\n# Off-resonance corrected\nax2[2].imshow(mri_data_adj_orc)\nax2[2].axis(\"off\")\nax2[2].set_title(\"Corrected off-resonance\")\nplt.show()"
      ]
    }
  ],
  "metadata": {
    "kernelspec": {
      "display_name": "Python 3",
      "language": "python",
      "name": "python3"
    },
    "language_info": {
      "codemirror_mode": {
        "name": "ipython",
        "version": 3
      },
      "file_extension": ".py",
      "mimetype": "text/x-python",
      "name": "python",
      "nbconvert_exporter": "python",
      "pygments_lexer": "ipython3",
      "version": "3.10.16"
    }
  },
  "nbformat": 4,
  "nbformat_minor": 0
}