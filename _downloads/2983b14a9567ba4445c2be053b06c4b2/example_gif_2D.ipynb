{
  "cells": [
    {
      "cell_type": "markdown",
      "metadata": {},
      "source": [
        "\n# Animated 2D trajectories\n\nAn animation to show 2D trajectory customization.\n"
      ]
    },
    {
      "cell_type": "code",
      "execution_count": null,
      "metadata": {
        "collapsed": false
      },
      "outputs": [],
      "source": [
        "import time\n\nimport joblib\nimport matplotlib.pyplot as plt\nimport numpy as np\nimport tempfile as tmp\nfrom PIL import Image, ImageSequence\n\nimport mrinufft.trajectories.display as mtd\nimport mrinufft.trajectories.trajectory2D as mtt\nfrom mrinufft.trajectories.display import displayConfig"
      ]
    },
    {
      "cell_type": "markdown",
      "metadata": {},
      "source": [
        "## Script options\n\n"
      ]
    },
    {
      "cell_type": "code",
      "execution_count": null,
      "metadata": {
        "collapsed": false
      },
      "outputs": [],
      "source": [
        "Nc = 16\nNs = 200\nnb_repetitions = 8\n\none_shot = 0\nfigsize = 4\n\nnb_frames = 3\nduration = 150  # seconds"
      ]
    },
    {
      "cell_type": "markdown",
      "metadata": {},
      "source": [
        "## Trajectory generation\n\n"
      ]
    },
    {
      "cell_type": "code",
      "execution_count": null,
      "metadata": {
        "collapsed": false
      },
      "outputs": [],
      "source": [
        "# Initialize trajectory function\nfunctions = [\n    # Radial\n    (\"Radial\", lambda x: mtt.initialize_2D_radial(x, Ns)),\n    (\"Radial\", lambda x: mtt.initialize_2D_radial(Nc, Ns, tilt=x)),\n    (\n        \"Radial\",\n        lambda x: mtt.initialize_2D_radial(Nc, Ns, tilt=(1 + x) * np.pi / Nc, in_out=x),\n    ),\n    (\"Radial\", lambda x: mtt.initialize_2D_radial(Nc, Ns, tilt=x)),\n    (\"Radial\", lambda x: mtt.initialize_2D_radial(Nc, Ns, tilt=\"uniform\")),\n    # Spiral\n    (\"Spiral\", lambda x: mtt.initialize_2D_spiral(Nc, Ns, nb_revolutions=x)),\n    (\"Spiral\", lambda x: mtt.initialize_2D_spiral(Nc, Ns, spiral=x)),\n    (\"Spiral\", lambda x: mtt.initialize_2D_spiral(Nc, Ns, spiral=x)),\n    (\"Spiral\", lambda x: mtt.initialize_2D_spiral(Nc, Ns, nb_revolutions=x)),\n    (\"Spiral\", lambda x: mtt.initialize_2D_spiral(Nc, Ns, nb_revolutions=x)),\n    (\"Spiral\", lambda x: mtt.initialize_2D_spiral(Nc, Ns, nb_revolutions=1e-5)),\n    # Cones\n    (\"Cones\", lambda x: mtt.initialize_2D_cones(Nc, Ns, nb_zigzags=x)),\n    (\"Cones\", lambda x: mtt.initialize_2D_cones(Nc, Ns, width=x)),\n    (\"Cones\", lambda x: mtt.initialize_2D_cones(Nc, Ns, width=x)),\n    (\"Cones\", lambda x: mtt.initialize_2D_cones(Nc, Ns, width=0)),\n    # Sinusoids\n    (\n        \"Sinusoids\",\n        lambda x: mtt.initialize_2D_sinusoide(Nc, Ns, nb_zigzags=3 * x, width=x),\n    ),\n    (\n        \"Sinusoids\",\n        lambda x: mtt.initialize_2D_sinusoide(Nc, Ns, nb_zigzags=3 * x, width=x),\n    ),\n    (\"Sinusoids\", lambda x: mtt.initialize_2D_sinusoide(Nc, Ns, nb_zigzags=0, width=0)),\n    # Rings\n    (\"Rings\", lambda x: mtt.initialize_2D_rings(x, Ns, nb_rings=x)[::-1]),\n    (\"Rings\", lambda x: mtt.initialize_2D_rings(x, Ns, nb_rings=nb_repetitions)[::-1]),\n    (\"Rings\", lambda x: mtt.initialize_2D_rings(Nc, Ns, nb_rings=nb_repetitions)[::-1]),\n    # Rosette\n    (\"Rosette\", lambda x: mtt.initialize_2D_rosette(Nc, Ns, coprime_index=x)),\n    (\"Rosette\", lambda x: mtt.initialize_2D_rosette(Nc, Ns, coprime_index=30)),\n    # Waves\n    (\"Waves\", lambda x: mtt.initialize_2D_waves(Nc, Ns, nb_zigzags=6 * x, width=x)),\n    (\"Waves\", lambda x: mtt.initialize_2D_waves(Nc, Ns, nb_zigzags=6 * x, width=x)),\n    (\"Waves\", lambda x: mtt.initialize_2D_waves(Nc, Ns, nb_zigzags=6, width=1)),\n    # Lissajous\n    (\"Lissajous\", lambda x: mtt.initialize_2D_lissajous(Nc, Ns, density=x)),\n    (\"Lissajous\", lambda x: mtt.initialize_2D_lissajous(Nc, Ns, density=10)),\n]\n\n# Initialize trajectory arguments\narguments = [\n    # Radial\n    np.around(np.linspace(1, Nc, 4 * nb_frames)).astype(int),  # Nc\n    np.linspace(2 * np.pi / Nc, np.pi / Nc, 2 * nb_frames),  # tilt\n    np.around(np.sin(np.linspace(0, 2 * np.pi, 2 * nb_frames))).astype(bool),  # in_out\n    np.linspace(np.pi / Nc, 2 * np.pi / Nc, 2 * nb_frames),  # tilt\n    [None] * nb_frames,  # None\n    # Spiral\n    np.linspace(1e-5, 1, 2 * nb_frames),  # nb_revolutions\n    np.linspace(1, np.sqrt(1 / 3), 2 * nb_frames) ** 2,  # spiral\n    np.linspace(1 / 3, 1, 2 * nb_frames),  # spiral\n    np.linspace(1, 3, 2 * nb_frames),  # nb_revolutions\n    np.linspace(3, 1e-5, 4 * nb_frames),  # nb_revolutions\n    [None] * nb_frames,  # None\n    # Cones\n    np.linspace(0, 5, 2 * nb_frames),  # nb_zigzags\n    np.linspace(1, 2, nb_frames),  # width\n    np.linspace(2, 0, 2 * nb_frames),  # width\n    [None] * nb_frames,  # None\n    # Sinusoids\n    np.linspace(0, 1, 2 * nb_frames),  # width & nb_zigzags\n    np.linspace(1, 0, 2 * nb_frames),  # width & nb_zigzags\n    [None] * nb_frames,  # None\n    # Rings\n    np.around(np.linspace(1, nb_repetitions, 4 * nb_frames)).astype(\n        int\n    ),  # Nc & nb_rings\n    np.around(np.linspace(nb_repetitions, Nc, 2 * nb_frames)).astype(int),  # Nc\n    [None] * nb_frames,  # None\n    # Rosette\n    np.around(np.linspace(0, np.sqrt(30), 6 * nb_frames) ** 2).astype(\n        int\n    ),  # coprime_index\n    [None] * nb_frames,  # None\n    # Waves\n    np.linspace(0, 2, 4 * nb_frames),  # width & nb_zigzags\n    np.linspace(2, 1, 2 * nb_frames),  # width & nb_zigzags\n    [None] * nb_frames,  # None\n    # Lissajous\n    np.linspace(1, 10, 6 * nb_frames),  # density\n    [None] * nb_frames,  # None\n]"
      ]
    },
    {
      "cell_type": "markdown",
      "metadata": {},
      "source": [
        "## Animation rendering\n\n"
      ]
    },
    {
      "cell_type": "code",
      "execution_count": null,
      "metadata": {
        "collapsed": false
      },
      "outputs": [],
      "source": [
        "frame_setup = [\n    (f, i, name, arg)\n    for (name, f), args in list(zip(functions, arguments))\n    for i, arg in enumerate(args)\n]\n\n\ndef draw_frame(func, index, name, arg):\n    \"\"\"Draw a single frame of the gif and save it to a tmp file.\"\"\"\n    trajectory = func(arg)\n    # General configuration\n    fig = plt.figure(figsize=(2 * figsize, figsize))\n    subfigs = fig.subfigures(1, 2, wspace=0)\n\n    # Trajectory display\n    subfigs[0].suptitle(name, fontsize=displayConfig.fontsize, x=0.5, y=0.98)\n    ax = mtd.display_2D_trajectory(\n        trajectory, one_shot=one_shot, figsize=figsize, subfigure=subfigs[0]\n    )\n    ax.set_aspect(\"equal\")\n\n    # Gradient display\n    subfigs[1].suptitle(\"Gradients\", fontsize=displayConfig.fontsize, x=0.5, y=0.98)\n    mtd.display_gradients_simply(\n        trajectory,\n        shot_ids=[one_shot],\n        figsize=figsize,\n        subfigure=subfigs[1],\n        uni_gradient=\"k\",\n        uni_signal=\"gray\",\n    )\n\n    # Save figure\n    filename = f\"{tmp.NamedTemporaryFile().name}.png\"\n    plt.savefig(filename, bbox_inches=\"tight\")\n    plt.close()\n    return filename\n\n\nimage_files = joblib.Parallel(n_jobs=1)(\n    joblib.delayed(draw_frame)(*data) for data in frame_setup\n)\n\n\n# Make a GIF of all images.\nimgs = [Image.open(img) for img in image_files]\nimgs[0].save(\n    \"mrinufft_2D_traj.gif\",\n    save_all=True,\n    append_images=imgs[1:],\n    optimize=False,\n    duration=duration,\n    loop=0,\n)\n\n\n\n# sphinx_gallery_thumbnail_path = 'generated/autoexamples/trajectories/images/mrinufft_2D_traj.gif'"
      ]
    },
    {
      "cell_type": "markdown",
      "metadata": {},
      "source": [
        ".. image-sg:: /generated/autoexamples/trajectories/images/mrinufft_2D_traj.gif\n   :alt: example density\n   :srcset: /generated/autoexamples/trajectories/images/mrinufft_2D_traj.gif\n   :class: sphx-glr-single-img\n\n"
      ]
    }
  ],
  "metadata": {
    "kernelspec": {
      "display_name": "Python 3",
      "language": "python",
      "name": "python3"
    },
    "language_info": {
      "codemirror_mode": {
        "name": "ipython",
        "version": 3
      },
      "file_extension": ".py",
      "mimetype": "text/x-python",
      "name": "python",
      "nbconvert_exporter": "python",
      "pygments_lexer": "ipython3",
      "version": "3.10.16"
    }
  },
  "nbformat": 4,
  "nbformat_minor": 0
}