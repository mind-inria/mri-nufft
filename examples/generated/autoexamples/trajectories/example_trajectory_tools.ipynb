{
  "cells": [
    {
      "cell_type": "markdown",
      "metadata": {},
      "source": [
        "\n# Trajectory tools\n\nA collection of tools to manipulate and develop non-Cartesian trajectories.\n"
      ]
    },
    {
      "cell_type": "markdown",
      "metadata": {},
      "source": [
        "Hereafter we detail and illustrate different generic tools that can\nbe used and combined to create custom trajectories. Most of them are\nalready present in the proposed trajectories from the literature.\nSince most arguments are redundant across the different patterns,\nsome of the documentation will refer to previous patterns for explanation.\nAlso note that not all possibilities are relevant for MR applications\nsince these functions are only tools to simplify trajectory design.\n\nIn this page, we invite the user to manually run the script to be able\nto manipulate the plot orientations with the matplotlib interface to better\nvisualize the 3D volumes.\n\n\n"
      ]
    },
    {
      "cell_type": "code",
      "execution_count": null,
      "metadata": {
        "collapsed": false
      },
      "outputs": [],
      "source": [
        "# External\nimport matplotlib.pyplot as plt\nimport numpy as np\nfrom utils import show_trajectories, show_trajectory\n\n# Internal\nimport mrinufft as mn\nimport mrinufft.trajectories.tools as tools\nfrom mrinufft.trajectories.utils import KMAX"
      ]
    },
    {
      "cell_type": "markdown",
      "metadata": {},
      "source": [
        "## Script options\nThese options are used in the examples below as default values for all trajectories.\n\n"
      ]
    },
    {
      "cell_type": "code",
      "execution_count": null,
      "metadata": {
        "collapsed": false
      },
      "outputs": [],
      "source": [
        "# Trajectory parameters\nNc = 80  # Number of shots\nNs = 500  # Number of samples per shot\nin_out = True  # Choose between in-out or center-out trajectories\nnb_repetitions = 8  # Number of stacks, rotations, cones, shells etc.\nnb_revolutions = 1  # Number of revolutions for base trajectories\nnb_zigzags = 5  # Number of zigzags for base trajectories\n\n# Display parameters\nfigure_size = 10  # Figure size for trajectory plots\nsubfigure_size = 6  # Figure size for subplots\none_shot = 2 * Nc // 3  # Highlight one shot in particular"
      ]
    },
    {
      "cell_type": "markdown",
      "metadata": {},
      "source": [
        "## Direct tools\n\nIn this section are presented the tools to apply over already\ninstanciated trajectories, i.e. arrays of size $(N_c, N_s, N_d)$\nwith $N_c$ the number of shots, $N_s$ the number of samples\nper shot and $N_d$ the number of dimensions (2 or 3).\n\n"
      ]
    },
    {
      "cell_type": "markdown",
      "metadata": {},
      "source": [
        "### Preparation\n\n#### Single shots\n\nWe can define a few simple trajectories to use in later examples:\nSingle shots from 2D radial, Fermat's spiral, and 2D/3D cones.\n\n\n"
      ]
    },
    {
      "cell_type": "code",
      "execution_count": null,
      "metadata": {
        "collapsed": false
      },
      "outputs": [],
      "source": [
        "single_trajectories = {\n    \"Radial\": mn.initialize_2D_radial(1, Ns, in_out=in_out),\n    \"Spiral\": mn.initialize_2D_spiral(\n        1, Ns, in_out=in_out, spiral=\"fermat\", nb_revolutions=nb_revolutions\n    ),\n    \"2D Cones\": mn.initialize_2D_cones(\n        Nc // nb_repetitions, Ns, in_out=in_out, nb_zigzags=nb_zigzags\n    )[:1],\n    \"3D Cones\": mn.initialize_3D_cones(Nc, Ns, in_out=in_out, nb_zigzags=nb_zigzags)[\n        :1\n    ],\n}"
      ]
    },
    {
      "cell_type": "code",
      "execution_count": null,
      "metadata": {
        "collapsed": false
      },
      "outputs": [],
      "source": [
        "arguments = [\"Radial\", \"Spiral\", \"2D Cones\", \"3D Cones\"]\nfunction = lambda x: single_trajectories[x]\nshow_trajectories(\n    function, arguments, one_shot=bool(one_shot), subfig_size=subfigure_size\n)"
      ]
    },
    {
      "cell_type": "markdown",
      "metadata": {},
      "source": [
        "#### Planes\n\nWe will also be using them as planes, or thick planes for 3D shots.\n\n\n"
      ]
    },
    {
      "cell_type": "code",
      "execution_count": null,
      "metadata": {
        "collapsed": false
      },
      "outputs": [],
      "source": [
        "Nc_planes = Nc // nb_repetitions\nz_tilt = 2 * np.pi / Nc_planes / (1 + in_out)\n\nplanar_trajectories = {\n    \"Radial\": tools.rotate(\n        single_trajectories[\"Radial\"], nb_rotations=Nc_planes, z_tilt=z_tilt\n    ),\n    \"Spiral\": tools.rotate(\n        single_trajectories[\"Spiral\"], nb_rotations=Nc_planes, z_tilt=z_tilt\n    ),\n    \"2D Cones\": tools.rotate(\n        single_trajectories[\"2D Cones\"], nb_rotations=Nc_planes, z_tilt=z_tilt\n    ),\n    \"3D Cones\": tools.rotate(\n        single_trajectories[\"3D Cones\"], nb_rotations=Nc_planes, z_tilt=z_tilt\n    ),\n}"
      ]
    },
    {
      "cell_type": "code",
      "execution_count": null,
      "metadata": {
        "collapsed": false
      },
      "outputs": [],
      "source": [
        "arguments = [\"Radial\", \"Spiral\", \"2D Cones\", \"3D Cones\"]\nfunction = lambda x: planar_trajectories[x]\nshow_trajectories(\n    function, arguments, one_shot=bool(one_shot), subfig_size=subfigure_size\n)"
      ]
    },
    {
      "cell_type": "markdown",
      "metadata": {},
      "source": [
        "### Stack\n\nThe oldest and most widely used method is to simply stack any plane\non top of itself, until it reaches the desired number of slices.\n\nArguments:\n\n- ``trajectory (array)``: array of k-space coordinates of\n  size $(N_c, N_s, N_d)$\n- ``nb_stacks (int)``: number of stacks repeating ``trajectory``\n  over the $k_z$-axis.\n- ``z_tilt (float)``: angle tilt between consecutive stacks\n  over the $k_z$-axis. ``(default None)``\n- ``hard_bounded (bool)``: whether the stacks should be\n  strictly bounded to k-space. ``(default True)``\n\n\n"
      ]
    },
    {
      "cell_type": "code",
      "execution_count": null,
      "metadata": {
        "collapsed": false
      },
      "outputs": [],
      "source": [
        "trajectory = tools.stack(planar_trajectories[\"Radial\"], nb_stacks=nb_repetitions)\nshow_trajectory(trajectory, figure_size=figure_size, one_shot=one_shot)"
      ]
    },
    {
      "cell_type": "markdown",
      "metadata": {},
      "source": [
        "#### ``trajectory (array)``\n\nThe main use case is to stack trajectories consisting of\nflat or thick planes that will match the image slices.\nSome stacks can also be removed afterward to create GRAPPA-like\npatterns that will rely on parallel imaging and sensitivity maps\nto recover the missing information.\nStacking planes without tilting them is notably compatible\nwith stacked-NUFFT operators, reducing time and memory\nconsumption during reconstruction.\n\n\n"
      ]
    },
    {
      "cell_type": "code",
      "execution_count": null,
      "metadata": {
        "collapsed": false
      },
      "outputs": [],
      "source": [
        "arguments = [\"Radial\", \"Spiral\", \"2D Cones\", \"3D Cones\"]\nfunction = lambda x: tools.stack(planar_trajectories[x], nb_stacks=nb_repetitions)\nshow_trajectories(function, arguments, one_shot=one_shot, subfig_size=subfigure_size)"
      ]
    },
    {
      "cell_type": "code",
      "execution_count": null,
      "metadata": {
        "collapsed": false
      },
      "outputs": [],
      "source": [
        "show_trajectories(\n    function,\n    arguments,\n    one_shot=one_shot,\n    subfig_size=subfigure_size,\n    dim=\"2D\",\n    axes=(0, 2),\n)"
      ]
    },
    {
      "cell_type": "markdown",
      "metadata": {},
      "source": [
        "It can also be applied twice to single shots to create\na plane before stacking it over the $k_z$-axis.\nNote here that is does not make a lot of sense for\nnon-radial trajectories such as spirals.\n\n\n"
      ]
    },
    {
      "cell_type": "code",
      "execution_count": null,
      "metadata": {
        "collapsed": false
      },
      "outputs": [],
      "source": [
        "arguments = [\"Radial\", \"Spiral\", \"2D Cones\", \"3D Cones\"]\nfunction = lambda x: tools.stack(\n    np.roll(\n        tools.stack(single_trajectories[x], nb_stacks=Nc_planes),\n        axis=-1,\n        shift=1,\n    ),\n    nb_stacks=nb_repetitions,\n)\nshow_trajectories(function, arguments, one_shot=one_shot, subfig_size=subfigure_size)"
      ]
    },
    {
      "cell_type": "markdown",
      "metadata": {},
      "source": [
        "#### ``hard_bounded (bool)``\n\nThe stack is ``hard_bounded`` when the positions of the stacks\nover the $k_z$-axis are squeezed such that the lower and upper\nstacks don't exceed the k-space boundaries when the plane is thick.\nIn the example below, the thickness is deliberately increased to\nemphasize this point.\n\n\n"
      ]
    },
    {
      "cell_type": "code",
      "execution_count": null,
      "metadata": {
        "collapsed": false
      },
      "outputs": [],
      "source": [
        "arguments = [True, False]\ntrajectory = np.copy(planar_trajectories[\"3D Cones\"])\ntrajectory[..., 2] *= 2\nfunction = lambda x: tools.stack(trajectory, nb_stacks=nb_repetitions, hard_bounded=x)\nshow_trajectories(\n    function,\n    arguments,\n    one_shot=one_shot,\n    subfig_size=subfigure_size,\n    dim=\"2D\",\n    axes=(0, 2),\n)"
      ]
    },
    {
      "cell_type": "markdown",
      "metadata": {},
      "source": [
        "### Stack Random\n\nA direct extension of the stacking expansion is to distribute the stacks\naccording to a random distribution over the $k_z$-axis.\n\nArguments:\n- ``trajectory (array)``: array of k-space coordinates of size\n$(N_c, N_s, N_d)$\n- ``dim_size (int)``: size of the kspace in voxel units\n- ``center_prop  (int or float)`` : number of line\n- ``acceleration (int)``:  Acceleration factor\n- ``pdf (str or array)``: Probability density function for the random distribution\n- ``rng (int or np.random.Generator)``: Random number generator\n- ``order (int)``: Order of the shots in the stack\n\n"
      ]
    },
    {
      "cell_type": "code",
      "execution_count": null,
      "metadata": {
        "collapsed": false
      },
      "outputs": [],
      "source": [
        "trajectory = tools.stack_random(\n    planar_trajectories[\"Spiral\"],\n    dim_size=128,\n    center_prop=0.1,\n    accel=16,\n    pdf=\"uniform\",\n    order=\"top-down\",\n    rng=42,\n)\n\nshow_trajectory(trajectory, figure_size=figure_size, one_shot=one_shot)"
      ]
    },
    {
      "cell_type": "markdown",
      "metadata": {},
      "source": [
        "#### ``trajectory (array)``\nThe main use case is to stack trajectories consisting of\nflat or thick planes that will match the image slices.\n\n"
      ]
    },
    {
      "cell_type": "code",
      "execution_count": null,
      "metadata": {
        "collapsed": false
      },
      "outputs": [],
      "source": [
        "arguments = [\"Radial\", \"Spiral\", \"2D Cones\", \"3D Cones\"]\nfunction = lambda x: tools.stack_random(\n    planar_trajectories[x],\n    dim_size=128,\n    center_prop=0.1,\n    accel=16,\n    pdf=\"gaussian\",\n    order=\"top-down\",\n    rng=42,\n)\nshow_trajectories(function, arguments, one_shot=one_shot, subfig_size=subfigure_size)"
      ]
    },
    {
      "cell_type": "markdown",
      "metadata": {},
      "source": [
        "#### ``dim_size (int)``\nSize of the k-space in voxel units over the stacking direction. It\nis used to normalize the stack positions, and is used with the ``accel``\nfactor and ``center_prop`` to determine the number of stacks.\n\n"
      ]
    },
    {
      "cell_type": "code",
      "execution_count": null,
      "metadata": {
        "collapsed": false
      },
      "outputs": [],
      "source": [
        "arguments = [32, 64, 128]\nfunction = lambda x: tools.stack_random(\n    planar_trajectories[\"Spiral\"],\n    dim_size=x,\n    center_prop=0.1,\n    accel=8,\n    pdf=\"gaussian\",\n    order=\"top-down\",\n    rng=42,\n)\nshow_trajectories(function, arguments, one_shot=one_shot, subfig_size=subfigure_size)"
      ]
    },
    {
      "cell_type": "markdown",
      "metadata": {},
      "source": [
        "#### ``center_prop (int or float)``\nNumber of lines to keep in the center of the k-space. It is used to determine\nthe number of stacks and the acceleration factor, and to keep the center of\nthe k-space with a higher density of shots. If a ``float`` this is a fraction\nof the total ``dim_size``. If ``int`` it is directly the number of lines.\n\n"
      ]
    },
    {
      "cell_type": "code",
      "execution_count": null,
      "metadata": {
        "collapsed": false
      },
      "outputs": [],
      "source": [
        "arguments = [1, 5, 0.1, 0.5]\nfunction = lambda x: tools.stack_random(\n    planar_trajectories[\"Spiral\"],\n    dim_size=128,\n    center_prop=x,\n    accel=16,\n    pdf=\"uniform\",\n    order=\"top-down\",\n    rng=42,\n)\nshow_trajectories(function, arguments, one_shot=one_shot, subfig_size=subfigure_size)"
      ]
    },
    {
      "cell_type": "markdown",
      "metadata": {},
      "source": [
        "#### ``accel (int)``\nAcceleration factor to subsample the outer region of the k-space.\nNote that the acceleration factor does not take into account the center lines.\n\n"
      ]
    },
    {
      "cell_type": "code",
      "execution_count": null,
      "metadata": {
        "collapsed": false
      },
      "outputs": [],
      "source": [
        "arguments = [1, 4, 8, 16, 32]\nfunction = lambda x: tools.stack_random(\n    planar_trajectories[\"Spiral\"],\n    dim_size=128,\n    center_prop=0.1,\n    accel=x,\n    pdf=\"uniform\",\n    order=\"top-down\",\n    rng=42,\n)\nshow_trajectories(function, arguments, one_shot=one_shot, subfig_size=subfigure_size)"
      ]
    },
    {
      "cell_type": "markdown",
      "metadata": {},
      "source": [
        "#### ``pdf (str or array)``\nProbability density function for the sampling of the outer region. It can\neither be a string to use a known probability law (\"gaussian\" or \"uniform\") or\n\"equispaced\" for a coherent undersampling (like the one used in GRAPPA). It\ncan also be a array, for using a customed density probability.\nIn this case, it will be normalized so that ``sum(pdf) =1``.\n\n"
      ]
    },
    {
      "cell_type": "code",
      "execution_count": null,
      "metadata": {
        "collapsed": false
      },
      "outputs": [],
      "source": [
        "dim_size = 128\narguments = [\n    \"gaussian\",\n    \"uniform\",\n    \"equispaced\",\n    np.arange(dim_size),\n]\nfunction = lambda x: tools.stack_random(\n    planar_trajectories[\"Spiral\"],\n    dim_size=128,\n    center_prop=0.1,\n    accel=32,\n    pdf=x,\n    order=\"top-down\",\n    rng=42,\n)\nshow_trajectories(function, arguments, one_shot=one_shot, subfig_size=subfigure_size)"
      ]
    },
    {
      "cell_type": "markdown",
      "metadata": {},
      "source": [
        "#### ``order (str)``\nDetermine the ordering of the shot in the trajectory.\nAccepeted values are \"center-out\", \"top-down\" or \"random\".\n\n"
      ]
    },
    {
      "cell_type": "code",
      "execution_count": null,
      "metadata": {
        "collapsed": false
      },
      "outputs": [],
      "source": [
        "dim_size = 128\narguments = [\n    \"center-out\",\n    \"random\",\n    \"top-down\",\n]\nfunction = lambda x: tools.stack_random(\n    planar_trajectories[\"Spiral\"],\n    dim_size=128,\n    center_prop=0.1,\n    accel=32,\n    pdf=\"uniform\",\n    order=x,\n    rng=42,\n)\nshow_trajectories(function, arguments, one_shot=one_shot, subfig_size=subfigure_size)"
      ]
    },
    {
      "cell_type": "markdown",
      "metadata": {},
      "source": [
        "### Rotate\n\nA simple method to duplicate any trajectory with a rotation over\none or multiple axes at the same time.\n\nArguments:\n\n- ``trajectory (array)``: array of k-space coordinates of\n  size $(N_c, N_s, N_d)$\n- ``nb_rotations (int)``: number of rotations repeating ``trajectory``.\n- ``x_tilt (float)``: angle tilt between consecutive stacks\n  over the $k_x$-axis. ``(default None)``\n- ``y_tilt (float)``: angle tilt between consecutive stacks\n  over the $k_y$-axis. ``(default None)``\n- ``z_tilt (float)``: angle tilt between consecutive stacks\n  over the $k_z$-axis. ``(default None)``\n\n\n"
      ]
    },
    {
      "cell_type": "code",
      "execution_count": null,
      "metadata": {
        "collapsed": false
      },
      "outputs": [],
      "source": [
        "trajectory = tools.rotate(\n    planar_trajectories[\"Radial\"], nb_rotations=nb_repetitions, x_tilt=\"uniform\"\n)\nshow_trajectory(trajectory, figure_size=figure_size, one_shot=one_shot)"
      ]
    },
    {
      "cell_type": "markdown",
      "metadata": {},
      "source": [
        "#### ``trajectory (array)``\n\nA common application is to rotate a single shot to create a plane\nas used earlier to initialize the planar trajectories. It has also\nbeen used in the literature to rotate planes around one axis to\ncreate 3D trajectories, but the density (and redundancy) along that\naxis is then much greater than anywhere else.\n\n\n"
      ]
    },
    {
      "cell_type": "code",
      "execution_count": null,
      "metadata": {
        "collapsed": false
      },
      "outputs": [],
      "source": [
        "arguments = [\"Radial\", \"Spiral\", \"2D Cones\", \"3D Cones\"]\nfunction = lambda x: tools.rotate(\n    planar_trajectories[x],\n    nb_rotations=nb_repetitions,\n    x_tilt=\"uniform\",\n)\nshow_trajectories(function, arguments, one_shot=one_shot, subfig_size=subfigure_size)"
      ]
    },
    {
      "cell_type": "code",
      "execution_count": null,
      "metadata": {
        "collapsed": false
      },
      "outputs": [],
      "source": [
        "show_trajectories(\n    function,\n    arguments,\n    one_shot=one_shot,\n    subfig_size=subfigure_size,\n    dim=\"2D\",\n    axes=(1, 2),\n)"
      ]
    },
    {
      "cell_type": "markdown",
      "metadata": {},
      "source": [
        "### Precess\n\nA method to duplicate a trajectory while applying a\nprecession-like rotation around a provided axis.\n\nArguments:\n\n- ``trajectory (array)``: array of k-space coordinates of\n  size $(N_c, N_s, N_d)$\n- ``nb_rotations (int)``: number of rotations repeating ``trajectory``\n  over the $k_z$-axis.\n- ``tilt (float)``: angle tilt between consecutive rotations\n  around the $k_z$-axis. ``(default \"golden\")``\n- ``half_sphere (bool)``: whether the precession should be limited\n  to the upper half of the k-space sphere, typically for in-out\n  trajectories or planes. ``(default False)``\n- ``partition (str)``: partition type between an \"axial\" or \"polar\"\n  split of the $k_z$-axis, designating whether the axis should\n  be fragmented by radius or angle respectively. ``(default \"axial\")``\n- ``axis (int, array)``: axis selected for alignment reference\n  when rotating the trajectory around the $k_z$-axis,\n  generally corresponding to the shot direction for\n  single shot ``trajectory`` inputs. It can either be an integer for\n  one of the three k-space axes, or directly a 3D array.\n  The default behavior when ``None`` is to select the last coordinate\n  of the first shot as the axis. ``(default None)``\n\n\n"
      ]
    },
    {
      "cell_type": "code",
      "execution_count": null,
      "metadata": {
        "collapsed": false
      },
      "outputs": [],
      "source": [
        "trajectory = tools.precess(\n    planar_trajectories[\"Radial\"],\n    nb_rotations=nb_repetitions,\n    tilt=\"golden\",\n    half_sphere=in_out,\n    axis=2,\n)\nshow_trajectory(trajectory, figure_size=figure_size, one_shot=one_shot)"
      ]
    },
    {
      "cell_type": "markdown",
      "metadata": {},
      "source": [
        "#### ``trajectory (array)``\n\nThis method provides a way to distribute duplicated trajectories\n(single shots, planes or anything else) to cover evenly a provided\naxis tilting the azimuthal orientation.\n\n\n"
      ]
    },
    {
      "cell_type": "code",
      "execution_count": null,
      "metadata": {
        "collapsed": false
      },
      "outputs": [],
      "source": [
        "arguments = [\"Radial\", \"Spiral\", \"2D Cones\", \"3D Cones\"]\nfunction = lambda x: tools.precess(\n    planar_trajectories[x],\n    nb_rotations=nb_repetitions,\n    tilt=\"golden\",\n    half_sphere=in_out,\n    axis=2,\n)\nshow_trajectories(function, arguments, one_shot=one_shot, subfig_size=subfigure_size)"
      ]
    },
    {
      "cell_type": "markdown",
      "metadata": {},
      "source": [
        "It is however most often used with single shots to\ncover more evenly the k-space sphere, such as with 3D cones\nor Seiffert spirals. Indeed, applying a precession with\nthe golden angle is known to approximate an even distribution\nof points over a sphere surface.\n\n\n"
      ]
    },
    {
      "cell_type": "code",
      "execution_count": null,
      "metadata": {
        "collapsed": false
      },
      "outputs": [],
      "source": [
        "arguments = [\"Radial\", \"Spiral\", \"2D Cones\", \"3D Cones\"]\nfunction = lambda x: tools.precess(\n    single_trajectories[x],\n    nb_rotations=Nc,\n    tilt=\"golden\",\n    half_sphere=in_out,\n    axis=0,\n)\nshow_trajectories(function, arguments, one_shot=one_shot, subfig_size=subfigure_size)"
      ]
    },
    {
      "cell_type": "markdown",
      "metadata": {},
      "source": [
        "#### ``half_sphere (bool)``\n\nWhether the precession should be limited to the upper half\nof the k-space sphere (with respect to the provided axis).\nIt is typically used for in-out trajectories or planes, as\notherwise shots would likely be stacked in a redundant way.\n\nIn the example hereafter, center-out shots are shown for clarity.\n\n\n"
      ]
    },
    {
      "cell_type": "code",
      "execution_count": null,
      "metadata": {
        "collapsed": false
      },
      "outputs": [],
      "source": [
        "arguments = [True, False]\nfunction = lambda x: tools.precess(\n    single_trajectories[\"Radial\"][:, Ns // (1 + in_out) :],\n    nb_rotations=Nc,\n    tilt=\"golden\",\n    half_sphere=x,\n    axis=0,\n)\nshow_trajectories(\n    function,\n    arguments,\n    one_shot=one_shot,\n    subfig_size=subfigure_size,\n    dim=\"2D\",\n    axes=(0, 2),\n)"
      ]
    },
    {
      "cell_type": "markdown",
      "metadata": {},
      "source": [
        "#### ``partition (str)``\n\nPartition type between an \"axial\" or \"polar\"\nsplit of the $k_z$-axis, designating whether the axis should\nbe fragmented by radius or angle respectively.\n\n\n"
      ]
    },
    {
      "cell_type": "code",
      "execution_count": null,
      "metadata": {
        "collapsed": false
      },
      "outputs": [],
      "source": [
        "arguments = [\"axial\", \"polar\"]\nfunction = lambda x: tools.precess(\n    single_trajectories[\"Radial\"],\n    nb_rotations=Nc,\n    tilt=None,\n    partition=x,\n    axis=0,\n)\nshow_trajectories(\n    function,\n    arguments,\n    one_shot=one_shot,\n    subfig_size=subfigure_size,\n    dim=\"2D\",\n    axes=(0, 2),\n)"
      ]
    },
    {
      "cell_type": "markdown",
      "metadata": {},
      "source": [
        "While \"polar\" looks more natural in the absence of rotation (``tilt=None``),\nit results in too many shots close to the rotation axis, and therefore\na non-uniform density. The best approximation of a uniform distribution\nis obtained with an \"axial\" partition and \"golden\" tilt along\nthe provided axis.\n\n\n"
      ]
    },
    {
      "cell_type": "code",
      "execution_count": null,
      "metadata": {
        "collapsed": false
      },
      "outputs": [],
      "source": [
        "arguments = [\"axial\", \"polar\"]\nfunction = lambda x: tools.precess(\n    single_trajectories[\"Radial\"],\n    nb_rotations=Nc,\n    tilt=\"golden\",\n    partition=x,\n    axis=0,\n)\nshow_trajectories(\n    function,\n    arguments,\n    one_shot=one_shot,\n    subfig_size=subfigure_size,\n    dim=\"2D\",\n    axes=(0, 2),\n)"
      ]
    },
    {
      "cell_type": "markdown",
      "metadata": {},
      "source": [
        "The distribution over the k-space sphere surface can be shown by\ndisplaying only the tip of the shots.\n\n\n"
      ]
    },
    {
      "cell_type": "code",
      "execution_count": null,
      "metadata": {
        "collapsed": false
      },
      "outputs": [],
      "source": [
        "arguments = [\"axial\", \"polar\"]\nfunction = lambda x: tools.precess(\n    single_trajectories[\"Radial\"][:, -5:],\n    nb_rotations=Nc,\n    tilt=\"golden\",\n    partition=x,\n    axis=0,\n)\nshow_trajectories(function, arguments, one_shot=one_shot, subfig_size=subfigure_size)"
      ]
    },
    {
      "cell_type": "markdown",
      "metadata": {},
      "source": [
        "#### ``axis (int, array)``\n\nAxis selected for alignment reference when rotating the trajectory\naround the $k_z$-axis, generally corresponding to the\nshot direction for single shot ``trajectory`` inputs.\nIt can either be an integer for one of the three k-space axes,\nor directly a 3D array. The default behavior when `None`\nis to select the last coordinate of the first shot as the axis.\n\nThis argument is simple to select but still important, as the\nprecession relies on Rodrigues' rotation coefficients that enable\na rotation from one vector to another to align the trajectory\nthrough the provided axis with the precession vectors all over\nthe k-space sphere. However, misalignement between shots and the\nprovided axis will result in a non-uniform distribution, as the\nrotation around the axis is unfavorably deterministic.\n\nThe first case is single shots, where the provided axis should\nsimply correspond to the shot axis.\n\n\n"
      ]
    },
    {
      "cell_type": "code",
      "execution_count": null,
      "metadata": {
        "collapsed": false
      },
      "outputs": [],
      "source": [
        "arguments = [None, 0, 1, 2]\nfunction = lambda x: tools.precess(\n    single_trajectories[\"Radial\"],\n    nb_rotations=Nc,\n    tilt=\"golden\",\n    half_sphere=in_out,\n    axis=x,\n)\nshow_trajectories(\n    function,\n    arguments,\n    one_shot=one_shot,\n    subfig_size=subfigure_size,\n    dim=\"2D\",\n    axes=(1, 2),\n)"
      ]
    },
    {
      "cell_type": "markdown",
      "metadata": {},
      "source": [
        "The second case is planar trajectories, where the axis orthogonal\nto the shots plane is preferred.\n\n\n"
      ]
    },
    {
      "cell_type": "code",
      "execution_count": null,
      "metadata": {
        "collapsed": false
      },
      "outputs": [],
      "source": [
        "arguments = [None, 0, 1, 2]\nfunction = lambda x: tools.precess(\n    planar_trajectories[\"Radial\"],\n    nb_rotations=nb_repetitions,\n    tilt=\"golden\",\n    half_sphere=in_out,\n    axis=x,\n)\nshow_trajectories(function, arguments, one_shot=one_shot, subfig_size=subfigure_size)"
      ]
    },
    {
      "cell_type": "markdown",
      "metadata": {},
      "source": [
        "Some trickier cases exist in the literature, with the example of Seiffert spirals.\nThose 3D spirals neither correspond to a single-axis shot or a plane, so the authors\nchose to use the center-out axis of each shot as a reference axis for the rotation.\nIn order to handle the redundant distribution, they added a pseudo-random rotation\nwithin the shot axes.\n\n\n"
      ]
    },
    {
      "cell_type": "markdown",
      "metadata": {},
      "source": [
        "### Conify\n\nA tool to distort trajectories into multiple cones\npositioned to cover the k-space sphere.\n\nArguments:\n\n- ``trajectory (array)``: array of k-space coordinates of\n  size $(N_c, N_s, N_d)$\n- ``nb_cones (int)``: number of cones repeating ``trajectory``\n  with conical distortion over the $k_z$-axis.\n- ``z_tilt (float)``: angle tilt between consecutive cones\n  around the $k_z$-axis. ``(default \"golden\")``\n- ``in_out (bool)``: whether to account for the in-out\n  nature of some trajectories to avoid hard angles\n  around the center, ``(default False)``\n- ``max_angle (float)``: maximum angle of the cones. ``(default pi / 2)``\n- ``borderless (bool)``: Whether the cones should reach `max_angle` or not,\n  mostly to avoid 1D cones if ``max_angle`` is equal to pi / 2, by default True.\n\n\n"
      ]
    },
    {
      "cell_type": "code",
      "execution_count": null,
      "metadata": {
        "collapsed": false
      },
      "outputs": [],
      "source": [
        "trajectory = tools.conify(\n    planar_trajectories[\"Radial\"], nb_cones=nb_repetitions, in_out=in_out\n)\nshow_trajectory(trajectory, figure_size=figure_size, one_shot=one_shot)"
      ]
    },
    {
      "cell_type": "markdown",
      "metadata": {},
      "source": [
        "#### ``trajectory (array)``\n\nThe trajectory is folded toward the $k_z$-axis to shape cones,\nand is therefore expected to be planar over the $k_x-k_y$ axes.\nOther configuration might result in irrelevant trajectories.\nAlso, the distortion is likely to increase the required gradient amplitudes\nand slew rates.\n\n\n"
      ]
    },
    {
      "cell_type": "code",
      "execution_count": null,
      "metadata": {
        "collapsed": false
      },
      "outputs": [],
      "source": [
        "arguments = [\"Radial\", \"Spiral\", \"2D Cones\", \"3D Cones\"]\nfunction = lambda x: tools.conify(\n    planar_trajectories[x], nb_cones=nb_repetitions, in_out=in_out\n)\nshow_trajectories(function, arguments, one_shot=one_shot, subfig_size=subfigure_size)"
      ]
    },
    {
      "cell_type": "code",
      "execution_count": null,
      "metadata": {
        "collapsed": false
      },
      "outputs": [],
      "source": [
        "show_trajectories(\n    function,\n    arguments,\n    one_shot=one_shot,\n    subfig_size=subfigure_size,\n    dim=\"2D\",\n    axes=(0, 2),\n)"
      ]
    },
    {
      "cell_type": "markdown",
      "metadata": {},
      "source": [
        "Similarly to other tools, it can be used with single shots.\nIn that case, ``nb_cones`` is set to ``Nc`` to create as many\nindividual cones.\n\n\n"
      ]
    },
    {
      "cell_type": "code",
      "execution_count": null,
      "metadata": {
        "collapsed": false
      },
      "outputs": [],
      "source": [
        "arguments = [\"Radial\", \"Spiral\", \"2D Cones\", \"3D Cones\"]\nfunction = lambda x: tools.conify(\n    single_trajectories[x], nb_cones=Nc, z_tilt=\"golden\", in_out=in_out\n)\nshow_trajectories(function, arguments, one_shot=one_shot, subfig_size=subfigure_size)"
      ]
    },
    {
      "cell_type": "code",
      "execution_count": null,
      "metadata": {
        "collapsed": false
      },
      "outputs": [],
      "source": [
        "show_trajectories(\n    function,\n    arguments,\n    one_shot=one_shot,\n    subfig_size=subfigure_size,\n    dim=\"2D\",\n    axes=(0, 2),\n)"
      ]
    },
    {
      "cell_type": "markdown",
      "metadata": {},
      "source": [
        "#### ``max_angle (float)``\n\nPolar angle of the most folded cone. As pointed out in [Pip+11]_,\nfolding planes over the whole sphere would result in inefficient\ndistributions near the $k_z$-axis, and it may be more relevant\nto reduce the maximum angle but duplicate all of the cones along\nanother axis to still cover the whole k-space.\n\n\n"
      ]
    },
    {
      "cell_type": "code",
      "execution_count": null,
      "metadata": {
        "collapsed": false
      },
      "outputs": [],
      "source": [
        "arguments = [np.pi / 2, np.pi / 3, np.pi / 4, np.pi / 5]\nfunction = lambda x: tools.conify(\n    planar_trajectories[\"Radial\"],\n    nb_cones=nb_repetitions,\n    in_out=in_out,\n    max_angle=x,\n)\nshow_trajectories(\n    function,\n    arguments,\n    one_shot=one_shot,\n    subfig_size=subfigure_size,\n    dim=\"2D\",\n    axes=(0, 2),\n)"
      ]
    },
    {
      "cell_type": "markdown",
      "metadata": {},
      "source": [
        "#### ``borderless (bool)``\n\nDefine whether or not the edge cones should reach ``max_angle``\nwhen equal to ``False``, or instead simply partition the\nsphere over a polar split.\n\n\n"
      ]
    },
    {
      "cell_type": "code",
      "execution_count": null,
      "metadata": {
        "collapsed": false
      },
      "outputs": [],
      "source": [
        "arguments = [True, False]\nfunction = lambda x: tools.conify(\n    planar_trajectories[\"Radial\"],\n    nb_cones=nb_repetitions,\n    in_out=in_out,\n    max_angle=np.pi / 2,\n    borderless=x,\n)\nshow_trajectories(\n    function,\n    arguments,\n    one_shot=one_shot,\n    subfig_size=subfigure_size,\n    dim=\"2D\",\n    axes=(0, 2),\n)"
      ]
    },
    {
      "cell_type": "markdown",
      "metadata": {},
      "source": [
        "### Epify\n\nA tool to assemble multiple single-readout shots together by\nadding transition steps in the trajectory to create EPI-like\nmulti-readout shots.\n\nNote that the ``epify`` tool is associated with an ``unepify``\ntool to revert the operation on trajectory or acquired data.\n\nArguments:\n\n- ``trajectory (array_like)``: trajectory to change by prolonging\n  and merging the shots together.\n- ``Ns_transitions (int)``: number of samples/steps between the\n  merged readouts.\n- ``nb_trains (int)``: number of resulting multi-readout shots,\n  or trains.\n- ``reverse_odd_shots (bool)``: Whether to reverse every odd shots\n  such that, as in most trajectories, even shots end up closer to\n  the start of odd shots.\n\n\n"
      ]
    },
    {
      "cell_type": "code",
      "execution_count": null,
      "metadata": {
        "collapsed": false
      },
      "outputs": [],
      "source": [
        "trajectory = tools.epify(\n    planar_trajectories[\"Radial\"],\n    Ns_transitions=Ns // 10,\n    nb_trains=Nc_planes // 2,\n    reverse_odd_shots=True,\n)\nshow_trajectory(trajectory, figure_size=figure_size, one_shot=one_shot)"
      ]
    },
    {
      "cell_type": "markdown",
      "metadata": {},
      "source": [
        "#### ``trajectory (array)``\n\nThe trajectory to change by prolonging and merging the shots together.\nHereafter the shots are merged by pairs with short transitions.\n\n\n"
      ]
    },
    {
      "cell_type": "code",
      "execution_count": null,
      "metadata": {
        "collapsed": false
      },
      "outputs": [],
      "source": [
        "arguments = [\"Radial\", \"Spiral\", \"2D Cones\", \"3D Cones\"]\nfunction = lambda x: tools.epify(\n    planar_trajectories[x],\n    Ns_transitions=Ns // 10,\n    nb_trains=Nc_planes // 2,\n    reverse_odd_shots=True,\n)\nshow_trajectories(function, arguments, one_shot=one_shot, subfig_size=subfigure_size)"
      ]
    },
    {
      "cell_type": "code",
      "execution_count": null,
      "metadata": {
        "collapsed": false
      },
      "outputs": [],
      "source": [
        "show_trajectories(\n    function, arguments, one_shot=one_shot, subfig_size=subfigure_size, dim=\"2D\"\n)"
      ]
    },
    {
      "cell_type": "markdown",
      "metadata": {},
      "source": [
        "#### ``Ns_transitions (int)``\n\nNumber of samples/steps between the merged readouts.\nSmoother transitions are achieved with more points, but it means longer\nwaiting times between readouts if they are split during acquisition.\n\n\n"
      ]
    },
    {
      "cell_type": "code",
      "execution_count": null,
      "metadata": {
        "collapsed": false
      },
      "outputs": [],
      "source": [
        "arguments = [25, 50, 75, 100]\nfunction = lambda x: tools.epify(\n    planar_trajectories[\"2D Cones\"],\n    Ns_transitions=x,\n    nb_trains=Nc_planes // 2,\n    reverse_odd_shots=True,\n)\nshow_trajectories(\n    function, arguments, one_shot=one_shot, subfig_size=subfigure_size, dim=\"2D\"\n)"
      ]
    },
    {
      "cell_type": "markdown",
      "metadata": {},
      "source": [
        "#### ``nb_trains (int)``\n\nNumber of resulting multi-readout shots, or trains.\n\n\n"
      ]
    },
    {
      "cell_type": "code",
      "execution_count": null,
      "metadata": {
        "collapsed": false
      },
      "outputs": [],
      "source": [
        "arguments = [Nc_planes, Nc_planes // 2, Nc_planes // 4, 1]\nfunction = lambda x: tools.epify(\n    planar_trajectories[\"Radial\"],\n    Ns_transitions=50,\n    nb_trains=x,\n    reverse_odd_shots=True,\n)\nshow_trajectories(\n    function, arguments, one_shot=one_shot, subfig_size=subfigure_size, dim=\"2D\"\n)"
      ]
    },
    {
      "cell_type": "markdown",
      "metadata": {},
      "source": [
        "#### ``reverse_odd_shots (bool)``\n\nWhether to reverse every odd shots such that, as in most trajectories,\neven shots end up closer to the start of odd shots.\n\n\n"
      ]
    },
    {
      "cell_type": "code",
      "execution_count": null,
      "metadata": {
        "collapsed": false
      },
      "outputs": [],
      "source": [
        "arguments = [True, False]\nfunction = lambda x: tools.epify(\n    planar_trajectories[\"Radial\"],\n    Ns_transitions=100,\n    nb_trains=Nc_planes // 2,\n    reverse_odd_shots=x,\n)\nshow_trajectories(\n    function, arguments, one_shot=one_shot, subfig_size=subfigure_size, dim=\"2D\"\n)"
      ]
    },
    {
      "cell_type": "markdown",
      "metadata": {},
      "source": [
        "### Prewind/rewind\n\nTwo tools used to generate gradients before and after the trajectory.\n\nThe trajectory can be extended to start before the readout\nfrom the k-space center with null gradients and reach\neach shot position with the required gradient strength, and\nthen come back to the center.\n\nArguments:\n\n- ``trajectory (array_like)``: trajectory to change by prolonging\n  and merging the shots together.\n- ``Ns_transitions (int)``: number of pre-winding/rewinding steps.\n\n\n"
      ]
    },
    {
      "cell_type": "code",
      "execution_count": null,
      "metadata": {
        "collapsed": false
      },
      "outputs": [],
      "source": [
        "trajectory = tools.prewind(planar_trajectories[\"Spiral\"], Ns_transitions=Ns // 10)\ntrajectory = tools.rewind(trajectory, Ns_transitions=Ns // 10)\nshow_trajectory(trajectory, figure_size=figure_size, one_shot=one_shot)"
      ]
    },
    {
      "cell_type": "markdown",
      "metadata": {},
      "source": [
        "#### ``trajectory (array)``\n\nThe trajectory to change by extending them before and/or after\nthe readouts.\n\nNote that the radial prewinding and rewinding parts are overlapping\nwith the actual trajectory.\n\n\n"
      ]
    },
    {
      "cell_type": "code",
      "execution_count": null,
      "metadata": {
        "collapsed": false
      },
      "outputs": [],
      "source": [
        "arguments = [\"Radial\", \"Spiral\", \"2D Cones\", \"3D Cones\"]\nfunction = lambda x: tools.prewind(\n    tools.rewind(planar_trajectories[x], Ns_transitions=Ns // 10),\n    Ns_transitions=Ns // 10,\n)\nshow_trajectories(function, arguments, one_shot=one_shot, subfig_size=subfigure_size)"
      ]
    },
    {
      "cell_type": "code",
      "execution_count": null,
      "metadata": {
        "collapsed": false
      },
      "outputs": [],
      "source": [
        "show_trajectories(\n    function, arguments, one_shot=one_shot, subfig_size=subfigure_size, dim=\"2D\"\n)"
      ]
    },
    {
      "cell_type": "markdown",
      "metadata": {},
      "source": [
        "#### ``Ns_transitions (int)``\n\nNumber of samples/steps before and/or after the readouts.\nSmoother transitions are achieved with more points, but it may imply delayed\nreadout starts and longer TRs.\n\n\n"
      ]
    },
    {
      "cell_type": "code",
      "execution_count": null,
      "metadata": {
        "collapsed": false
      },
      "outputs": [],
      "source": [
        "arguments = [25, 50, 75, 100]\nfunction = lambda x: tools.prewind(\n    tools.rewind(planar_trajectories[\"2D Cones\"], Ns_transitions=x),\n    Ns_transitions=x,\n)\nshow_trajectories(\n    function, arguments, one_shot=one_shot, subfig_size=subfigure_size, dim=\"2D\"\n)"
      ]
    },
    {
      "cell_type": "markdown",
      "metadata": {},
      "source": [
        "## Functional tools\n\n"
      ]
    },
    {
      "cell_type": "markdown",
      "metadata": {},
      "source": [
        "### Preparation\n\nWe can define a few functions that will be used in the following\nexamples, using again 2D radial, Fermat's spiral, and 2D/3D cones:\n\n\n"
      ]
    },
    {
      "cell_type": "code",
      "execution_count": null,
      "metadata": {
        "collapsed": false
      },
      "outputs": [],
      "source": [
        "init_trajectories = {\n    \"Radial\": lambda Nc: mn.initialize_2D_radial(Nc, Ns, in_out=in_out),\n    \"Spiral\": lambda Nc: mn.initialize_2D_spiral(\n        Nc, Ns, in_out=in_out, spiral=\"fermat\", nb_revolutions=nb_revolutions\n    ),\n    \"2D Cones\": lambda Nc: mn.initialize_2D_cones(\n        Nc, Ns, in_out=in_out, nb_zigzags=nb_zigzags\n    ),\n    \"3D Cones\": lambda Nc: tools.rotate(\n        single_trajectories[\"3D Cones\"],\n        nb_rotations=Nc,\n        z_tilt=2 * np.pi / Nc / (1 + in_out),\n    ),\n}"
      ]
    },
    {
      "cell_type": "markdown",
      "metadata": {},
      "source": [
        "### Stack spherically\n\nA tool similar to ``tools.stack`` but with stacks shrinked\nin order to cover the k-space sphere and a variable number\nof shot per stack to improve the coverage over larger stacks.\n\nArguments:\n\n- ``trajectory_func (function)``: trajectory function that\n  should return an array-like with the usual $(N_c, N_s, N_d)$ size.\n- ``Nc (int)``: number of shots to use for the whole spherically\n  stacked trajectory.\n- ``nb_stacks (int)``: number of stacks repeating ``trajectory``\n  over the $k_z$-axis.\n- ``z_tilt (float)``: angle tilt between consecutive stacks\n  around the $k_z$-axis. ``(default None)``\n- ``hard_bounded (bool)``: whether the stacks should be\n  strictly bounded to k-space. ``(default True)``\n- ``**kwargs``: trajectory initialization parameters for the\n  function provided with ``trajectory_func``.\n\n\n"
      ]
    },
    {
      "cell_type": "code",
      "execution_count": null,
      "metadata": {
        "collapsed": false
      },
      "outputs": [],
      "source": [
        "trajectory = tools.stack_spherically(\n    init_trajectories[\"Radial\"], Nc=Nc, nb_stacks=nb_repetitions\n)\nshow_trajectory(trajectory, figure_size=figure_size, one_shot=one_shot)"
      ]
    },
    {
      "cell_type": "markdown",
      "metadata": {},
      "source": [
        "#### ``trajectory_func (function)``\n\nA function that takes at least one argument ``Nc`` to control\nthe number of shots, in order to adapt that value for each stack\nand focus more ressources over larger areas. In opposition to\n``tools.stack``, it is not possible to use stacked-NUFFT operators\nwith ``tools.stack_spherically``.\n\n\n"
      ]
    },
    {
      "cell_type": "code",
      "execution_count": null,
      "metadata": {
        "collapsed": false
      },
      "outputs": [],
      "source": [
        "arguments = [\"Radial\", \"Spiral\", \"2D Cones\", \"3D Cones\"]\nfunction = lambda x: tools.stack_spherically(\n    init_trajectories[x], Nc=Nc, nb_stacks=nb_repetitions\n)\nshow_trajectories(function, arguments, one_shot=one_shot, subfig_size=subfigure_size)"
      ]
    },
    {
      "cell_type": "code",
      "execution_count": null,
      "metadata": {
        "collapsed": false
      },
      "outputs": [],
      "source": [
        "show_trajectories(\n    function,\n    arguments,\n    one_shot=one_shot,\n    subfig_size=subfigure_size,\n    dim=\"2D\",\n    axes=(0, 2),\n)"
      ]
    },
    {
      "cell_type": "markdown",
      "metadata": {},
      "source": [
        "In the previous example, we can observe that spirals and cones\nare nicely adapted for each stack, while shrinking the shots\nfor the radial trajectory is quite irrelevant (coverage is not\nimproved). Instead, each radial disc could be normalized to\ncover a cylinder with variable density over $k_z$.\n\n\n"
      ]
    },
    {
      "cell_type": "code",
      "execution_count": null,
      "metadata": {
        "collapsed": false
      },
      "outputs": [],
      "source": [
        "traj_classic = tools.stack_spherically(\n    init_trajectories[\"Radial\"], Nc=Nc, nb_stacks=nb_repetitions\n)\ntraj_normal = np.copy(traj_classic)\ntraj_normal[..., :2] = (\n    KMAX\n    * traj_normal[..., :2]\n    / np.max(\n        np.linalg.norm(traj_classic[..., :2], axis=2, keepdims=True),\n        axis=1,\n        keepdims=True,\n    )\n)\n\ntrajectories = {\"Classic\": traj_classic, \"Normalized\": traj_normal}\narguments = [\"Classic\", \"Normalized\"]\nfunction = lambda x: trajectories[x]\nshow_trajectories(function, arguments, one_shot=one_shot, subfig_size=subfigure_size)"
      ]
    },
    {
      "cell_type": "markdown",
      "metadata": {},
      "source": [
        "### Shellify\n\nA tool to carve trajectories into half-spheres/domes and duplicate\nthem into concentric shells composed of a variable number\nof shots depending on their size.\n\nArguments:\n\n- ``trajectory_func (function)``: trajectory function that\n  should return an array-like with the usual $(N_c, N_s, N_d)$ size.\n- ``Nc (int)``: number of shots to use for the whole spherically\n  stacked trajectory.\n- ``nb_shells (int)``: number of shells repeating ``trajectory``\n  with spherical distortion over the $k_z$-axis.\n- ``z_tilt (float)``: angle tilt between concentric shells\n  around the $k_z$-axis. ``(default None)``\n- ``hemisphere_mode (str)``: define how the lower hemisphere should\n  be oriented relatively to the upper one, with \"symmetric\" providing\n  a kx-ky planar symmetry by changing the polar angle, and with\n  \"reversed\" promoting continuity (for example in spirals) by\n  reversing the azimuthal angle. ``(default \"symmetric\")``.\n- ``**kwargs``: trajectory initialization parameters for the\n  function provided with ``trajectory_func``.\n\n\n"
      ]
    },
    {
      "cell_type": "code",
      "execution_count": null,
      "metadata": {
        "collapsed": false
      },
      "outputs": [],
      "source": [
        "trajectory = tools.shellify(\n    init_trajectories[\"Radial\"], Nc=Nc, nb_shells=nb_repetitions\n)\nshow_trajectory(trajectory, figure_size=figure_size, one_shot=one_shot)"
      ]
    },
    {
      "cell_type": "markdown",
      "metadata": {},
      "source": [
        "#### ``trajectory_func (function)``\n\nA function that takes at least one argument ``Nc`` to control\nthe number of shots, in order to adapt that value for each shell\nand focus more ressources over larger spheres.\n\nGradient amplitudes and slew rates are likely to be increased\nnear the edges, and it should be accounted for.\nCompanion functions will be added in the future in order\nto manipulate individual spheres.\n\n\n"
      ]
    },
    {
      "cell_type": "code",
      "execution_count": null,
      "metadata": {
        "collapsed": false
      },
      "outputs": [],
      "source": [
        "arguments = [\"Radial\", \"Spiral\", \"2D Cones\", \"3D Cones\"]\nfunction = lambda x: tools.shellify(\n    init_trajectories[x], Nc=Nc, nb_shells=nb_repetitions\n)\nshow_trajectories(function, arguments, one_shot=one_shot, subfig_size=subfigure_size)"
      ]
    },
    {
      "cell_type": "markdown",
      "metadata": {},
      "source": [
        "#### ``hemisphere_mode (str)``\n\nDefine how the lower hemisphere should be oriented relatively\nto the upper one, with \"symmetric\" providing a $k_x-k_y$\nplanar symmetry by changing the polar angle, and with \"reversed\"\npromoting continuity (for example in spirals) by reversing\nthe azimuthal angle.\n\n\n"
      ]
    },
    {
      "cell_type": "code",
      "execution_count": null,
      "metadata": {
        "collapsed": false
      },
      "outputs": [],
      "source": [
        "arguments = [\"symmetric\", \"reversed\"]\nfunction = lambda x: tools.shellify(\n    init_trajectories[\"Spiral\"], Nc=Nc, nb_shells=nb_repetitions, hemisphere_mode=x\n)\nshow_trajectories(\n    function,\n    arguments,\n    one_shot=one_shot,\n    subfig_size=subfigure_size,\n    dim=\"2D\",\n    axes=(0, 2),\n)"
      ]
    },
    {
      "cell_type": "markdown",
      "metadata": {},
      "source": [
        "## References\n\n.. [Pip+11] Pipe, James G., Nicholas R. Zwart, Eric A. Aboussouan,\n   Ryan K. Robison, Ajit Devaraj, and Kenneth O. Johnson.\n   \"A new design and rationale for 3D orthogonally\n   oversampled k\u2010space trajectories.\"\n   Magnetic resonance in medicine 66, no. 5 (2011): 1303-1311.\n\n"
      ]
    }
  ],
  "metadata": {
    "kernelspec": {
      "display_name": "Python 3",
      "language": "python",
      "name": "python3"
    },
    "language_info": {
      "codemirror_mode": {
        "name": "ipython",
        "version": 3
      },
      "file_extension": ".py",
      "mimetype": "text/x-python",
      "name": "python",
      "nbconvert_exporter": "python",
      "pygments_lexer": "ipython3",
      "version": "3.10.16"
    }
  },
  "nbformat": 4,
  "nbformat_minor": 0
}