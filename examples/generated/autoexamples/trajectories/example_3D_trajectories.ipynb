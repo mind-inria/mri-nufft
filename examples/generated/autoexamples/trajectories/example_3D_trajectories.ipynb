{
  "cells": [
    {
      "cell_type": "markdown",
      "metadata": {},
      "source": [
        "\n# 3D Trajectories\n\nA collection of 3D non-Cartesian trajectories with analytical definitions.\n"
      ]
    },
    {
      "cell_type": "markdown",
      "metadata": {},
      "source": [
        "Hereafter we detail and illustrate the different arguments used in the\nparameterization of 3D non-Cartesian trajectories. Since most arguments\nare redundant across the different patterns, some of the documentation\nwill refer to previous patterns for explanation.\n\nNote that the examples hereafter only cover natively 3D trajectories\nor famous 3D trajectories obtained from 2D. Examples on how to use\ntools to make 3D trajectories out of 2D ones are presented in\n`sphx_glr_generated_autoexamples_trajectories_example_trajectory_tools.py`\n\nIn this page in particular, we invite the user to manually run the script\nto be able to manipulate the plot orientations with the matplotlib interface\nto better visualize the 3D volumes.\n\n\n"
      ]
    },
    {
      "cell_type": "code",
      "execution_count": null,
      "metadata": {
        "collapsed": false
      },
      "outputs": [],
      "source": [
        "# External\nimport matplotlib.pyplot as plt\nimport numpy as np\nfrom utils import show_trajectories, show_trajectory\n\n# Internal\nimport mrinufft as mn"
      ]
    },
    {
      "cell_type": "markdown",
      "metadata": {},
      "source": [
        "## Script options\nThese options are used in the examples below as default values for all trajectories.\n\n"
      ]
    },
    {
      "cell_type": "code",
      "execution_count": null,
      "metadata": {
        "collapsed": false
      },
      "outputs": [],
      "source": [
        "# Trajectory parameters\nNc = 120  # Number of shots\nNs = 500  # Number of samples per shot\nin_out = False  # Choose between in-out or center-out trajectories\ntilt = \"uniform\"  # Angular distance between shots\nnb_repetitions = 6  # Number of stacks, rotations, cones, shells etc.\nnb_revolutions = 1  # Number of revolutions for base trajectories\nseed = 0  # Seed for random trajectories\n\n# Display parameters\nfigure_size = 10  # Figure size for trajectory plots\nsubfigure_size = 6  # Figure size for subplots\none_shot = -5  # Highlight one shot in particular"
      ]
    },
    {
      "cell_type": "markdown",
      "metadata": {},
      "source": [
        "## Radial trajectories\n\nIn this section are presented trajectories based on radial\nlines oriented using different methods and structures.\n\n### Phyllotaxis radial\n\nA 3D radial pattern with phyllotactic structure.\n\nThe radial shots are oriented according to a Fibonacci sphere\nlattice, supposed to reproduce the phyllotaxis found in nature\nthrough flowers, etc. It ensures an almost uniform distribution.\n\nThis function reproduces the proposition from [Pic+11]_, but the name\n\"spiral phyllotaxis\" was changed to avoid confusion with\nactual spirals.\n\nArguments:\n\n- ``Nc (int)``: number of individual shots\n- ``Ns (int)``: number of samples per shot\n- ``in_out (bool)``: define whether the shots should travel toward\n  the center then outside (in-out) or not (center-out). ``(default False)``\n\n\n"
      ]
    },
    {
      "cell_type": "code",
      "execution_count": null,
      "metadata": {
        "collapsed": false
      },
      "outputs": [],
      "source": [
        "trajectory = mn.initialize_3D_phyllotaxis_radial(Nc, Ns, in_out=in_out)\nshow_trajectory(trajectory, figure_size=figure_size, one_shot=one_shot)"
      ]
    },
    {
      "cell_type": "markdown",
      "metadata": {},
      "source": [
        "#### ``Nc (int)``\n\nThe number of individual shots, here 3D radial lines, used to cover the\nk-space. More shots means better coverage but also longer acquisitions.\n\n\n"
      ]
    },
    {
      "cell_type": "code",
      "execution_count": null,
      "metadata": {
        "collapsed": false
      },
      "outputs": [],
      "source": [
        "arguments = [Nc // 4, Nc // 2, Nc, Nc * 2]\nfunction = lambda x: mn.initialize_3D_phyllotaxis_radial(x, Ns, in_out=in_out)\nshow_trajectories(function, arguments, one_shot=one_shot, subfig_size=subfigure_size)"
      ]
    },
    {
      "cell_type": "markdown",
      "metadata": {},
      "source": [
        "#### ``Ns (int)``\n\nThe number of samples per shot. More samples means that either\nthe acquisition window is lengthened or the sampling rate is increased.\n\n\n"
      ]
    },
    {
      "cell_type": "code",
      "execution_count": null,
      "metadata": {
        "collapsed": false
      },
      "outputs": [],
      "source": [
        "arguments = [10, 25, 40, 100]\nfunction = lambda x: mn.initialize_3D_phyllotaxis_radial(Nc, x, in_out=in_out)\nshow_trajectories(function, arguments, one_shot=one_shot, subfig_size=subfigure_size)"
      ]
    },
    {
      "cell_type": "markdown",
      "metadata": {},
      "source": [
        "#### ``in_out (bool)``\n\nIt allows switching between different ways to define how the shot should\ntravel through the k-space:\n\n- in-out: starting from the outer regions, then passing through the center\n  then going back to outer regions, often on the opposite side (radial, cones)\n- center-out or center-center: when ``in_out=False`` the trajectory will start\n  at the center, but depending on the specific trajectory formula the path might\n  end up in the outer regions (radial, spiral, cones, etc)\n  or back to the center (rosette, lissajous).\n\nNote that the behavior of both ``tilt`` and ``width`` are automatically adapted\nto the changes to avoid having to update them too when switching ``in_out``.\n\n\n"
      ]
    },
    {
      "cell_type": "code",
      "execution_count": null,
      "metadata": {
        "collapsed": false
      },
      "outputs": [],
      "source": [
        "arguments = [True, False]\nfunction = lambda x: mn.initialize_3D_phyllotaxis_radial(Nc, Ns, in_out=x)\nshow_trajectories(function, arguments, one_shot=one_shot, subfig_size=subfigure_size)"
      ]
    },
    {
      "cell_type": "markdown",
      "metadata": {},
      "source": [
        "### Golden means radial\n\nA 3D radial pattern with golden means-based structure.\n\nThe radial shots are oriented using multidimensional golden means,\nwhich are derived from modified Fibonacci sequences by an eigenvalue\napproach, to provide a temporally stable acquisition with widely\nspread shots at all time.\n\nThis function reproduces the proposition from [Cha+09]_, with\nin addition the option to switch between center-out\nand in-out radial shots.\n\nArguments:\n\n- ``Nc (int)``: number of individual shots. See 3D radial\n- ``Ns (int)``: number of samples per shot. See 3D radial\n- ``in_out (bool)``: define whether the shots should travel toward\n  the center then outside (in-out) or not (center-out).\n  ``(default False)``. See 3D radial\n\n\n"
      ]
    },
    {
      "cell_type": "code",
      "execution_count": null,
      "metadata": {
        "collapsed": false
      },
      "outputs": [],
      "source": [
        "trajectory = mn.initialize_3D_golden_means_radial(Nc, Ns, in_out=in_out)\nshow_trajectory(trajectory, figure_size=figure_size, one_shot=one_shot)"
      ]
    },
    {
      "cell_type": "markdown",
      "metadata": {},
      "source": [
        "### Wong radial\n\nA 3D radial pattern with a spiral structure.\n\nThe radial shots are oriented according to an archimedean spiral\nover a sphere surface, for each interleave.\n\nThis function reproduces the proposition from [WR94]_, with\nin addition the option to switch between center-out\nand in-out radial shots.\n\nArguments:\n\n- ``Nc (int)``: number of individual shots. See 3D radial\n- ``Ns (int)``: number of samples per shot. See 3D radial\n- ``nb_interleaves (int)``: number of implicit interleaves\n  defining the shots order for a more structured k-space\n  distribution over time. ``(default 1)``\n- ``in_out (bool)``: define whether the shots should travel toward\n  the center then outside (in-out) or not (center-out).\n  ``(default False)``. See 3D radial\n\n\n"
      ]
    },
    {
      "cell_type": "code",
      "execution_count": null,
      "metadata": {
        "collapsed": false
      },
      "outputs": [],
      "source": [
        "trajectory = mn.initialize_3D_wong_radial(Nc, Ns, in_out=in_out)\nshow_trajectory(trajectory, figure_size=figure_size, one_shot=one_shot)"
      ]
    },
    {
      "cell_type": "markdown",
      "metadata": {},
      "source": [
        "### Park radial\n\nA 3D radial pattern with a spiral structure.\n\nThe radial shots are oriented according to an archimedean spiral\nover a sphere surface, shared uniformly between all interleaves.\n\nThis function reproduces the proposition from [Par+16]_,\nitself based on the work from [WR94]_, with\nin addition the option to switch between center-out\nand in-out radial shots.\n\nArguments:\n\n- ``Nc (int)``: number of individual shots. See 3D radial\n- ``Ns (int)``: number of samples per shot. See 3D radial\n- ``nb_interleaves (int)``: number of implicit interleaves\n  defining the shots order for a more structured k-space\n  distribution over time. ``(default 1)``\n- ``in_out (bool)``: define whether the shots should travel toward\n  the center then outside (in-out) or not (center-out).\n  ``(default False)``. See 3D radial\n\n\n"
      ]
    },
    {
      "cell_type": "code",
      "execution_count": null,
      "metadata": {
        "collapsed": false
      },
      "outputs": [],
      "source": [
        "trajectory = mn.initialize_3D_park_radial(Nc, Ns, in_out=in_out)\nshow_trajectory(trajectory, figure_size=figure_size, one_shot=one_shot)"
      ]
    },
    {
      "cell_type": "markdown",
      "metadata": {},
      "source": [
        "## Freeform trajectories\n\nIn this section are presented trajectories in all kinds of shapes\nand relying on different principles.\n\n### 3D Cones\n\nA common pattern composed of 3D cones oriented all over within a sphere.\n\nArguments:\n\n- ``Nc (int)``: number of individual shots. See 3D radial\n- ``Ns (int)``: number of samples per shot. See 3D radial\n- ``tilt (str, float)``: angle between each consecutive shot (in radians).\n  ``(default \"golden\")``\n- ``in_out (bool)``: define whether the shots should travel toward\n  the center then outside (in-out) or not (center-out).\n  ``(default False)``. See 3D radial\n- ``nb_zigzags (float)``: number of revolutions over a center-out shot.\n  ``(default 5)``\n- ``spiral (str, float)``: type of spiral defined through the general\n  archimedean equation. ``(default \"archimedes\")``. See 2D spiral\n- ``width (float)``: cone width factor, normalized to densely cover the k-space\n  by default. ``(default 1)``\n\n\n"
      ]
    },
    {
      "cell_type": "code",
      "execution_count": null,
      "metadata": {
        "collapsed": false
      },
      "outputs": [],
      "source": [
        "trajectory = mn.initialize_3D_cones(Nc, Ns, in_out=in_out)\nshow_trajectory(trajectory, figure_size=figure_size, one_shot=one_shot)"
      ]
    },
    {
      "cell_type": "markdown",
      "metadata": {},
      "source": [
        "#### ``tilt (str, float)``\n\nThe angle between each consecutive shots, either in radians or as a\nstring defining some default mods such as \u201cuniform\u201d for\n$2 \\pi / N_c$, or \u201cgolden\u201d and \u201cmri golden\u201d for the different\ncommon definitions of golden angles. The angle is automatically adapted\nwhen the ``in_out`` argument is switched to keep the same behavior.\n\n\n"
      ]
    },
    {
      "cell_type": "code",
      "execution_count": null,
      "metadata": {
        "collapsed": false
      },
      "outputs": [],
      "source": [
        "arguments = [\"uniform\", \"golden\", \"mri-golden\", np.pi / 17]\nfunction = lambda x: mn.initialize_3D_cones(Nc, Ns, tilt=x, in_out=in_out)\nshow_trajectories(function, arguments, one_shot=one_shot, subfig_size=subfigure_size)"
      ]
    },
    {
      "cell_type": "markdown",
      "metadata": {},
      "source": [
        "#### ``nb_zigzags (float)``\n\nThe number of \u201czigzags\u201d, or revolutions around the 3D cone on a center-out shot\n(doubled overall for in-out trajectories)\n\n\n"
      ]
    },
    {
      "cell_type": "code",
      "execution_count": null,
      "metadata": {
        "collapsed": false
      },
      "outputs": [],
      "source": [
        "arguments = [0.5, 2, 5, 10]\nfunction = lambda x: mn.initialize_3D_cones(Nc, Ns, in_out=in_out, nb_zigzags=x)\nshow_trajectories(function, arguments, one_shot=one_shot, subfig_size=subfigure_size)"
      ]
    },
    {
      "cell_type": "markdown",
      "metadata": {},
      "source": [
        "#### ``spiral (str, float)``\n\n\nThe shape of the spiral defined and documented in\n``initialize_2D_spiral``. Both ``\"archimedes\"`` and ``\"fermat\"``\nspirals are available as string options for convenience.\n\n\n"
      ]
    },
    {
      "cell_type": "code",
      "execution_count": null,
      "metadata": {
        "collapsed": false
      },
      "outputs": [],
      "source": [
        "arguments = [\"archimedes\", \"fermat\", 0.5, 1.5]\nfunction = lambda x: mn.initialize_3D_cones(Nc, Ns, in_out=in_out, spiral=x)\nshow_trajectories(function, arguments, one_shot=one_shot, subfig_size=subfigure_size)"
      ]
    },
    {
      "cell_type": "markdown",
      "metadata": {},
      "source": [
        "#### ``width (float)``\n\nThe cone width normalized such that ``width = 1`` corresponds to\nnon-overlapping cones covering the whole k-space sphere, and\ntherefore ``width > 1`` creates overlap between cone regions and\n``width < 1`` tends to more radial patterns.\n\n\n"
      ]
    },
    {
      "cell_type": "code",
      "execution_count": null,
      "metadata": {
        "collapsed": false
      },
      "outputs": [],
      "source": [
        "arguments = [0.2, 1, 2, 3]\nfunction = lambda x: mn.initialize_3D_cones(Nc, Ns, in_out=in_out, width=x)\nshow_trajectories(function, arguments, one_shot=one_shot, subfig_size=subfigure_size)"
      ]
    },
    {
      "cell_type": "markdown",
      "metadata": {},
      "source": [
        "### FLORET\n\nA pattern introduced in [Pip+11]_ composed of Fermat spirals\nfolded into cones. The acronym stands for Fermat Looped, Orthogonally\nEncoded Trajectories. Most arguments are related either to\n``initialize_2D_spiral`` or to ``tools.conify``.\n\nArguments:\n\n- ``Nc (int)``: number of individual shots. See 3D radial\n- ``Ns (int)``: number of samples per shot. See 3D radial\n- ``in_out (bool)``: define whether the shots should travel toward\n  the center then outside (in-out) or not (center-out).\n  ``(default False)``. See 3D radial\n- ``nb_revolutions (float)``: number of revolutions performed from the\n  center. ``(default 1)``. See 2D spiral\n- ``spiral (str, float)``: type of spiral defined through the general\n  archimedean equation. ``(default \"fermat\")``. See 2D spiral\n- ``cone_tilt (float)``: angle tilt between consecutive cones\n  around the $k_z$-axis. ``(default \"golden\")``. See ``tools.conify``\n- ``max_angle (float)``: maximum angle of the cones. ``(default pi / 2)``.\n  See ``tools.conify``\n- ``axes (tuple)``: axes over which cones are created, by default (2,)\n\n\n"
      ]
    },
    {
      "cell_type": "code",
      "execution_count": null,
      "metadata": {
        "collapsed": false
      },
      "outputs": [],
      "source": [
        "trajectory = mn.initialize_3D_floret(\n    Nc * nb_repetitions,\n    Ns,\n    in_out=in_out,\n    nb_revolutions=nb_revolutions,\n    max_angle=np.pi / 3,\n)[::-1]\nshow_trajectory(trajectory, figure_size=figure_size, one_shot=one_shot)"
      ]
    },
    {
      "cell_type": "markdown",
      "metadata": {},
      "source": [
        "#### ``axes (tuple)``\n\nIndices of the different axes over which cones are created,\nwith 0, 1, 2 corresponding to $k_x, k_y, k_z$ respectively.\nThe ``Nc`` shots and ``nb_cones`` are distributed\nover all axes, and therefore should be divisible by ``len(axes)``.\n\nThe point is to provide an efficient coverage by reducing ``max_angle``\nto avoid redundancy around one axis, but still cover the whole\nk-space sphere by duplicating cones along several axes, as initially\nproposed by [Pip+11]_.\n\n\n"
      ]
    },
    {
      "cell_type": "code",
      "execution_count": null,
      "metadata": {
        "collapsed": false
      },
      "outputs": [],
      "source": [
        "arguments = [(0,), (1,), (0, 1), (0, 1, 2)]\nfunction = lambda x: mn.initialize_3D_floret(\n    Nc * nb_repetitions,\n    Ns,\n    in_out=in_out,\n    nb_revolutions=nb_revolutions,\n    max_angle=np.pi / 4,\n    axes=x,\n)[::-1]\nshow_trajectories(function, arguments, one_shot=one_shot, subfig_size=subfigure_size)"
      ]
    },
    {
      "cell_type": "code",
      "execution_count": null,
      "metadata": {
        "collapsed": false
      },
      "outputs": [],
      "source": [
        "show_trajectories(\n    function, arguments, one_shot=one_shot, subfig_size=subfigure_size, dim=\"2D\"\n)"
      ]
    },
    {
      "cell_type": "markdown",
      "metadata": {},
      "source": [
        "### Wave-CAIPI\n\nA pattern introduced in [Bil+15]_ composed of helices evolving\nin the same direction and packed together,\ninherited from trajectories such as CAIPIRINHA and\nBunched Phase-Encoding (BPE) designed to better spread aliasing\nand facilitate reconstruction.\n\nArguments:\n\n- ``Nc (int)``: number of individual shots. See 3D radial\n- ``Ns (int)``: number of samples per shot. See 3D radial\n- ``nb_revolutions (str, float)``: number of revolution of the helices.\n  ``(default 5)``\n- ``width (float)``: helix width factor, normalized to densely\n  cover the k-space by default. ``(default 1)``.\n- ``packing (str)``: packing method used to position the helices.\n  ``(default \"triangular\")``\n- ``shape (str, float)``: shape over the 2D kx-ky plane to pack with shots.\n  ``(default \"circle\")``\n- ``spacing (tuple(int, int))``: Spacing between helices over the\n  2D $k_x$-$k_y$ plane normalized similarly to `width`. ``(default (1, 1))``\n\n"
      ]
    },
    {
      "cell_type": "code",
      "execution_count": null,
      "metadata": {
        "collapsed": false
      },
      "outputs": [],
      "source": [
        "trajectory = mn.initialize_3D_wave_caipi(Nc, Ns)\nshow_trajectory(trajectory, figure_size=figure_size, one_shot=one_shot)"
      ]
    },
    {
      "cell_type": "markdown",
      "metadata": {},
      "source": [
        "#### ``nb_revolutions (float)``\n\nThe number of revolutions of the helices from bottom to top.\n\n\n"
      ]
    },
    {
      "cell_type": "code",
      "execution_count": null,
      "metadata": {
        "collapsed": false
      },
      "outputs": [],
      "source": [
        "arguments = [0.5, 2.5, 5, 10]\nfunction = lambda x: mn.initialize_3D_wave_caipi(Nc, Ns, nb_revolutions=x)\nshow_trajectories(function, arguments, one_shot=one_shot, subfig_size=subfigure_size)"
      ]
    },
    {
      "cell_type": "markdown",
      "metadata": {},
      "source": [
        "#### ``width (float)``\n\nThe helix diameter normalized such that ``width = 1`` corresponds to\nnon-overlapping shots densely covering the k-space shape (for square packing),\nand therefore ``width > 1`` creates overlap between cone regions and\n``width < 1`` tends to more radial patterns.\n\nSee ``packing`` for more details about coverage.\n\n\n"
      ]
    },
    {
      "cell_type": "code",
      "execution_count": null,
      "metadata": {
        "collapsed": false
      },
      "outputs": [],
      "source": [
        "arguments = [0.2, 1, 2, 3]\nfunction = lambda x: mn.initialize_3D_wave_caipi(Nc, Ns, width=x)\nshow_trajectories(function, arguments, one_shot=one_shot, subfig_size=subfigure_size)"
      ]
    },
    {
      "cell_type": "markdown",
      "metadata": {},
      "source": [
        "#### ``packing (str)``\n\nThe method used to pack circles of same size within an arbitrary ``shape``.\nThe available methods are ``\"triangular\"`` and ``\"square\"`` for regular tiling\nover dense grids, and ``\"circular\"``, ``fibonacci`` and ``\"random\"`` for\nirregular packing.\nDifferent aliases are available, such as ``\"triangle\"``, ``\"hexagon\"`` instead\nof ``\"triangular\"``.\n\nNote that ``\"triangular\"`` and ``fibonacci`` packings have slightly overlapping\nhelices, as their widths correspond to that of an optimaly packed\ntriangular/hexagonal grid.\nThe ``\"random\"`` packing also naturally overlaps as the positions are determined\nfollowing a uniform distribution over $k_x$ and $k_y$ dimensions.\n\n\n"
      ]
    },
    {
      "cell_type": "code",
      "execution_count": null,
      "metadata": {
        "collapsed": false
      },
      "outputs": [],
      "source": [
        "arguments = [\"triangular\", \"square\", \"circular\", \"fibonacci\", \"random\"]\nfunction = lambda x: mn.initialize_3D_wave_caipi(Nc, Ns, packing=x)\nshow_trajectories(function, arguments, one_shot=one_shot, subfig_size=subfigure_size)"
      ]
    },
    {
      "cell_type": "code",
      "execution_count": null,
      "metadata": {
        "collapsed": false
      },
      "outputs": [],
      "source": [
        "show_trajectories(\n    function, arguments, one_shot=one_shot, subfig_size=subfigure_size, dim=\"2D\"\n)"
      ]
    },
    {
      "cell_type": "markdown",
      "metadata": {},
      "source": [
        "#### ``shape (str, float)``\n\nThe 2D shape defined over the $k_x$-$k_y$ plane\nand where the helices should be packed. Aliases are available for convenience,\nnamely ``\"circle\"``, ``\"square\"``, ``\"diamond\"``, but shapes are primarily\ndefined through the p-norm of the 2D coordinates following the convention\nof the ``ord`` parameter from ``numpy.linalg.norm``.\n\nThe shapes are approximately respected depending on the available ``Nc``\nparameter, and extra shots on the edges will be placed in priority to have\na minimal 2-norm (eliminating the diagonals) except for circles with infinity-norm\n(accumulating over the diagonals).\n\n\n"
      ]
    },
    {
      "cell_type": "code",
      "execution_count": null,
      "metadata": {
        "collapsed": false
      },
      "outputs": [],
      "source": [
        "arguments = [\"circle\", \"square\", \"diamond\", 0.5]\nfunction = lambda x: mn.initialize_3D_wave_caipi(Nc, Ns, shape=x)\nshow_trajectories(function, arguments, one_shot=one_shot, subfig_size=subfigure_size)"
      ]
    },
    {
      "cell_type": "code",
      "execution_count": null,
      "metadata": {
        "collapsed": false
      },
      "outputs": [],
      "source": [
        "show_trajectories(\n    function, arguments, one_shot=one_shot, subfig_size=subfigure_size, dim=\"2D\"\n)"
      ]
    },
    {
      "cell_type": "markdown",
      "metadata": {},
      "source": [
        "#### ``spacing (tuple(int, int))``\n\nThe spacing between helices over the $k_x$-$k_y$ plane, mostly\ndefined for ``\"square\"`` packing. It is defined to correspond to the ``width``\nunit, itself automatically matching the helix diameters, which can cause more\ncomplex behaviors for other packing methods as the diameters are normalized to\nfit within the cubic k-space.\n\n\n"
      ]
    },
    {
      "cell_type": "code",
      "execution_count": null,
      "metadata": {
        "collapsed": false
      },
      "outputs": [],
      "source": [
        "arguments = [(1, 1), (2, 1), (1, 2), (2.3, 1.8)]\nfunction = lambda x: mn.initialize_3D_wave_caipi(Nc, Ns, packing=\"square\", spacing=x)\nshow_trajectories(function, arguments, one_shot=one_shot, subfig_size=subfigure_size)"
      ]
    },
    {
      "cell_type": "code",
      "execution_count": null,
      "metadata": {
        "collapsed": false
      },
      "outputs": [],
      "source": [
        "show_trajectories(\n    function, arguments, one_shot=one_shot, subfig_size=subfigure_size, dim=\"2D\"\n)"
      ]
    },
    {
      "cell_type": "markdown",
      "metadata": {},
      "source": [
        "### Seiffert spirals / Yarnball\n\nA recent pattern with tightly controlled gradient norms using radially\nmodulated Seiffert spirals, based on Jacobi elliptic functions.\nNote that Seiffert spirals more commonly refer to a curve evolving\nover a sphere surface rather than a volume, with the advantage of\nhaving a constant speed and angular velocity. The MR trajectory\nis obtained by increasing progressively the radius of the sphere.\n\nThis implementation follows the proposition from [SMR18]_ based on\nworks from [Er00]_ and [Br09]_. The pattern is also referred to as\nYarnball by a different team [SB21]_, as a nod to the Yarn trajectory\npictured in [IN95]_, even though both admittedly share little in common.\n\nArguments:\n\n- ``Nc (int)``: number of individual shots. See 3D radial\n- ``Ns (int)``: number of samples per shot. See 3D radial\n- ``curve_index (float)``: Index controlling curvature from 0 (flat) to 1 (curvy).\n  ``(default 0.3)``\n- ``nb_revolutions (float)``: number of revolutions or elliptic periods.\n  ``(default 1)``\n- ``axis_tilt (str, float)``: angle between each consecutive shot (in radians)\n  while descending over the $k_z$-axis ``(default \"golden\")``. See 3D cones\n- ``spiral_tilt (str, float)``: angle of the spiral within its own axis,\n  defined from center to its outermost point ``(default \"golden\")``.\n- ``in_out (bool)``: define whether the shots should travel toward the center\n  then outside (in-out) or not (center-out). ``(default False)``. See 3D radial\n\n\n"
      ]
    },
    {
      "cell_type": "code",
      "execution_count": null,
      "metadata": {
        "collapsed": false
      },
      "outputs": [],
      "source": [
        "trajectory = mn.initialize_3D_seiffert_spiral(Nc, Ns, in_out=in_out)\nshow_trajectory(trajectory, figure_size=figure_size, one_shot=one_shot)"
      ]
    },
    {
      "cell_type": "markdown",
      "metadata": {},
      "source": [
        "#### ``curve_index (float)``\n\nAn index defined over $[0, 1)$ controling the curvature, with $0$\ncorresponding to a planar spiral, and increasing the length and exploration of\nthe curve while asymptotically approaching $1$.\n\n\n"
      ]
    },
    {
      "cell_type": "code",
      "execution_count": null,
      "metadata": {
        "collapsed": false
      },
      "outputs": [],
      "source": [
        "arguments = [0, 0.3, 0.9, 0.99]\nfunction = lambda x: mn.initialize_3D_seiffert_spiral(\n    Nc, Ns, in_out=in_out, curve_index=x\n)\nshow_trajectories(function, arguments, one_shot=one_shot, subfig_size=subfigure_size)"
      ]
    },
    {
      "cell_type": "markdown",
      "metadata": {},
      "source": [
        "#### ``nb_revolutions (float)``\n\nNumber of revolutions, or simply the number of times a curve reaches its\noriginal orientation. For regular Seiffert spirals, it corresponds to the\nnumber of times the shot reaches the starting pole of the sphere. It\nsubsequently defines the length of the curve.\n\n\n"
      ]
    },
    {
      "cell_type": "code",
      "execution_count": null,
      "metadata": {
        "collapsed": false
      },
      "outputs": [],
      "source": [
        "arguments = [0, 0.5, 1, 2]\nfunction = lambda x: mn.initialize_3D_seiffert_spiral(\n    Nc,\n    Ns,\n    in_out=in_out,\n    nb_revolutions=x,\n)\nshow_trajectories(function, arguments, one_shot=one_shot, subfig_size=subfigure_size)"
      ]
    },
    {
      "cell_type": "markdown",
      "metadata": {},
      "source": [
        "#### ``axis_tilt (str, float)``\n\nAngle between consecutive shots while descending along the $k_z$-axis.\nThe ``\"golden\"`` value chosen as default provides an almost even distribution\nover the k-space sphere by relying on Fibonacci lattice, and therefore it should\nbe changed carefully when relevant.\n\nNote that in the examples below, the ``spiral_tilt`` argument is set to 0\nfor clarity.\n\n\n"
      ]
    },
    {
      "cell_type": "code",
      "execution_count": null,
      "metadata": {
        "collapsed": false
      },
      "outputs": [],
      "source": [
        "arguments = [0, \"uniform\", \"golden\", 20 * 2 * np.pi / Nc]\nfunction = lambda x: mn.initialize_3D_seiffert_spiral(\n    Nc,\n    Ns,\n    in_out=in_out,\n    axis_tilt=x,\n    spiral_tilt=0,\n)\nshow_trajectories(function, arguments, one_shot=one_shot, subfig_size=subfigure_size)"
      ]
    },
    {
      "cell_type": "markdown",
      "metadata": {},
      "source": [
        "#### ``spiral_tilt (str, float)``\n\nDefine the angle of the spiral within its own axis after precession of the spiral\nalong the $k_z$-axis. Since the precession is applied through Rodrigues'\ncoefficients and Seiffert spirals are asymetric, their orientation right after\nthe precession can be quite biased and yield unbalanced densities.\n\nThe method proposed in [SMR18]_ to handle that issue is to rotate the spirals\nalong their own axes, but the exact way to choose the rotation is not specified.\nRather than picking random angles, we decided to provide the conventional \"tilt\"\nargument.\n\n\n"
      ]
    },
    {
      "cell_type": "code",
      "execution_count": null,
      "metadata": {
        "collapsed": false
      },
      "outputs": [],
      "source": [
        "arguments = [0, \"uniform\", \"golden\", 20 * 2 * np.pi / Nc]\nfunction = lambda x: mn.initialize_3D_seiffert_spiral(\n    Nc,\n    Ns,\n    in_out=in_out,\n    axis_tilt=\"golden\",\n    spiral_tilt=x,\n)\nshow_trajectories(function, arguments, one_shot=one_shot, subfig_size=subfigure_size)"
      ]
    },
    {
      "cell_type": "markdown",
      "metadata": {},
      "source": [
        "### ECCENTRIC\n\nThis is a reproduction of the proposition from [Kla+24]_.\nIt creates trajectories as uniformly distributed circles,\nwith a pseudo rosette-like structure at the center to ensure\nits coverage. ECCENTRIC stands for ECcentric Circle ENcoding\nTRajectorIes for Compressed sensing.\n\nArguments:\n\n- ``Nc (int)``: number of individual shots. See radial\n- ``Ns (int)``: number of samples per shot. See radial\n- ``nb_stacks (int)``: number of stack layers along the\n  $k_z$-axis\n- ``radius_ratio (float)``: radius of each circle relatively\n  to the k-space radius.\n- ``center_ratio (float)``: proportion of shots positioned around\n  the center into a pseudo-rosette pattern (default 0).\n- ``nb_revolutions (float)``: number of revolutions per circle\n  (default 1). See spiral\n- ``min_distance (float)``: minimum allowed distance between\n  consecutive circles relatively to the k-space radius (default 0).\n- ``seed (int)``: random seed for reproducibility, used only\n  to draw the circle centers (default None).\n\n"
      ]
    },
    {
      "cell_type": "code",
      "execution_count": null,
      "metadata": {
        "collapsed": false
      },
      "outputs": [],
      "source": [
        "trajectory = mn.initialize_3D_eccentric(\n    Nc, Ns, nb_stacks=nb_repetitions, radius_ratio=0.3, seed=seed\n)\nshow_trajectory(trajectory, figure_size=figure_size, one_shot=one_shot)"
      ]
    },
    {
      "cell_type": "markdown",
      "metadata": {},
      "source": [
        "#### ``nb_stacks (int)``\n\nThe number of stack layers along the $k_z$-axis. The number\nof shot varies per stack to match the density of a sphere.\n\n\n"
      ]
    },
    {
      "cell_type": "code",
      "execution_count": null,
      "metadata": {
        "collapsed": false
      },
      "outputs": [],
      "source": [
        "arguments = [2, 5, 7, 13]\nfunction = lambda x: mn.initialize_3D_eccentric(\n    Nc=Nc, Ns=Ns, nb_stacks=x, radius_ratio=0.3, seed=seed\n)\nshow_trajectories(function, arguments, one_shot=one_shot, subfig_size=subfigure_size)"
      ]
    },
    {
      "cell_type": "markdown",
      "metadata": {},
      "source": [
        "#### ``radius_ratio (float)``\n\nThe radius of each circle relatively to the k-space radius. It should be below\n0.5 otherwise the shots are not able to cross the k-space center.\n\n\n"
      ]
    },
    {
      "cell_type": "code",
      "execution_count": null,
      "metadata": {
        "collapsed": false
      },
      "outputs": [],
      "source": [
        "arguments = [0.05, 0.2, 0.35, 0.5]\nfunction = lambda x: mn.initialize_3D_eccentric(\n    Nc=Nc, Ns=Ns, nb_stacks=nb_repetitions, radius_ratio=x, seed=seed\n)\nshow_trajectories(function, arguments, one_shot=one_shot, subfig_size=subfigure_size)"
      ]
    },
    {
      "cell_type": "markdown",
      "metadata": {},
      "source": [
        "#### ``center_ratio (float)``\n\nThe proportion of shots positioned around the center into a pseudo-rosette pattern.\nThe goal is to ensure its coverage despite the trajectories being random otherwise.\n\n\n"
      ]
    },
    {
      "cell_type": "code",
      "execution_count": null,
      "metadata": {
        "collapsed": false
      },
      "outputs": [],
      "source": [
        "arguments = [0, 0.3, 0.6, 1]\nfunction = lambda x: mn.initialize_3D_eccentric(\n    Nc=Nc, Ns=Ns, nb_stacks=nb_repetitions, radius_ratio=0.3, center_ratio=x, seed=seed\n)\nshow_trajectories(function, arguments, one_shot=one_shot, subfig_size=subfigure_size)"
      ]
    },
    {
      "cell_type": "markdown",
      "metadata": {},
      "source": [
        "## Shell trajectories\n\nIn this section are presented trajectories that are composed of concentric\nshells, i.e. shots arranged over spherical surfaces.\n\n### Helical shells\n\nAn arrangement of spirals covering sphere surfaces, often referred to as\nconcentric shells. Here the name was changed to avoid confusion with\nother trajectories sharing this principle.\n\nThis implementation follows the proposition from [YRB06]_ but the idea\nis much older and can be traced back at least to [IN95]_.\n\nArguments:\n\n- ``Nc (int)``: number of individual shots. See 3D radial\n- ``Ns (int)``: number of samples per shot. See 3D radial\n- ``nb_shells (int)``: number of shells used to partition the k-space.\n  It should be lower than or equal to ``Nc``.\n- ``spiral_reduction (float)``: factor to reduce the automatic number of\n  spiral revolution per shot. ``(default 1)``\n- ``shell_tilt (str, float)``: angle between each consecutive shell (in radians).\n  ``(default \"intergaps\")``\n- ``shot_tilt (str, float)``: angle between each consecutive shot\n  over a sphere (in radians). ``(default \"uniform\")``\n\n\n"
      ]
    },
    {
      "cell_type": "code",
      "execution_count": null,
      "metadata": {
        "collapsed": false
      },
      "outputs": [],
      "source": [
        "trajectory = mn.initialize_3D_helical_shells(Nc, Ns, nb_shells=nb_repetitions)\nshow_trajectory(trajectory, figure_size=figure_size, one_shot=one_shot)"
      ]
    },
    {
      "cell_type": "markdown",
      "metadata": {},
      "source": [
        "#### ``nb_shells (int)``\n\nNumber of shells, i.e. concentric spheres, used to partition the k-space sphere.\n\n\n"
      ]
    },
    {
      "cell_type": "code",
      "execution_count": null,
      "metadata": {
        "collapsed": false
      },
      "outputs": [],
      "source": [
        "arguments = [1, 2, nb_repetitions // 2, nb_repetitions]\nfunction = lambda x: mn.initialize_3D_helical_shells(\n    Nc=x, Ns=Ns, nb_shells=x, spiral_reduction=2\n)\nshow_trajectories(function, arguments, one_shot=False, subfig_size=subfigure_size)"
      ]
    },
    {
      "cell_type": "markdown",
      "metadata": {},
      "source": [
        "#### ``spiral_reduction (float)``\n\nNormalized factor controlling the curvature of the spirals over the sphere surfaces.\nThe curvature is determined by ``Nc`` and ``Ns`` automatically based on [YRB06]_\nin order to provide a coverage with minimal aliasing, but the curve velocities and\naccelerations might make them incompatible with gradient and slew rate constraints.\nTherefore we provided ``spiral_reduction`` to reduce (or increase) the pre-determined\nspiral curvature.\n\n\n"
      ]
    },
    {
      "cell_type": "code",
      "execution_count": null,
      "metadata": {
        "collapsed": false
      },
      "outputs": [],
      "source": [
        "arguments = [0.5, 1, 2, 4]\nfunction = lambda x: mn.initialize_3D_helical_shells(\n    Nc=Nc, Ns=Ns, nb_shells=nb_repetitions, spiral_reduction=x\n)\nshow_trajectories(function, arguments, one_shot=one_shot, subfig_size=subfigure_size)"
      ]
    },
    {
      "cell_type": "markdown",
      "metadata": {},
      "source": [
        "#### ``shell_tilt (str, float)``\n\nAngle between each consecutive shells (in radians).\n\n\n"
      ]
    },
    {
      "cell_type": "code",
      "execution_count": null,
      "metadata": {
        "collapsed": false
      },
      "outputs": [],
      "source": [
        "arguments = [\"uniform\", \"intergaps\", \"golden\", 3.1415]\nfunction = lambda x: mn.initialize_3D_helical_shells(\n    Nc=Nc, Ns=Ns, nb_shells=nb_repetitions, spiral_reduction=2, shell_tilt=x\n)\nshow_trajectories(function, arguments, one_shot=one_shot, subfig_size=subfigure_size)"
      ]
    },
    {
      "cell_type": "markdown",
      "metadata": {},
      "source": [
        "#### ``shot_tilt (str, float)``\n\nAngle between each consecutive shot over a shell/sphere (in radians).\nNote that since the number of shots per shell is determined automatically\nfor each individual shell following a density provided in [YRB06]_, it\nis advised to use adaptive keywords such as \"uniform\" rather than hard values.\n\n\n"
      ]
    },
    {
      "cell_type": "code",
      "execution_count": null,
      "metadata": {
        "collapsed": false
      },
      "outputs": [],
      "source": [
        "arguments = [\"uniform\", \"intergaps\", \"golden\", 0.1]\nfunction = lambda x: mn.initialize_3D_helical_shells(\n    Nc=Nc, Ns=Ns, nb_shells=nb_repetitions, spiral_reduction=2, shot_tilt=x\n)\nshow_trajectories(function, arguments, one_shot=one_shot, subfig_size=subfigure_size)"
      ]
    },
    {
      "cell_type": "markdown",
      "metadata": {},
      "source": [
        "### Annular shells\n\nAn exclusive trajectory composed of re-arranged rings covering\nconcentric shells with minimal redundancy, based on the work from [HM11]_.\nThe rings are cut in halves and recombined in order to provide\nmore homogeneous shot lengths as compared to a spherical stack\nof rings.\n\nArguments:\n\n- ``Nc (int)``: number of individual shots. See 3D radial\n- ``Ns (int)``: number of samples per shot. See 3D radial\n- ``nb_shells (int)``: number of shells used to partition the k-space.\n  It should be lower than or equal to ``Nc``. See helical shells.\n- ``shell_tilt (str, float)``: angle between each consecutive shell (in radians).\n  ``(default pi)``. See helical shells.\n- ``ring_tilt (str, float)``: angle used to rotate the half-sphere of rings\n  (in radians). ``(default pi / 2)``\n\n\n"
      ]
    },
    {
      "cell_type": "code",
      "execution_count": null,
      "metadata": {
        "collapsed": false
      },
      "outputs": [],
      "source": [
        "trajectory = mn.initialize_3D_annular_shells(Nc, Ns, nb_shells=nb_repetitions)\nshow_trajectory(trajectory, figure_size=figure_size, one_shot=one_shot)"
      ]
    },
    {
      "cell_type": "markdown",
      "metadata": {},
      "source": [
        "#### ``ring_tilt (float)``\n\nAngle (in radians) defining the rotation between the two halves of\neach spheres, and therefore also the rings recombination. A zero angle,\nas seen on the first example, results in a simple stack-of-rings, while\nan angle of $\\pi / 2$ on the third example makes the ring take\na right angle.\n\nNote that the angle is discretized over each sphere depending on the\nnumber of rings, and therefore the angle might be inaccurate over smaller\nshells.\n\nAn angle of $\\pi / 2$ allows reaching the best shot length homogeneity,\nand it partitions the spheres into several connex curves composed of exactly\ntwo shots.\n\n\n"
      ]
    },
    {
      "cell_type": "code",
      "execution_count": null,
      "metadata": {
        "collapsed": false
      },
      "outputs": [],
      "source": [
        "arguments = [0, np.pi / 4, np.pi / 2, 3 * np.pi / 4]\nfunction = lambda x: mn.initialize_3D_annular_shells(\n    Nc, Ns, nb_shells=nb_repetitions, ring_tilt=x\n)\nshow_trajectories(function, arguments, one_shot=one_shot, subfig_size=subfigure_size)"
      ]
    },
    {
      "cell_type": "markdown",
      "metadata": {},
      "source": [
        "### Seiffert shells\n\nAn exclusive trajectory composed of re-arranged Seiffert spirals\ncovering concentric shells. All curves have a constant speed and\nangular velocity, depending on the size of the sphere they belong to.\n\nThis implementation is inspired by the propositions from [YRB06]_ and [SMR18]_,\nand also based on works from [Er00]_ and [Br09]_.\n\nArguments:\n\n- ``Nc (int)``: number of individual shots. See 3D radial\n- ``Ns (int)``: number of samples per shot. See 3D radial\n- ``curve_index (float)``: Index controlling curvature from 0 (flat) to 1 (curvy).\n  ``(default 0.3)``. See Seiffert spirals\n- ``nb_revolutions (float)``: number of revolutions or elliptic periods.\n  ``(default 1)``.  See Seiffert spirals\n- ``shell_tilt (str, float)``: angle between each consecutive shell (in radians).\n  ``(default \"intergaps\")``. See helical shells\n- ``shot_tilt (str, float)``: angle between each consecutive shot\n  over a sphere (in radians). ``(default \"uniform\")``. See helical shells\n\n\n"
      ]
    },
    {
      "cell_type": "code",
      "execution_count": null,
      "metadata": {
        "collapsed": false
      },
      "outputs": [],
      "source": [
        "trajectory = mn.initialize_3D_seiffert_shells(Nc, Ns, nb_shells=nb_repetitions)\nshow_trajectory(trajectory, figure_size=figure_size, one_shot=one_shot)"
      ]
    },
    {
      "cell_type": "markdown",
      "metadata": {},
      "source": [
        "## fMRI trajectories\n\nIn this section are presented long trajectories designed for\nfunctional MRI to cover the k-space in a few shots, often composed\nof multiple readouts.\n\n### TURBINE\n\nThe TURBINE (Trajectory Using Radially Batched Internal Navigator Echoes)\ntrajectory as proposed in [MGM10]_. It consists of EPI-like multi-echo\nplanes rotated around any axis (here $k_z$-axis) in a radial fashion.\n\nNote that our implementation also proposes to segment the planes\ninto several shots instead of just one, and includes the proposition\nfrom [GMC22]_ to also accelerate within the blades by skipping lines\nbut while alternating them between blades.\n\nArguments:\n\n- ``Nc (int)``: number of individual shots. See 3D radial\n- ``Ns_readouts (int)``: number of samples per readout. See 3D radial\n- ``Ns_transitions (int)``: number of samples per transition between\n  two readouts.\n- ``nb_blades (int)``: number of blades used to group readouts into\n  and partition the k-space. It should be lower than ``Nc`` and divide it.\n- ``blade_tilt (str, float)``: angle between each consecutive blades\n  over the $k_z$-axis (in radians). ``(default \"uniform\")``\n- ``nb_trains (int)``: number of resulting shots, or readout trains,\n  such that each of them will be composed of $n$ readouts with\n  ``Nc = n * nb_trains``. If ``\"auto\"`` then ``nb_trains`` is set\n  to ``nb_blades``.\n- ``skip_factor (int)``: factor defining the way different blades alternate\n  to skip lines, forming groups of ``skip_factor`` non-redundant blades.\n  ``(default 1)``\n- ``in_out (bool)``: define whether the shots should travel toward the center\n  then outside (in-out) or not (center-out). ``(default True)``. See 3D radial\n\n\n"
      ]
    },
    {
      "cell_type": "code",
      "execution_count": null,
      "metadata": {
        "collapsed": false
      },
      "outputs": [],
      "source": [
        "nb_blades = Nc // 15\ntrajectory = mn.initialize_3D_turbine(\n    Nc, Ns_readouts=Ns, Ns_transitions=Ns // 10, nb_blades=nb_blades\n)\nshow_trajectory(trajectory, figure_size=figure_size, one_shot=one_shot)"
      ]
    },
    {
      "cell_type": "markdown",
      "metadata": {},
      "source": [
        "#### ``Ns_transitions (int)``\n\nNumber of samples per transition between two readouts.\nSmoother transitions are achieved with more points, but it means longer\nwaiting times between readouts if they are split during acquisition.\n\n\n"
      ]
    },
    {
      "cell_type": "code",
      "execution_count": null,
      "metadata": {
        "collapsed": false
      },
      "outputs": [],
      "source": [
        "arguments = [1, 50, 100, 200]\nfunction = lambda x: mn.initialize_3D_turbine(\n    Nc=Nc,\n    Ns_readouts=Ns,\n    Ns_transitions=x,\n    nb_blades=nb_blades,\n)\nshow_trajectories(function, arguments, one_shot=one_shot, subfig_size=subfigure_size)"
      ]
    },
    {
      "cell_type": "markdown",
      "metadata": {},
      "source": [
        "#### ``nb_blades (int)``\n\nNumber of blades used to group readouts into\nand partition the k-space. More blades means fewer lines per blade.\nIt should be lower than ``Nc`` and divide it.\n\n\n"
      ]
    },
    {
      "cell_type": "code",
      "execution_count": null,
      "metadata": {
        "collapsed": false
      },
      "outputs": [],
      "source": [
        "arguments = [Nc // 5, Nc // 15, Nc // 30, Nc // 60]\nfunction = lambda x: mn.initialize_3D_turbine(\n    Nc=Nc,\n    Ns_readouts=Ns,\n    Ns_transitions=Ns // 10,\n    nb_blades=x,\n)\nshow_trajectories(function, arguments, one_shot=one_shot, subfig_size=subfigure_size)"
      ]
    },
    {
      "cell_type": "markdown",
      "metadata": {},
      "source": [
        "#### ``blade_tilt (str, float)``\n\nAngle between each consecutive blades over the $k_z$-axis (in radians)\n\n\n"
      ]
    },
    {
      "cell_type": "code",
      "execution_count": null,
      "metadata": {
        "collapsed": false
      },
      "outputs": [],
      "source": [
        "arguments = [\"uniform\", \"golden\"]\nfunction = lambda x: mn.initialize_3D_turbine(\n    Nc=Nc,\n    Ns_readouts=Ns,\n    Ns_transitions=Ns // 10,\n    nb_blades=nb_blades,\n    blade_tilt=x,\n)\nshow_trajectories(function, arguments, one_shot=one_shot, subfig_size=subfigure_size)"
      ]
    },
    {
      "cell_type": "code",
      "execution_count": null,
      "metadata": {
        "collapsed": false
      },
      "outputs": [],
      "source": [
        "show_trajectories(\n    function, arguments, one_shot=one_shot, subfig_size=subfigure_size, dim=\"2D\"\n)"
      ]
    },
    {
      "cell_type": "markdown",
      "metadata": {},
      "source": [
        "#### ``nb_trains (int)``\n\nNumber of resulting shots, or readout trains, such that each of them\nwill be composed of $n$ readouts with ``Nc = n * nb_trains``.\nIf ``\"auto\"`` then ``nb_trains`` is set to ``nb_blades``.\n\n\n"
      ]
    },
    {
      "cell_type": "code",
      "execution_count": null,
      "metadata": {
        "collapsed": false
      },
      "outputs": [],
      "source": [
        "arguments = [nb_blades, 3 * nb_blades, 5 * nb_blades, 15 * nb_blades]\nfunction = lambda x: mn.initialize_3D_turbine(\n    Nc=Nc,\n    Ns_readouts=Ns,\n    Ns_transitions=Ns // 10,\n    nb_blades=nb_blades,\n    nb_trains=x,\n)\nshow_trajectories(function, arguments, one_shot=one_shot, subfig_size=subfigure_size)"
      ]
    },
    {
      "cell_type": "markdown",
      "metadata": {},
      "source": [
        "#### ``skip_factor (int)``\n\nFactor defining the way different blades alternate to skip lines,\nforming groups of ``skip_factor`` non-redundant blades.\n\nThis enables the in-plane acceleration proposed by [GMC22]_ by\nincreasing ``skip_factor`` and ``nb_blades`` together by a same\nfactor. Note that using ``skip_factor`` superior to ``nb_blades``\nas below results in k-space areas being not covered by any blade.\n\n\n"
      ]
    },
    {
      "cell_type": "code",
      "execution_count": null,
      "metadata": {
        "collapsed": false
      },
      "outputs": [],
      "source": [
        "arguments = [1, 2, 4, nb_blades + 2]\nfunction = lambda x: mn.initialize_3D_turbine(\n    Nc=Nc,\n    Ns_readouts=Ns,\n    Ns_transitions=Ns // 10,\n    nb_blades=nb_blades,\n    skip_factor=x,\n)\nshow_trajectories(function, arguments, one_shot=one_shot, subfig_size=subfigure_size)"
      ]
    },
    {
      "cell_type": "code",
      "execution_count": null,
      "metadata": {
        "collapsed": false
      },
      "outputs": [],
      "source": [
        "show_trajectories(\n    function,\n    arguments,\n    one_shot=one_shot,\n    subfig_size=subfigure_size,\n    dim=\"2D\",\n    axes=(1, 2),\n)"
      ]
    },
    {
      "cell_type": "markdown",
      "metadata": {},
      "source": [
        "### REPI\n\nThe REPI (Radial Echo Planar Imaging) trajectory proposed in [RMS22]_\nand officially inspired from TURBINE proposed in [MGM10]_.\nIt consists of multi-echo stacks of lines or spirals rotated around any axis\n(here $k_z$-axis) in a radial fashion, but each stack is also slightly\nshifted along the rotation axis in order to be entangled with the others\nwithout redundancy. This feature is similar to choosing ``skip_factor``\nequal to ``nb_blades`` in TURBINE.\n\nNote that our implementation also proposes to segment the planes/stacks\ninto several shots, instead of just one. Spirals can also be customized\nbeyond the classic Archimedean spiral.\n\nArguments:\n\n- ``Nc (int)``: number of individual shots. See 3D radial\n- ``Ns_readouts (int)``: number of samples per readout. See 3D radial\n- ``Ns_transitions (int)``: number of samples per transition between\n  two readouts. See TURBINE\n- ``nb_blades (int)``: number of blades used to group readouts into\n  and partition the k-space. It should be lower than ``Nc`` and divide it.\n  See TURBINE\n- ``nb_blade_revolutions (float)``: number of revolutions over\n  lines/spirals within a blade over the $k_z$ axis. See TURBINE\n- ``blade_tilt (str, float)``: angle between each consecutive blades\n  over the $k_z$-axis (in radians).\n  ``(default \"uniform\")``. See TURBINE\n- ``nb_trains (int)``: number of resulting shots, or readout trains,\n  such that each of them will be composed of $n$ readouts with\n  ``Nc = n * nb_trains``. If ``\"auto\"`` then ``nb_trains`` is set\n  to ``nb_blades``. See TURBINE\n- ``nb_spiral_revolutions (float)``: number of revolutions performed\n  from the center. ``(default 1)``. See 2D spiral\n- ``spiral (str, float)``: type of spiral defined through the general\n  archimedean equation. ``(default \"archimedes\")``. See 2D spiral\n- ``in_out (bool)``: define whether the shots should travel toward the center\n  then outside (in-out) or not (center-out). ``(default True)``. See 3D radial\n\n\n"
      ]
    },
    {
      "cell_type": "code",
      "execution_count": null,
      "metadata": {
        "collapsed": false
      },
      "outputs": [],
      "source": [
        "trajectory = mn.initialize_3D_repi(\n    Nc,\n    Ns_readouts=Ns,\n    Ns_transitions=Ns // 10,\n    nb_blades=nb_blades,\n    nb_blade_revolutions=nb_revolutions,\n    nb_spiral_revolutions=nb_revolutions,\n)\nshow_trajectory(trajectory, figure_size=figure_size, one_shot=one_shot)"
      ]
    },
    {
      "cell_type": "markdown",
      "metadata": {},
      "source": [
        "#### ``nb_blade_revolutions (float)``\n\nNumber of revolutions over lines/spirals within a blade\nover the $k_z$ axis.\n\nNote that increasing it also tends to increase the distance\nbetween consecutive lines/spirals, requiring higher gradients\nand slew rates.\n\n\n"
      ]
    },
    {
      "cell_type": "code",
      "execution_count": null,
      "metadata": {
        "collapsed": false
      },
      "outputs": [],
      "source": [
        "arguments = [0, 0.5, 1, 2]\nfunction = lambda x: mn.initialize_3D_repi(\n    Nc=Nc,\n    Ns_readouts=Ns,\n    Ns_transitions=Ns // 10,\n    nb_blades=nb_blades,\n    nb_blade_revolutions=x,\n    nb_spiral_revolutions=0,\n)\nshow_trajectories(function, arguments, one_shot=one_shot, subfig_size=subfigure_size)"
      ]
    },
    {
      "cell_type": "markdown",
      "metadata": {},
      "source": [
        "Same but with a spiral pattern instead of radial.\n\n\n"
      ]
    },
    {
      "cell_type": "code",
      "execution_count": null,
      "metadata": {
        "collapsed": false
      },
      "outputs": [],
      "source": [
        "arguments = [0, 0.5, 1, 2]\nfunction = lambda x: mn.initialize_3D_repi(\n    Nc=Nc,\n    Ns_readouts=Ns,\n    Ns_transitions=Ns // 10,\n    nb_blades=nb_blades,\n    nb_blade_revolutions=x,\n    nb_spiral_revolutions=nb_revolutions,\n)\nshow_trajectories(function, arguments, one_shot=one_shot, subfig_size=subfigure_size)"
      ]
    },
    {
      "cell_type": "markdown",
      "metadata": {},
      "source": [
        "## References\n\n.. [WR94] Wong, Sam TS, and Mark S. Roos.\n   \"A strategy for sampling on a sphere applied\n   to 3D selective RF pulse design.\"\n   Magnetic Resonance in Medicine 32, no. 6 (1994): 778-784.\n.. [IN95] Irarrazabal, Pablo, and Dwight G. Nishimura.\n   \"Fast three dimensional magnetic resonance imaging.\"\n   Magnetic Resonance in Medicine 33, no. 5 (1995): 656-662.\n.. [Er00] Erd\u00f6s, Paul.\n   \"Spiraling the earth with C. G. J. Jacobi.\"\n   American Journal of Physics 68, no. 10 (2000): 888-895.\n.. [YRB06] Shu, Yunhong, Stephen J. Riederer, and Matt A. Bernstein.\n   \"Three\u2010dimensional MRI with an undersampled spherical shells trajectory.\"\n   Magnetic Resonance in Medicine 56, no. 3 (2006): 553-562.\n.. [Br09] Brizard, Alain J.\n   \"A primer on elliptic functions with applications in classical mechanics.\"\n   European journal of physics 30, no. 4 (2009): 729.\n.. [Cha+09] Chan, Rachel W., Elizabeth A. Ramsay,\n   Charles H. Cunningham, and Donald B. Plewes.\n   \"Temporal stability of adaptive 3D radial MRI\n   using multidimensional golden means.\"\n   Magnetic Resonance in Medicine 61, no. 2 (2009): 354-363.\n.. [MGM10] McNab, Jennifer A., Daniel Gallichan, and Karla L. Miller.\n   \"3D steady\u2010state diffusion\u2010weighted imaging with trajectory using\n   radially batched internal navigator echoes (TURBINE).\"\n   Magnetic Resonance in Medicine 63, no. 1 (2010): 235-242.\n.. [HM11] Gerlach, Henryk, and Heiko von der Mosel.\n   \"On sphere-filling ropes.\"\n   The American Mathematical Monthly 118, no. 10 (2011): 863-876\n.. [Pic+11] Piccini, Davide, Arne Littmann,\n   Sonia Nielles\u2010Vallespin, and Michael O. Zenge.\n   \"Spiral phyllotaxis: the natural way to construct\n   a 3D radial trajectory in MRI.\"\n   Magnetic resonance in medicine 66, no. 4 (2011): 1049-1056.\n.. [Pip+11] Pipe, James G., Nicholas R. Zwart, Eric A. Aboussouan,\n   Ryan K. Robison, Ajit Devaraj, and Kenneth O. Johnson.\n   \"A new design and rationale for 3D orthogonally\n   oversampled k\u2010space trajectories.\"\n   Magnetic resonance in medicine 66, no. 5 (2011): 1303-1311.\n.. [Bil+15] Bilgic, Berkin, Borjan A. Gagoski, Stephen F. Cauley, Audrey P. Fan,\n   Jonathan R. Polimeni, P. Ellen Grant, Lawrence L. Wald, and Kawin Setsompop.\n   \"Wave\u2010CAIPI for highly accelerated 3D imaging.\"\n   Magnetic resonance in medicine 73, no. 6 (2015): 2152-2162.\n.. [Par+16] Park, Jinil, Taehoon Shin, Soon Ho Yoon,\n   Jin Mo Goo, and Jang\u2010Yeon Park.\n   \"A radial sampling strategy for uniform k\u2010space coverage\n   with retrospective respiratory gating\n   in 3D ultrashort\u2010echo\u2010time lung imaging.\"\n   NMR in Biomedicine 29, no. 5 (2016): 576-587.\n.. [SMR18] Speidel, Tobias, Patrick Metze, and Volker Rasche.\n   \"Efficient 3D Low-Discrepancy k-Space Sampling\n   Using Highly Adaptable Seiffert Spirals.\"\n   IEEE Transactions on Medical Imaging 38, no. 8 (2018): 1833-1840.\n.. [SB21] Stobbe, Robert W., and Christian Beaulieu.\n   \"Three\u2010dimensional Yarnball k\u2010space acquisition for accelerated MRI.\"\n   Magnetic Resonance in Medicine 85, no. 4 (2021): 1840-1854.\n.. [GMC22] Graedel, Nadine N., Karla L. Miller, and Mark Chiew.\n   \"Ultrahigh resolution fMRI at 7T using radial\u2010cartesian TURBINE sampling.\"\n   Magnetic Resonance in Medicine 88, no. 5 (2022): 2058-2073.\n.. [RMS22] Rettenmeier, Christoph A., Danilo Maziero, and V. Andrew Stenger.\n   \"Three dimensional radial echo planar imaging for functional MRI.\"\n   Magnetic Resonance in Medicine 87, no. 1 (2022): 193-206.\n.. [Kla+24] Klauser, Antoine, Bernhard Strasser, Wolfgang Bogner,\n   Lukas Hingerl, Sebastien Courvoisier, Claudiu Schirda,\n   Bruce R. Rosen, Francois Lazeyras, and Ovidiu C. Andronesi.\n   \"ECCENTRIC: a fast and unrestrained approach for high-resolution\n   in vivo metabolic imaging at ultra-high field MR\".\n   Imaging Neuroscience 2 (2024): 1-20.\n\n"
      ]
    }
  ],
  "metadata": {
    "kernelspec": {
      "display_name": "Python 3",
      "language": "python",
      "name": "python3"
    },
    "language_info": {
      "codemirror_mode": {
        "name": "ipython",
        "version": 3
      },
      "file_extension": ".py",
      "mimetype": "text/x-python",
      "name": "python",
      "nbconvert_exporter": "python",
      "pygments_lexer": "ipython3",
      "version": "3.10.16"
    }
  },
  "nbformat": 4,
  "nbformat_minor": 0
}