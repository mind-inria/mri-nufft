{
  "cells": [
    {
      "cell_type": "markdown",
      "metadata": {},
      "source": [
        "\n# Animated 3D trajectories\n\nAn animation to show 3D trajectory customization.\n"
      ]
    },
    {
      "cell_type": "code",
      "execution_count": null,
      "metadata": {
        "collapsed": false
      },
      "outputs": [],
      "source": [
        "import matplotlib.pyplot as plt\nimport matplotlib.animation as animation\nfrom matplotlib.gridspec import GridSpec\n\nimport numpy as np\n\nimport mrinufft.trajectories.display as mtd\nimport mrinufft.trajectories.trajectory3D as mtt\nfrom mrinufft.trajectories.display import displayConfig"
      ]
    },
    {
      "cell_type": "markdown",
      "metadata": {},
      "source": [
        "## Script options\n\n"
      ]
    },
    {
      "cell_type": "code",
      "execution_count": null,
      "metadata": {
        "collapsed": false
      },
      "outputs": [],
      "source": [
        "Nc = 8 * 8\nNs = 200\nnb_repetitions = 8\n\none_shot = 0\nfigsize = 5\n\nnb_frames = 3\nduration = 150  # seconds"
      ]
    },
    {
      "cell_type": "markdown",
      "metadata": {},
      "source": [
        "## Trajectory generation\n\n"
      ]
    },
    {
      "cell_type": "code",
      "execution_count": null,
      "metadata": {
        "collapsed": false
      },
      "outputs": [],
      "source": [
        "# Initialize trajectory function\nfunctions = [\n    # 3D Cones\n    (\"3D Cones\", lambda x: mtt.initialize_3D_cones(Nc, Ns, width=x)[::-1]),\n    (\"3D Cones\", lambda x: mtt.initialize_3D_cones(Nc, Ns, width=x)[::-1]),\n    (\"3D Cones\", lambda x: mtt.initialize_3D_cones(Nc, Ns, nb_zigzags=x)[::-1]),\n    (\"3D Cones\", lambda x: mtt.initialize_3D_cones(Nc, Ns, nb_zigzags=x)[::-1]),\n    (\"3D Cones\", lambda x: mtt.initialize_3D_cones(Nc, Ns)[::-1]),\n    # FLORET\n    (\"FLORET\", lambda x: mtt.initialize_3D_floret(Nc, Ns, nb_revolutions=x)),\n    (\"FLORET\", lambda x: mtt.initialize_3D_floret(Nc, Ns, nb_revolutions=x)),\n    (\"FLORET\", lambda x: mtt.initialize_3D_floret(Nc, Ns, max_angle=x)),\n    (\"FLORET\", lambda x: mtt.initialize_3D_floret(Nc, Ns, max_angle=x)),\n    (\"FLORET\", lambda x: mtt.initialize_3D_floret(Nc, Ns)),\n    # Seiffert spirals\n    (\n        \"Seiffert spiral / Yarnball\",\n        lambda x: mtt.initialize_3D_seiffert_spiral(Nc, Ns, curve_index=x),\n    ),\n    (\n        \"Seiffert spiral / Yarnball\",\n        lambda x: mtt.initialize_3D_seiffert_spiral(\n            Nc, Ns, curve_index=0.7, nb_revolutions=x\n        ),\n    ),\n    (\n        \"Seiffert spiral / Yarnball\",\n        lambda x: mtt.initialize_3D_seiffert_spiral(\n            Nc, Ns, curve_index=0.7, nb_revolutions=x\n        ),\n    ),\n    (\n        \"Seiffert spiral / Yarnball\",\n        lambda x: mtt.initialize_3D_seiffert_spiral(\n            Nc, Ns, curve_index=0.7, nb_revolutions=1\n        ),\n    ),\n    # Helical shells\n    (\n        \"Concentric shells\",\n        lambda x: mtt.initialize_3D_helical_shells(\n            x * Nc // nb_repetitions, Ns, nb_shells=x\n        )[::-1],\n    ),\n    (\n        \"Concentric shells\",\n        lambda x: mtt.initialize_3D_helical_shells(\n            Nc, Ns, nb_shells=nb_repetitions, spiral_reduction=x\n        )[::-1],\n    ),\n    (\n        \"Concentric shells\",\n        lambda x: mtt.initialize_3D_helical_shells(\n            Nc, Ns, nb_shells=nb_repetitions, spiral_reduction=3\n        )[::-1],\n    ),\n    # Wave-CAIPI\n    (\n        \"Wave-CAIPI\",\n        lambda x: mtt.initialize_3D_wave_caipi(\n            2 * Nc, Ns, nb_revolutions=5 * x, width=x\n        ),\n    ),\n    (\n        \"Wave-CAIPI\",\n        lambda x: mtt.initialize_3D_wave_caipi(\n            2 * Nc, Ns, nb_revolutions=5 * x, width=x\n        ),\n    ),\n    (\"Wave-CAIPI\", lambda x: mtt.initialize_3D_wave_caipi(2 * Nc, Ns)),\n]\n\n# Initialize trajectory arguments\narguments = [\n    # 3D Cones\n    np.linspace(0, 2, 4 * nb_frames),  # width\n    np.linspace(2, 1, 2 * nb_frames),  # width\n    np.linspace(np.sqrt(5), 1, 4 * nb_frames) ** 2,  # nb_zigzags\n    np.linspace(1, np.sqrt(5), 2 * nb_frames) ** 2,  # nb_zigzags\n    [None] * nb_frames,  # None\n    # FLORET\n    np.linspace(1, 3, 4 * nb_frames),  # nb_revolutions\n    np.linspace(3, 1, 2 * nb_frames),  # nb_revolutions\n    np.linspace(np.pi / 2, np.pi / 4, 4 * nb_frames),  # max_angle\n    np.linspace(np.pi / 4, np.pi / 2, 2 * nb_frames),  # max_angle\n    [None] * nb_frames,  # None\n    # Seiffert spiral\n    np.linspace(0, 0.7, 4 * nb_frames),  # curve_index\n    np.linspace(1, 2, 4 * nb_frames),  # nb_revolutions\n    np.linspace(2, 1, 2 * nb_frames),  # nb_revolutions\n    [None] * nb_frames,  # None\n    # Helical shells\n    np.around(np.linspace(1, nb_repetitions, 4 * nb_frames)).astype(int),  # nb_cones\n    np.linspace(1, 3, 4 * nb_frames),  # spiral_reduction\n    [None] * nb_frames,  # None\n    # Wave-CAIPI\n    np.linspace(0, 2, 4 * nb_frames),  # nb_revolutions & width\n    np.linspace(2, 1, 2 * nb_frames),  # nb_revolutions & width\n    [None] * nb_frames,  # None\n]"
      ]
    },
    {
      "cell_type": "markdown",
      "metadata": {},
      "source": [
        "## Animation rendering\n\n"
      ]
    },
    {
      "cell_type": "code",
      "execution_count": null,
      "metadata": {
        "collapsed": false
      },
      "outputs": [],
      "source": [
        "frame_setup = [\n    (f, name, arg)\n    for (name, f), args in list(zip(functions, arguments))\n    for arg in args\n]\n\n\nfig = plt.figure(figsize=(2 * figsize, figsize))\ngs = GridSpec(4, 2)\nksp_ax = fig.add_subplot(gs[:, 0], projection=\"3d\")\naxs_grad = [fig.add_subplot(gs[i, 1]) for i in range(4)]\n\n\ndef plot_frame(frame_data):\n    func, name, arg = frame_data\n    ksp_ax.clear()\n    [ax.clear() for ax in axs_grad]\n    trajectory = func(arg)\n    ksp_ax.set_title(name, fontsize=displayConfig.fontsize)\n    mtd.display_3D_trajectory(trajectory, one_shot=one_shot, subfigure=ksp_ax)\n    ksp_ax.set_aspect(\"equal\")\n    mtd.display_gradients_simply(\n        trajectory,\n        shot_ids=[one_shot],\n        subfigure=axs_grad,\n        uni_gradient=\"k\",\n        uni_signal=\"gray\",\n    )\n\n\nani = animation.FuncAnimation(fig, plot_frame, frame_setup, interval=50, repeat=False)\n\nplt.show()\n\n# sphinx_gallery_thumbnail_number = 1"
      ]
    }
  ],
  "metadata": {
    "kernelspec": {
      "display_name": "Python 3",
      "language": "python",
      "name": "python3"
    },
    "language_info": {
      "codemirror_mode": {
        "name": "ipython",
        "version": 3
      },
      "file_extension": ".py",
      "mimetype": "text/x-python",
      "name": "python",
      "nbconvert_exporter": "python",
      "pygments_lexer": "ipython3",
      "version": "3.10.16"
    }
  },
  "nbformat": 4,
  "nbformat_minor": 0
}