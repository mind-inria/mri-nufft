{
  "cells": [
    {
      "cell_type": "markdown",
      "metadata": {},
      "source": [
        "\n# Trajectory display configuration\n\nAn example to show how to customize trajectory displays.\n\nThe parameters presented here can be tuned to your own taste and needs\nby using :py:class:`displayConfig`.\n"
      ]
    },
    {
      "cell_type": "code",
      "execution_count": null,
      "metadata": {
        "collapsed": false
      },
      "outputs": [],
      "source": [
        "import matplotlib as mpl\nimport matplotlib.pyplot as plt\nimport numpy as np\n\nfrom mrinufft import display_2D_trajectory, display_3D_trajectory, displayConfig\nfrom mrinufft.trajectories import conify, initialize_2D_spiral\nfrom mrinufft.trajectories.utils import Acquisition, Hardware"
      ]
    },
    {
      "cell_type": "markdown",
      "metadata": {},
      "source": [
        "## Script options\nThese options are used in the examples below to define trajectories and display options.\n\n"
      ]
    },
    {
      "cell_type": "code",
      "execution_count": null,
      "metadata": {
        "collapsed": false
      },
      "outputs": [],
      "source": [
        "# Trajectory parameters\nNc = 120  # Number of shots\nNs = 500  # Number of samples per shot\n\n# Display parameters\nfigure_size = 10  # Figure size for trajectory plots\nsubfigure_size = 6  # Figure size for subplots\none_shot = -5  # Highlight one shot in particular"
      ]
    },
    {
      "cell_type": "code",
      "execution_count": null,
      "metadata": {
        "collapsed": false
      },
      "outputs": [],
      "source": [
        "def show_traj(traj, name, values, **kwargs):\n    fig, axs = plt.subplots(\n        1,\n        len(values),\n        figsize=(subfigure_size * len(values), subfigure_size),\n        subplot_kw={\"projection\": \"3d\"},\n    )\n    for ax, val in zip(axs, values):\n        with displayConfig(**{name: val}):\n            display_3D_trajectory(traj, subfigure=ax, **kwargs)\n            ax.set_title(f\"{name}={val}\", fontsize=2 * subfigure_size)\n    plt.show()"
      ]
    },
    {
      "cell_type": "markdown",
      "metadata": {},
      "source": [
        "## Trajectory displays\n\nThe following trajectory will be used to showcase the display parameters.\nThe trajectory parameters are explained in the\n`sphx_glr_generated_autoexamples_trajectories_example_3D_trajectories.py` example.\n\n"
      ]
    },
    {
      "cell_type": "code",
      "execution_count": null,
      "metadata": {
        "collapsed": false
      },
      "outputs": [],
      "source": [
        "traj = conify(initialize_2D_spiral(Nc // 6, Ns), nb_cones=6)[::-1]"
      ]
    },
    {
      "cell_type": "markdown",
      "metadata": {},
      "source": [
        "### ``linewidth``\nThe ``linewidth`` corresponds to the curve thickness, and can be changed\nto improve the shots visibility.\n\n"
      ]
    },
    {
      "cell_type": "code",
      "execution_count": null,
      "metadata": {
        "collapsed": false
      },
      "outputs": [],
      "source": [
        "show_traj(traj, \"linewidth\", [0.5, 2, 4])"
      ]
    },
    {
      "cell_type": "markdown",
      "metadata": {},
      "source": [
        "### ``palette``\nThe ``palette`` parameter allows you to change the color of the shots.\n\n"
      ]
    },
    {
      "cell_type": "code",
      "execution_count": null,
      "metadata": {
        "collapsed": false
      },
      "outputs": [],
      "source": [
        "show_traj(traj, \"palette\", [\"tab10\", \"magma\", \"jet\"])"
      ]
    },
    {
      "cell_type": "markdown",
      "metadata": {},
      "source": [
        "### ``one_shot_color``\nThe ``one_shot_color`` parameter is used to highlight one shot in particular\nwith a specified color.\n\n"
      ]
    },
    {
      "cell_type": "code",
      "execution_count": null,
      "metadata": {
        "collapsed": false
      },
      "outputs": [],
      "source": [
        "with displayConfig(palette=\"viridis\"):\n    show_traj(\n        traj, \"one_shot_color\", [\"tab:blue\", \"tab:orange\", \"tab:green\"], one_shot=-5\n    )"
      ]
    },
    {
      "cell_type": "markdown",
      "metadata": {},
      "source": [
        "### ``nb_colors``\nThe ``nb_colors`` parameter allows you to change the number of colors used from the\nspecified color palette to display the shots.\n\n"
      ]
    },
    {
      "cell_type": "code",
      "execution_count": null,
      "metadata": {
        "collapsed": false
      },
      "outputs": [],
      "source": [
        "show_traj(traj, \"nb_colors\", [1, 4, 10])"
      ]
    },
    {
      "cell_type": "markdown",
      "metadata": {},
      "source": [
        "## Labels, titles and legends\n\n"
      ]
    },
    {
      "cell_type": "markdown",
      "metadata": {},
      "source": [
        "### ``fontsize``\nThe ``fontsize`` parameter changes the fontsize of the labels/titles.\n\n"
      ]
    },
    {
      "cell_type": "code",
      "execution_count": null,
      "metadata": {
        "collapsed": false
      },
      "outputs": [],
      "source": [
        "show_traj(traj, \"fontsize\", [12, 18, 24])"
      ]
    },
    {
      "cell_type": "markdown",
      "metadata": {},
      "source": [
        "### ``pointsize``\nThe ``pointsize`` parameter is used when showing the gradient constraint violations\nto change the violation point sizes.\n\n"
      ]
    },
    {
      "cell_type": "code",
      "execution_count": null,
      "metadata": {
        "collapsed": false
      },
      "outputs": [],
      "source": [
        "show_traj(traj, \"pointsize\", [0.5, 2, 4], show_constraints=True)"
      ]
    },
    {
      "cell_type": "markdown",
      "metadata": {},
      "source": [
        "### ``gradient_point_color`` and ``slewrate_point_color``\nThe ``gradient_point_color`` and ``slewrate_point_color`` parameters allows you\nto change the color of the points where gradient or slew rate constraint violations\nare observed.\n\n"
      ]
    },
    {
      "cell_type": "code",
      "execution_count": null,
      "metadata": {
        "collapsed": false
      },
      "outputs": [],
      "source": [
        "show_traj(\n    traj,\n    \"slewrate_point_color\",\n    [\"tab:blue\", \"tab:orange\", \"tab:red\"],\n    show_constraints=True,\n)\n\n# You can also change the values of gmax and smax in order to see how the constraint\n# violations change.\n#\nacqs = [\n    Acquisition(\n        fov=(0.256, 0.256, 0.256),\n        img_size=(256, 256, 256),\n        hardware=Hardware(gmax=0.04, smax=50),\n    ),  # limiting slew rate to 50 T/m/s\n    Acquisition(\n        fov=(0.256, 0.256, 0.256),\n        img_size=(256, 256, 256),\n        hardware=Hardware(gmax=0.04, smax=100),\n    ),  # limiting slew rate to 100 T/m/s\n    Acquisition(\n        fov=(0.256, 0.256, 0.256),\n        img_size=(256, 256, 256),\n        hardware=Hardware(gmax=0.04, smax=200),\n    ),\n]  # limiting slew rate to 200 T/m/s\n\n# you can use Acquisition as a Context Manager, like display config.\n# Or pass it to the display function as well.\nfor acq in acqs:\n    with acq:\n        display_3D_trajectory(traj, show_constraints=True)\n\n    # equivalent to\n    # display_3D_trajectory(traj, show_constraints=True, acq=acq)"
      ]
    }
  ],
  "metadata": {
    "kernelspec": {
      "display_name": "Python 3",
      "language": "python",
      "name": "python3"
    },
    "language_info": {
      "codemirror_mode": {
        "name": "ipython",
        "version": 3
      },
      "file_extension": ".py",
      "mimetype": "text/x-python",
      "name": "python",
      "nbconvert_exporter": "python",
      "pygments_lexer": "ipython3",
      "version": "3.10.16"
    }
  },
  "nbformat": 4,
  "nbformat_minor": 0
}