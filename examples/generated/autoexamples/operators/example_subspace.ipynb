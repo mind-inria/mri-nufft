{
  "cells": [
    {
      "cell_type": "markdown",
      "metadata": {},
      "source": [
        "\n# Subspace NUFFT Operator\n\nAn example to show how to setup a subspace NUFFT operator.\n\nThis example shows how to use the Subspace NUFFT operator to acquire data\nand reconstruct an image (or a volume for 3D imaging)\nwhile projecting onto a low rank spatiotemporal subspace.\nThis can be useful e.g., for dynamic multi-contrast MRI.\nHereafter a 2D spiral trajectory is used for demonstration.\n"
      ]
    },
    {
      "cell_type": "code",
      "execution_count": null,
      "metadata": {
        "collapsed": false
      },
      "outputs": [],
      "source": [
        "import matplotlib.pyplot as plt\nimport numpy as np\n\nfrom mrinufft import display_2D_trajectory"
      ]
    },
    {
      "cell_type": "markdown",
      "metadata": {},
      "source": [
        "## Data preparation\n\n### Image loading\n\nFor realistic a 2D image we will use the BrainWeb dataset,\ninstallable using ``pip install brainweb-dl``.\n\n"
      ]
    },
    {
      "cell_type": "code",
      "execution_count": null,
      "metadata": {
        "collapsed": false
      },
      "outputs": [],
      "source": [
        "from mrinufft.extras import get_brainweb_map\n\nM0, T1, T2 = get_brainweb_map(0)\nM0 = np.flip(M0, axis=(0, 1, 2))[90]\nT1 = np.flip(T1, axis=(0, 1, 2))[90]\nT2 = np.flip(T2, axis=(0, 1, 2))[90]\n\nfig1, ax1 = plt.subplots(1, 3)\n\nim0 = ax1[0].imshow(M0, cmap=\"gray\")\nax1[0].axis(\"off\"), ax1[0].set_title(\"M0 [a.u.]\")\nfig1.colorbar(im0, ax=ax1[0], fraction=0.046, pad=0.04)\n\nim1 = ax1[1].imshow(T1, cmap=\"magma\")\nax1[1].axis(\"off\"), ax1[1].set_title(\"T1 [ms]\")\nfig1.colorbar(im1, ax=ax1[1], fraction=0.046, pad=0.04)\n\nim2 = ax1[2].imshow(T2, cmap=\"viridis\")\nax1[2].axis(\"off\"), ax1[2].set_title(\"T2 [ms]\")\nfig1.colorbar(im2, ax=ax1[2], fraction=0.046, pad=0.04)\n\nplt.tight_layout()\nplt.show()"
      ]
    },
    {
      "cell_type": "markdown",
      "metadata": {},
      "source": [
        "### Sequence Parameters\n\nAs an example, we simulate a simple monoexponential Spin Echo acquisition.\nWe assume that k-space center is sampled at each TE (as in spiral or radial imaging)\nand a constant flip angle train is constant set to 180 degrees.\nIn this way, we obtain an image for each of the shots in the echo train.\n\n"
      ]
    },
    {
      "cell_type": "code",
      "execution_count": null,
      "metadata": {
        "collapsed": false
      },
      "outputs": [],
      "source": [
        "from mrinufft.extras import fse_simulation\n\nETL = 48  # Echo Train Length\nESP = 6.0  # Echo Spacing [ms]\nTE = np.arange(ETL, dtype=np.float32) * ESP  # [ms]\nTR = 3000.0  # [ms]"
      ]
    },
    {
      "cell_type": "markdown",
      "metadata": {},
      "source": [
        "### Subspace Generation\n\nHere, we generate temporal subspace basis\nby performing the Singular Value Decomposition of an ensemble\nof simulated signals corresponding to the same T1-T2 range\nof our object.\n\n"
      ]
    },
    {
      "cell_type": "code",
      "execution_count": null,
      "metadata": {
        "collapsed": false
      },
      "outputs": [],
      "source": [
        "def make_grid(T1range, T2range, natoms=100):\n    \"\"\"Prepare parameter grid for basis estimation.\"\"\"\n    # Create linear grid\n    T1grid = np.linspace(T1range[0], T1range[1], num=natoms, dtype=np.float32)\n    T2grid = np.linspace(T2range[0], T2range[1], num=natoms, dtype=np.float32)\n\n    # Cartesian product\n    T1grid, T2grid = np.meshgrid(T1grid, T2grid)\n\n    return T1grid.ravel(), T2grid.ravel()\n\n\ndef estimate_subspace_basis(train_data, ncoeff=4):\n    \"\"\"Estimate subspace data via SVD of simulated training data.\"\"\"\n    # Perform svd\n    _, _, basis = np.linalg.svd(train_data, full_matrices=False)\n\n    # Calculate basis (retain only ncoeff coefficients)\n    basis = basis[:ncoeff]\n\n    return basis\n\n\n# Get range from tissues\nT1range = (T1.min() + 1, T1.max())  # [ms]\nT2range = (T2.min() + 1, T2.max())  # [ms]\n\n# Prepare tissue grid\nT1grid, T2grid = make_grid(T1range, T2range)\n\n# Calculate training data\ntrain_data = fse_simulation(1.0, T1grid, T2grid, TE, TR).astype(np.float32)\n\n# Calculate basis\nbasis = estimate_subspace_basis(train_data.T)\n\nfig2, ax2 = plt.subplots(1, 2)\nax2[0].plot(TE, train_data[:, ::100]), ax2[0].set(\n    xlabel=\"TE [ms]\", ylabel=\"signal [a.u.]\"\n), ax2[0].set_title(\"training dataset\")\nax2[1].plot(TE, basis.T), ax2[1].set(xlabel=\"TE [ms]\", ylabel=\"signal [a.u.]\"), ax2[\n    1\n].set_title(\"subspace basis\")\n\nplt.show()"
      ]
    },
    {
      "cell_type": "markdown",
      "metadata": {},
      "source": [
        "Here, we simulate Brainweb FSE data with the same\nsequence parameters as those used for the subspace estimation.\n\n"
      ]
    },
    {
      "cell_type": "code",
      "execution_count": null,
      "metadata": {
        "collapsed": false
      },
      "outputs": [],
      "source": [
        "mri_data = fse_simulation(M0, T1, T2, TE, TR).astype(np.float32)\nmri_data = np.ascontiguousarray(mri_data)\n\n# Ground truth subspace coefficients\nground_truth = (mri_data.T @ basis.T).T\nground_truth = np.ascontiguousarray(ground_truth)\nground_truth_display = np.concatenate(\n    [abs(coeff) / abs(coeff).max() for coeff in ground_truth], axis=-1\n)\nplt.figure()\nplt.imshow(ground_truth_display, cmap=\"gray\"), plt.axis(\"off\"), plt.title(\n    \"ground truth subspace coefficients\"\n)\n\nplt.show()"
      ]
    },
    {
      "cell_type": "markdown",
      "metadata": {},
      "source": [
        "### Trajectory generation\n\n"
      ]
    },
    {
      "cell_type": "code",
      "execution_count": null,
      "metadata": {
        "collapsed": false
      },
      "outputs": [],
      "source": [
        "from mrinufft import initialize_2D_spiral\nfrom mrinufft.density import voronoi\n\nsamples = initialize_2D_spiral(\n    Nc=ETL * 16, Ns=1200, nb_revolutions=10, tilt=\"mri-golden\"\n)\n\n# assume trajectory is reordered as (ncontrasts, nshots_per_contrast, nsamples_per_shot, ndims)\n# with contrast axis sorted by ascending TEs\nsamples = samples.reshape(ETL, 16, *samples.shape[1:])\n\n# compute density compensation\ndensity = voronoi(samples)\ndensity = density.reshape(ETL, 16, samples.shape[-2])\n\ndisplay_2D_trajectory(samples.reshape(-1, *samples.shape[2:]))"
      ]
    },
    {
      "cell_type": "markdown",
      "metadata": {},
      "source": [
        "## Operator setup\n\n"
      ]
    },
    {
      "cell_type": "code",
      "execution_count": null,
      "metadata": {
        "collapsed": false
      },
      "outputs": [],
      "source": [
        "from mrinufft import get_operator\nfrom mrinufft.operators import MRISubspace\n\n# Generate standard NUFFT operator\nnufft = get_operator(\"finufft\")(\n    samples=samples,\n    shape=mri_data.shape[-2:],\n    density=density.ravel(),\n)\n\n# Generate subspace-projected NUFFT operator\nsubspace_nufft = MRISubspace(nufft, subspace_basis=basis)"
      ]
    },
    {
      "cell_type": "markdown",
      "metadata": {},
      "source": [
        "### Generate K-Space\n\nWe generate the k-space data using a non-projected operator.\nThis can be simply obtained by using an identity matrix\nwith of shape (ETL, ETL) (= number of contrasts) as a subspace basis.\n\n"
      ]
    },
    {
      "cell_type": "code",
      "execution_count": null,
      "metadata": {
        "collapsed": false
      },
      "outputs": [],
      "source": [
        "multicontrast_nufft = [\n    get_operator(\"finufft\")(\n        samples=samples[n],\n        shape=mri_data.shape[-2:],\n        density=density[n].ravel(),\n    )\n    for n in range(basis.shape[-1])\n]\nkspace = np.stack([multicontrast_nufft[n].op(mri_data[n]) for n in range(ETL)], axis=0)"
      ]
    },
    {
      "cell_type": "markdown",
      "metadata": {},
      "source": [
        "### Image reconstruction\n\nWe now reconstruct both using the subspace expanded adjoint operator\nand the zero-filling adjoint operator followed by projection in image space\n\n"
      ]
    },
    {
      "cell_type": "code",
      "execution_count": null,
      "metadata": {
        "collapsed": false
      },
      "outputs": [],
      "source": [
        "# Reconstruct with projection in image space\nzerofilled_data_adj = np.stack(\n    [multicontrast_nufft[n].adj_op(kspace[n]) for n in range(ETL)], axis=0\n)\nzerofilled_display = (zerofilled_data_adj.T @ basis.T).T\nzerofilled_display = np.concatenate(\n    [abs(coeff) / abs(coeff).max() for coeff in zerofilled_display], axis=-1\n)\n\n# Reconstruct with projection in k-space\nsubspace_data_adj = subspace_nufft.adj_op(kspace)\nsubspace_display = np.concatenate(\n    [abs(coeff) / abs(coeff).max() for coeff in subspace_data_adj], axis=-1\n)\n\n\nfig3, ax3 = plt.subplots(2, 1)\nax3[0].imshow(zerofilled_display, cmap=\"gray\")\nax3[0].set_xticks([])\nax3[0].set_yticks([])\nax3[0].set(ylabel=\"kspace projection\")\nax3[0].set_title(\"reconstructed subspace coefficients\")\nax3[1].imshow(subspace_display, cmap=\"gray\")\nax3[1].set_xticks([])\nax3[1].set_yticks([])\nax3[1].set(ylabel=\"zerofill + projection\")\n\nplt.show()"
      ]
    },
    {
      "cell_type": "markdown",
      "metadata": {},
      "source": [
        "The projected k-space is equivalent to the regular reconstruction followed by projection.\n\n"
      ]
    }
  ],
  "metadata": {
    "kernelspec": {
      "display_name": "Python 3",
      "language": "python",
      "name": "python3"
    },
    "language_info": {
      "codemirror_mode": {
        "name": "ipython",
        "version": 3
      },
      "file_extension": ".py",
      "mimetype": "text/x-python",
      "name": "python",
      "nbconvert_exporter": "python",
      "pygments_lexer": "ipython3",
      "version": "3.10.16"
    }
  },
  "nbformat": 4,
  "nbformat_minor": 0
}