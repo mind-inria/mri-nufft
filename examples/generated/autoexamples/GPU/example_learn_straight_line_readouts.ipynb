{
  "cells": [
    {
      "cell_type": "markdown",
      "metadata": {},
      "source": [
        "<div class='alert alert-warning'>\n\n# Need GPU warning\n\nRunning this mri-nufft example requires a GPU, and hence is NOT possible on binder currently We request you to kindly run this notebook on Google Colab by clicking the link below. Additionally, please make sure to set the runtime on Colab to use a GPU and install the below libraries before running.\n</div>\n<div class=\"colab-button\">\n            <a href=\"https://colab.research.google.com/github/mind-inria/mri-nufft/blob/gh-pages/examples/generated/autoexamples/GPU/example_learn_straight_line_readouts.ipynb\" target=\"_blank\">\n                <img src=\"https://colab.research.google.com/assets/colab-badge.svg\" \n                alt=\"Open In Colab\"/>\n            </a>\n        </div>\n        "
      ]
    },
    {
      "cell_type": "markdown",
      "metadata": {},
      "source": [
        "\n# Learn Straight line readout pattern\n\nA small pytorch example to showcase learning k-space sampling patterns.\nIn this example we learn the 2D sampling pattern for a 3D MRI image, assuming\nstraight line readouts. This example showcases the auto-diff capabilities of the NUFFT operator\nThe image resolution is kept small to reduce computation time.\n\n<div class=\"alert alert-danger\"><h4>Warning</h4><p>This example only showcases the autodiff capabilities, the learned\n    sampling pattern is not scanner compliant as the scanner gradients required\n    to implement it violate the hardware constraints. In practice, a projection\n    $\\Pi_\\mathcal{Q}(\\mathbf{K})$ into the scanner constraints set\n    $\\mathcal{Q}$ is recommended (see [Proj]_). This is implemented in the\n    proprietary SPARKLING package [Sparks]_. Users are encouraged to contact the\n    authors if they want to use it.</p></div>\n"
      ]
    },
    {
      "cell_type": "code",
      "execution_count": null,
      "metadata": {
        "collapsed": false
      },
      "outputs": [],
      "source": [
        "# Install libraries\n!pip install mri-nufft[gpunufft]\n!pip install brainweb-dl  # Required for data"
      ]
    },
    {
      "cell_type": "markdown",
      "metadata": {},
      "source": [
        "## Imports\n\n"
      ]
    },
    {
      "cell_type": "code",
      "execution_count": null,
      "metadata": {
        "collapsed": false
      },
      "outputs": [],
      "source": [
        "import os\nimport time\nimport joblib\n\nimport brainweb_dl as bwdl\nimport matplotlib.pyplot as plt\nimport numpy as np\nimport torch\nfrom tqdm import tqdm\nfrom PIL import Image, ImageSequence\n\nfrom mrinufft import get_operator\n\nBACKEND = os.environ.get(\"MRINUFFT_BACKEND\", \"gpunufft\")"
      ]
    },
    {
      "cell_type": "markdown",
      "metadata": {},
      "source": [
        "## Setup a simple class to learn trajectory\n<div class=\"alert alert-info\"><h4>Note</h4><p>While we are only learning the NUFFT operator, we still need the gradient `wrt_data=True` to have all the gradients computed correctly.\n    See [Projector]_ for more details.</p></div>\n\n"
      ]
    },
    {
      "cell_type": "code",
      "execution_count": null,
      "metadata": {
        "collapsed": false
      },
      "outputs": [],
      "source": [
        "class Model(torch.nn.Module):\n    def __init__(self, num_shots, img_size, factor_cartesian=0.3):\n        super(Model, self).__init__()\n        self.num_samples_per_shot = 128\n        cart_del = 1 / img_size[0]\n        num_cart_points = np.round(np.sqrt(factor_cartesian * num_shots)).astype(int)\n        edge_center = cart_del * num_cart_points / 2\n\n        self.central_points = torch.nn.Parameter(\n            data=torch.stack(\n                torch.meshgrid(\n                    torch.linspace(\n                        -edge_center, edge_center, num_cart_points, dtype=torch.float32\n                    ),\n                    torch.linspace(\n                        -edge_center, edge_center, num_cart_points, dtype=torch.float32\n                    ),\n                    indexing=\"ij\",\n                ),\n                axis=-1,\n            ).reshape(-1, 2),\n            requires_grad=False,\n        )\n        self.non_center_points = torch.nn.Parameter(\n            data=torch.Tensor(\n                np.random.random((num_shots - self.central_points.shape[0], 2)).astype(\n                    np.float32\n                )\n                - 0.5\n            ),\n            requires_grad=True,\n        )\n        self.operator = get_operator(BACKEND, wrt_data=True, wrt_traj=True)(\n            np.random.random(\n                (self.get_2D_points().shape[0] * self.num_samples_per_shot, 3)\n            ).astype(np.float32)\n            - 0.5,\n            shape=img_size,\n            density=True,\n            squeeze_dims=False,\n        )\n\n    def get_trajectory(self, get_as_shot=False):\n        samples = self._get_3D_points(self.get_2D_points())\n        if not get_as_shot:\n            return samples\n        return samples.reshape(-1, self.num_samples_per_shot, 3)\n\n    def get_2D_points(self):\n        return torch.vstack([self.central_points, self.non_center_points])\n\n    def _get_3D_points(self, samples2D):\n        line = torch.linspace(\n            -0.5,\n            0.5,\n            self.num_samples_per_shot,\n            device=samples2D.device,\n            dtype=samples2D.dtype,\n        )\n        return torch.stack(\n            [\n                line.repeat(samples2D.shape[0], 1),\n                samples2D[:, 0].repeat(self.num_samples_per_shot, 1).T,\n                samples2D[:, 1].repeat(self.num_samples_per_shot, 1).T,\n            ],\n            dim=-1,\n        ).reshape(-1, 3)\n\n    def forward(self, x):\n        self.operator.samples = self.get_trajectory()\n        kspace = self.operator.op(x)\n        adjoint = self.operator.adj_op(kspace).abs()\n        return adjoint / torch.mean(adjoint)"
      ]
    },
    {
      "cell_type": "markdown",
      "metadata": {},
      "source": [
        "## Util function to plot the state of the model\n\n"
      ]
    },
    {
      "cell_type": "code",
      "execution_count": null,
      "metadata": {
        "collapsed": false
      },
      "outputs": [],
      "source": [
        "def plot_state(mri_2D, traj, recon, loss=None, save_name=None, i=None):\n    fig_grid = (2, 2)\n    if loss is None:\n        fig_grid = (1, 3)\n    fig, axs = plt.subplots(*fig_grid, figsize=tuple(i * 5 for i in fig_grid[::-1]))\n    axs = axs.flatten()\n    axs[0].imshow(np.abs(mri_2D[0][..., 11]), cmap=\"gray\")\n    axs[0].axis(\"off\")\n    axs[0].set_title(\"MR Image\")\n    if traj.shape[-1] == 3:\n        if i is not None and i > 20:\n            axs[1].scatter(*traj.T[1:3, 0], s=10, color=\"blue\")\n        else:\n            fig_kwargs = {}\n            plt_kwargs = {\"s\": 1, \"alpha\": 0.2}\n            if i is not None:\n                fig_kwargs[\"azim\"], fig_kwargs[\"elev\"] = (\n                    i / 25 * 60 - 60,\n                    30 - i / 25 * 30,\n                )\n                plt_kwargs[\"alpha\"] = 0.2 + 0.8 * i / 20\n                plt_kwargs[\"s\"] = 1 + 9 * i / 20\n            axs[1].remove()\n            axs[1] = fig.add_subplot(*fig_grid, 2, projection=\"3d\", **fig_kwargs)\n            for shot in traj:\n                axs[1].scatter(*shot.T, color=\"blue\", **plt_kwargs)\n    else:\n        axs[1].scatter(*traj.T, s=10)\n    axs[1].set_title(\"Trajectory\")\n    axs[2].imshow(np.abs(recon[0][0][..., 11].detach().cpu().numpy()), cmap=\"gray\")\n    axs[2].axis(\"off\")\n    axs[2].set_title(\"Reconstruction\")\n    if loss is not None:\n        axs[3].plot(loss)\n        axs[3].grid(\"on\")\n        axs[3].set_title(\"Loss\")\n    if save_name is not None:\n        plt.savefig(save_name, bbox_inches=\"tight\")\n        plt.close()\n    else:\n        plt.show()"
      ]
    },
    {
      "cell_type": "markdown",
      "metadata": {},
      "source": [
        "## Setup model and optimizer\n\n"
      ]
    },
    {
      "cell_type": "code",
      "execution_count": null,
      "metadata": {
        "collapsed": false
      },
      "outputs": [],
      "source": [
        "cart_data = np.flipud(bwdl.get_mri(4, \"T1\")).T[::8, ::8, ::8].astype(np.complex64)\nmodel = Model(253, cart_data.shape)\noptimizer = torch.optim.Adam(model.parameters(), lr=1e-2)"
      ]
    },
    {
      "cell_type": "markdown",
      "metadata": {},
      "source": [
        "## Setup data\n\n"
      ]
    },
    {
      "cell_type": "code",
      "execution_count": null,
      "metadata": {
        "collapsed": false
      },
      "outputs": [],
      "source": [
        "mri_3D = torch.Tensor(cart_data)[None]\nmri_3D = mri_3D / torch.mean(mri_3D)\nmodel.eval()\nrecon = model(mri_3D)\nplot_state(mri_3D, model.get_trajectory(True).detach().cpu().numpy(), recon)"
      ]
    },
    {
      "cell_type": "markdown",
      "metadata": {},
      "source": [
        "## Start training loop\n\n"
      ]
    },
    {
      "cell_type": "code",
      "execution_count": null,
      "metadata": {
        "collapsed": false
      },
      "outputs": [],
      "source": [
        "losses = []\nimage_files = []\nmodel.train()\nwith tqdm(range(40), unit=\"steps\") as tqdms:\n    for i in tqdms:\n        out = model(mri_3D)\n        loss = torch.nn.functional.mse_loss(out, mri_3D[None])\n        numpy_loss = loss.detach().cpu().numpy()\n        tqdms.set_postfix({\"loss\": numpy_loss})\n        losses.append(numpy_loss)\n        optimizer.zero_grad()\n        loss.backward()\n        optimizer.step()\n        with torch.no_grad():\n            # Clamp the value of trajectory between [-0.5, 0.5]\n            for param in model.parameters():\n                param.clamp_(-0.5, 0.5)\n        # Generate images for gif\n        hashed = joblib.hash((i, \"learn_line\", time.time()))\n        filename = \"/tmp/\" + f\"{hashed}.png\"\n        plot_state(\n            mri_3D,\n            model.get_trajectory(True).detach().cpu().numpy(),\n            out,\n            losses,\n            save_name=filename,\n            i=i,\n        )\n        image_files.append(filename)\n\n# Make a GIF of all images.\nimgs = [Image.open(img) for img in image_files]\nimgs[0].save(\n    \"mrinufft_learn_2d_sampling_pattern.gif\",\n    save_all=True,\n    append_images=imgs[1:],\n    optimize=False,\n    duration=2,\n    loop=0,\n)\n\n# sphinx_gallery_thumbnail_path = 'generated/autoexamples/GPU/images/mrinufft_learn_2d_sampling_pattern.gif'"
      ]
    },
    {
      "cell_type": "markdown",
      "metadata": {},
      "source": [
        ".. image-sg:: /generated/autoexamples/GPU/images/mrinufft_learn_2d_sampling_pattern.gif\n   :alt: example learn_samples\n   :srcset: /generated/autoexamples/GPU/images/mrinufft_learn_2d_sampling_pattern.gif\n   :class: sphx-glr-single-img\n\n"
      ]
    },
    {
      "cell_type": "markdown",
      "metadata": {},
      "source": [
        "## Trained trajectory\n\n"
      ]
    },
    {
      "cell_type": "code",
      "execution_count": null,
      "metadata": {
        "collapsed": false
      },
      "outputs": [],
      "source": [
        "model.eval()\nrecon = model(mri_3D)\nplot_state(mri_3D, model.get_trajectory(True).detach().cpu().numpy(), recon, losses)\nplt.show()"
      ]
    },
    {
      "cell_type": "markdown",
      "metadata": {},
      "source": [
        "### References\n\n.. [Proj] N. Chauffert, P. Weiss, J. Kahn and P. Ciuciu, \"A Projection Algorithm for\n          Gradient Waveforms Design in Magnetic Resonance Imaging,\" in\n          IEEE Transactions on Medical Imaging, vol. 35, no. 9, pp. 2026-2039, Sept. 2016,\n          doi: 10.1109/TMI.2016.2544251.\n.. [Sparks] G. R. Chaithya, P. Weiss, G. Daval-Frérot, A. Massire, A. Vignaud and P. Ciuciu,\n          \"Optimizing Full 3D SPARKLING Trajectories for High-Resolution Magnetic\n          Resonance Imaging,\" in IEEE Transactions on Medical Imaging, vol. 41, no. 8,\n          pp. 2105-2117, Aug. 2022, doi: 10.1109/TMI.2022.3157269.\n.. [Projector] Chaithya GR, and Philippe Ciuciu. 2023. \"Jointly Learning Non-Cartesian\n          k-Space Trajectories and Reconstruction Networks for 2D and 3D MR Imaging\n          through Projection\" Bioengineering 10, no. 2: 158.\n          https://doi.org/10.3390/bioengineering10020158\n\n"
      ]
    }
  ],
  "metadata": {
    "kernelspec": {
      "display_name": "Python 3",
      "language": "python",
      "name": "python3"
    },
    "language_info": {
      "codemirror_mode": {
        "name": "ipython",
        "version": 3
      },
      "file_extension": ".py",
      "mimetype": "text/x-python",
      "name": "python",
      "nbconvert_exporter": "python",
      "pygments_lexer": "ipython3",
      "version": "3.10.16"
    }
  },
  "nbformat": 4,
  "nbformat_minor": 0
}