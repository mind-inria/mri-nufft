{
  "cells": [
    {
      "cell_type": "markdown",
      "metadata": {},
      "source": [
        "\n# Gridded trajectory display\n\nIn this example, we show some tools available to display 3D trajectories.\nIt can be used to understand the k-space sampling patterns, visualize the trajectories, see the sampling times, gradient strengths, slew rates etc.\nAnother key feature is to display the sampling density in k-space, for example to check for k-space holes or irregularities in the learning-based trajectories that would lead to artifacts in the images.\n"
      ]
    },
    {
      "cell_type": "code",
      "execution_count": null,
      "metadata": {
        "collapsed": false
      },
      "outputs": [],
      "source": [
        "# Imports\nimport os\nfrom mrinufft.trajectories.display3D import get_gridded_trajectory\nimport mrinufft.trajectories.trajectory3D as mtt\nfrom mrinufft.trajectories.utils import Gammas, Acquisition\nimport matplotlib.pyplot as plt\nimport numpy as np\n\n\nBACKEND = os.environ.get(\"MRINUFFT_BACKEND\", \"cufinufft\")"
      ]
    },
    {
      "cell_type": "markdown",
      "metadata": {},
      "source": [
        "## Acquisition parameters\nHere we use acquisition defaults for the  trajectory gridding.\n\n"
      ]
    },
    {
      "cell_type": "code",
      "execution_count": null,
      "metadata": {
        "collapsed": false
      },
      "outputs": [],
      "source": [
        "acq = Acquisition(fov=(0.23, 0.23, 0.23), img_size=(64, 64, 64))"
      ]
    },
    {
      "cell_type": "markdown",
      "metadata": {},
      "source": [
        "## Helper function to Displaying 3D Gridded Trajectories\nUtility function to plot mid-plane slices for 3D volumes\n\n"
      ]
    },
    {
      "cell_type": "code",
      "execution_count": null,
      "metadata": {
        "collapsed": false
      },
      "outputs": [],
      "source": [
        "def plot_slices(axs, volume, title=\"\"):\n    def set_labels(ax, axis_num=None):\n        ax.set_xticks([0, 32, 64])\n        ax.set_yticks([0, 32, 64])\n        ax.set_xticklabels([r\"$-\\pi$\", 0, r\"$\\pi$\"])\n        ax.set_yticklabels([r\"$-\\pi$\", 0, r\"$\\pi$\"])\n        if axis_num is not None:\n            ax.set_xlabel(r\"$k_\" + \"zxy\"[axis_num] + r\"$\")\n            ax.set_ylabel(r\"$k_\" + \"yzx\"[axis_num] + r\"$\")\n\n    for i in range(3):\n        volume = np.rollaxis(volume, i, 0)\n        axs[i].imshow(volume[volume.shape[0] // 2])\n        axs[i].set_title(\n            ((title + f\"\\n\") if i == 0 else \"\") + r\"$k_{\" + \"xyz\"[i] + r\"}=0$\"\n        )\n        set_labels(axs[i], i)"
      ]
    },
    {
      "cell_type": "markdown",
      "metadata": {},
      "source": [
        "## Helper function to Displaying 3D Trajectories\nHelper function to showcase the features of `get_gridded_trajectory` function\nThis function will first grid the trajectory using the `get_gridded_trajectory`\nfunction and then plot the mid-plane slices of the gridded trajectory.\n\n"
      ]
    },
    {
      "cell_type": "code",
      "execution_count": null,
      "metadata": {
        "collapsed": false
      },
      "outputs": [],
      "source": [
        "def create_grid(grid_type, trajectories, **kwargs):\n    fig, axs = plt.subplots(3, 3, figsize=(10, 10))\n    plt.subplots_adjust(hspace=0.5)\n    for i, (name, traj) in enumerate(trajectories.items()):\n        grid = get_gridded_trajectory(\n            traj,\n            acq,\n            grid_type=grid_type,\n            backend=BACKEND,\n            osf=2,\n            **kwargs,\n        )\n        plot_slices(axs[:, i], grid, title=name)"
      ]
    },
    {
      "cell_type": "markdown",
      "metadata": {},
      "source": [
        "## Trajectories to display\nWe instantiate a bunch of sampling trajectories to display hereafter with `get_gridded_trajectory` and previous helper functions.\n\n"
      ]
    },
    {
      "cell_type": "code",
      "execution_count": null,
      "metadata": {
        "collapsed": false
      },
      "outputs": [],
      "source": [
        "trajectories = {\n    \"Radial\": mtt.initialize_3D_phyllotaxis_radial(64 * 8, 64),\n    \"FLORET\": mtt.initialize_3D_floret(64 * 8, 64, nb_revolutions=2),\n    \"Seiffert Spirals\": mtt.initialize_3D_seiffert_spiral(64 * 8, 64),\n}"
      ]
    },
    {
      "cell_type": "markdown",
      "metadata": {},
      "source": [
        "## Sampling density\nDisplay the density of the trajectories, along the 3 mid-planes. For this, make `grid_type=\"density\"`.\n\n"
      ]
    },
    {
      "cell_type": "code",
      "execution_count": null,
      "metadata": {
        "collapsed": false
      },
      "outputs": [],
      "source": [
        "create_grid(\"density\", trajectories)\nplt.suptitle(\"Sampling Density\", y=0.98, x=0.52, fontsize=20)\nplt.show()"
      ]
    },
    {
      "cell_type": "markdown",
      "metadata": {},
      "source": [
        "## Sampling time\nDisplay the sampling times over the trajectories. For this, make `grid_type=\"time\"`.\nIt helps to check the sampling times over the k-space trajectories, which can be responsible for excessive off-resonance artifacts.\nNote that this is just a relative visualization of sample times on a colour scale, and the actual sampling time.\n\n"
      ]
    },
    {
      "cell_type": "code",
      "execution_count": null,
      "metadata": {
        "collapsed": false
      },
      "outputs": [],
      "source": [
        "create_grid(\"time\", trajectories)\nplt.suptitle(\"Sampling Time\", y=0.98, x=0.52, fontsize=20)\nplt.show()"
      ]
    },
    {
      "cell_type": "markdown",
      "metadata": {},
      "source": [
        "## Inversion time\nDisplay the inversion time of the trajectories. For this, make `grid_type=\"inversion\"`.\nThis helps in obtaining the inversion time when particular region of k-space is sampled, assuming the trajectories are time ordered,\nand the argument `turbo_factor` is specified, which is the time between 2 inversion pulses.\n\n"
      ]
    },
    {
      "cell_type": "code",
      "execution_count": null,
      "metadata": {
        "collapsed": false
      },
      "outputs": [],
      "source": [
        "create_grid(\"inversion\", trajectories, turbo_factor=64)\nplt.suptitle(\"Inversion Time\", y=0.98, x=0.52, fontsize=20)\nplt.show()"
      ]
    },
    {
      "cell_type": "markdown",
      "metadata": {},
      "source": [
        "## K-space holes\nDisplay the k-space holes in the trajectories. For this, make `grid_type=\"holes\"`.\nK-space holes are areas with missing trajectory coverage, and can typically occur with learning-based trajectories when optimized using a specific loss.\nThis feature can be used to identify the k-space holes, which could lead to Gibbs-like ringing artifacts in the images.\n\n"
      ]
    },
    {
      "cell_type": "code",
      "execution_count": null,
      "metadata": {
        "collapsed": false
      },
      "outputs": [],
      "source": [
        "create_grid(\"holes\", trajectories, threshold=1e-2)\nplt.suptitle(\"K-space Holes\", y=0.98, x=0.52, fontsize=20)\nplt.show()"
      ]
    },
    {
      "cell_type": "markdown",
      "metadata": {},
      "source": [
        "## Gradient strength\nDisplay the gradient strength of the trajectories. For this, make `grid_type=\"gradients\"`.\nThis helps in displaying the gradient strength applied at specific k-space region,\nwhich can be used as a surrogate to k-space \"velocity\", i.e. how fast does trajectory pass through a given region in k-space.\nIt could be useful while characterizing spatial SNR profile in k-space\n\n"
      ]
    },
    {
      "cell_type": "code",
      "execution_count": null,
      "metadata": {
        "collapsed": false
      },
      "outputs": [],
      "source": [
        "create_grid(\"gradients\", trajectories)\nplt.suptitle(\"Gradient Strength\", y=0.98, x=0.52, fontsize=20)\nplt.show()"
      ]
    },
    {
      "cell_type": "markdown",
      "metadata": {},
      "source": [
        "## Slew rates\nDisplay the slew rates of the trajectories. For this, make `grid_type=\"slew\"`.\nThis helps in displaying the slew rates applied at specific k-space region,\nwhich can ne used as a surrogate to k-space \"acceleration\", i.e. how fast does trajectory change in a given region in k-space\nIt could be useful to understand potential regions in k-space with eddy current artifacts and trajectories which could lead to peripheral nerve stimulations.\n\n"
      ]
    },
    {
      "cell_type": "code",
      "execution_count": null,
      "metadata": {
        "collapsed": false
      },
      "outputs": [],
      "source": [
        "create_grid(\"slew\", trajectories)\nplt.suptitle(\"Slew Rates\", y=0.98, x=0.52, fontsize=20)\nplt.show()"
      ]
    }
  ],
  "metadata": {
    "kernelspec": {
      "display_name": "Python 3",
      "language": "python",
      "name": "python3"
    },
    "language_info": {
      "codemirror_mode": {
        "name": "ipython",
        "version": 3
      },
      "file_extension": ".py",
      "mimetype": "text/x-python",
      "name": "python",
      "nbconvert_exporter": "python",
      "pygments_lexer": "ipython3",
      "version": "3.10.16"
    }
  },
  "nbformat": 4,
  "nbformat_minor": 0
}