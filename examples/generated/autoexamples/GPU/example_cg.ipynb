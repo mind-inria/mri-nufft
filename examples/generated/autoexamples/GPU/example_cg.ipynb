{
  "cells": [
    {
      "cell_type": "markdown",
      "metadata": {},
      "source": [
        "<div class='alert alert-warning'>\n\n# Need GPU warning\n\nRunning this mri-nufft example requires a GPU, and hence is NOT possible on binder currently We request you to kindly run this notebook on Google Colab by clicking the link below. Additionally, please make sure to set the runtime on Colab to use a GPU and install the below libraries before running.\n</div>\n<div class=\"colab-button\">\n            <a href=\"https://colab.research.google.com/github/mind-inria/mri-nufft/blob/gh-pages/examples/generated/autoexamples/GPU/example_cg.ipynb\" target=\"_blank\">\n                <img src=\"https://colab.research.google.com/assets/colab-badge.svg\" \n                alt=\"Open In Colab\"/>\n            </a>\n        </div>\n        "
      ]
    },
    {
      "cell_type": "markdown",
      "metadata": {},
      "source": [
        "\n# Reconstruction with conjugate gradient\n\nAn example to show how to reconstruct volumes using conjugate gradient method.\n\nThis script demonstrates the use of the Conjugate Gradient (CG) method\nfor solving systems of linear equations of the form $Ax = b$, where $A$` is a symmetric\npositive-definite matrix. The CG method is an iterative algorithm that is particularly\nuseful for large, sparse systems where direct methods are computationally expensive.\n\nThe Conjugate Gradient method is widely used in various scientific and engineering\napplications, including solving partial differential equations, optimization problems,\nand machine learning tasks.\n\nThis method is inspired by techniques from [SigPy]_ and\n[Aquaulb]_ MOOC, as well as general knowledge in [Wikipedia]_.\n"
      ]
    },
    {
      "cell_type": "code",
      "execution_count": null,
      "metadata": {
        "collapsed": false
      },
      "outputs": [],
      "source": [
        "# Install libraries\n!pip install mri-nufft[gpunufft] scikit-image\n!pip install brainweb-dl  # Required for data"
      ]
    },
    {
      "cell_type": "markdown",
      "metadata": {},
      "source": [
        "Imports\n\n"
      ]
    },
    {
      "cell_type": "code",
      "execution_count": null,
      "metadata": {
        "collapsed": false
      },
      "outputs": [],
      "source": [
        "import numpy as np\nimport cupy as cp\nimport mrinufft\nfrom brainweb_dl import get_mri\nfrom matplotlib import pyplot as plt\nimport os\n\nBACKEND = os.environ.get(\"MRINUFFT_BACKEND\", \"gpunufft\")"
      ]
    },
    {
      "cell_type": "markdown",
      "metadata": {},
      "source": [
        "Setup Inputs\n\n"
      ]
    },
    {
      "cell_type": "code",
      "execution_count": null,
      "metadata": {
        "collapsed": false
      },
      "outputs": [],
      "source": [
        "samples_loc = mrinufft.initialize_2D_spiral(Nc=64, Ns=512, nb_revolutions=8)\nimage = get_mri(sub_id=4)\nimage = np.flipud(image[90])\nimage_gpu = cp.array(image)  # convert to cupy array for GPU processing"
      ]
    },
    {
      "cell_type": "markdown",
      "metadata": {},
      "source": [
        "Setup the NUFFT operator\n\n"
      ]
    },
    {
      "cell_type": "code",
      "execution_count": null,
      "metadata": {
        "collapsed": false
      },
      "outputs": [],
      "source": [
        "NufftOperator = mrinufft.get_operator(BACKEND)  # get the operator\n\nnufft = NufftOperator(\n    samples_loc,\n    shape=image.shape,\n    density=True,\n    squeeze_dims=True,\n)  # create the NUFFT operator"
      ]
    },
    {
      "cell_type": "markdown",
      "metadata": {},
      "source": [
        "Reconstruct the image using the CG method\n\n"
      ]
    },
    {
      "cell_type": "code",
      "execution_count": null,
      "metadata": {
        "collapsed": false
      },
      "outputs": [],
      "source": [
        "kspace_data_gpu = nufft.op(image_gpu)  # get the k-space data\nkspace_data = kspace_data_gpu.get()  # convert back to numpy array for display\ndc_adjoint = nufft.adj_op(kspace_data_gpu)  # density compensated adjoint NUFFT\nreconstructed_image, loss = nufft.cg(\n    kspace_data=kspace_data_gpu,\n    x_init=dc_adjoint.copy(),\n    num_iter=50,\n    compute_loss=True,\n)\n\n# convert back to numpy array for display\nreconstructed_image = reconstructed_image.get().squeeze()\n\n# Display the results\nplt.figure(figsize=(15, 10))\nplt.subplot(2, 3, 1)\nplt.title(\"Original image\")\nplt.imshow(image, cmap=\"gray\")\nplt.colorbar()\n\nplt.subplot(2, 3, 2)\nplt.title(\"Conjugate gradient\")\nplt.imshow(abs(reconstructed_image), vmin=image.min(), vmax=image.max(), cmap=\"gray\")\nplt.colorbar()\n\nplt.subplot(2, 3, 3)\nplt.title(\"Adjoint NUFFT\")\nplt.imshow(\n    abs(nufft.adj_op(kspace_data)),\n    vmin=image.min(),\n    vmax=image.max(),\n    cmap=\"gray\",\n)\nplt.colorbar()\n\nplt.subplot(2, 3, 4)\nplt.title(\"Loss\")\nplt.plot(loss.get())\nplt.grid()\n\nplt.subplot(2, 3, 5)\nplt.title(\"K-space from conjugate gradient (CG)\")\nplt.plot(np.log(abs(kspace_data)), label=\"Acquired k-space\")\nplt.plot(np.log(abs(nufft.op(reconstructed_image))), label=\"CG k-space\")\nplt.legend(loc=\"lower left\", fontsize=8)\n\nplt.subplot(2, 3, 6)\nplt.title(\"K-space from DC adjoint NUFFT\")\nplt.plot(np.log(abs(kspace_data)), label=\"Acquired k-space\")\nplt.plot(np.log(abs(nufft.op(dc_adjoint).get())), label=\"DC adjoint k-space\")\nplt.legend(loc=\"lower left\", fontsize=8)"
      ]
    },
    {
      "cell_type": "markdown",
      "metadata": {},
      "source": [
        "## References\n\n.. [SigPy] SigPy Documentation. Conjugate Gradient Method.\n   https://sigpy.readthedocs.io/en/latest/_modules/sigpy/alg.html#ConjugateGradient\n.. [Aquaulb] Aquaulb's MOOC: Solving PDE with Iterative Methods.\n   https://aquaulb.github.io/book_solving_pde_mooc/solving_pde_mooc/notebooks/05_IterativeMethods/05_02_Conjugate_Gradient.html\n.. [Wikipedia] Wikipedia: Conjugate Gradient Method.\n   https://en.wikipedia.org/wiki/Conjugate_gradient_method\n\n"
      ]
    }
  ],
  "metadata": {
    "kernelspec": {
      "display_name": "Python 3",
      "language": "python",
      "name": "python3"
    },
    "language_info": {
      "codemirror_mode": {
        "name": "ipython",
        "version": 3
      },
      "file_extension": ".py",
      "mimetype": "text/x-python",
      "name": "python",
      "nbconvert_exporter": "python",
      "pygments_lexer": "ipython3",
      "version": "3.10.16"
    }
  },
  "nbformat": 4,
  "nbformat_minor": 0
}